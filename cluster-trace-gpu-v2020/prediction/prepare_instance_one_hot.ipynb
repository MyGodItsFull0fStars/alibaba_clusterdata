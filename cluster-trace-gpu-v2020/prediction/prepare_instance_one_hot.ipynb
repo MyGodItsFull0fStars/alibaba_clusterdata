{
 "cells": [
  {
   "cell_type": "code",
   "execution_count": 1,
   "metadata": {},
   "outputs": [],
   "source": [
    "import pandas as pd\n",
    "import numpy as np"
   ]
  },
  {
   "cell_type": "code",
   "execution_count": 2,
   "metadata": {},
   "outputs": [],
   "source": [
    "training_df = pd.read_csv('datasets/training_df.csv')\n",
    "index_range_df = pd.read_csv('datasets/instance_cluster_indices.csv', index_col=0)"
   ]
  },
  {
   "cell_type": "code",
   "execution_count": 3,
   "metadata": {},
   "outputs": [
    {
     "data": {
      "text/plain": [
       "0           1\n",
       "1          16\n",
       "2          16\n",
       "3          16\n",
       "4          16\n",
       "           ..\n",
       "1367426    50\n",
       "1367427    50\n",
       "1367428    50\n",
       "1367429    50\n",
       "1367430    50\n",
       "Name: inst_num, Length: 1367431, dtype: int64"
      ]
     },
     "execution_count": 3,
     "metadata": {},
     "output_type": "execute_result"
    }
   ],
   "source": [
    "instances = training_df.inst_num.astype('int')\n",
    "instances"
   ]
  },
  {
   "cell_type": "code",
   "execution_count": 4,
   "metadata": {},
   "outputs": [
    {
     "data": {
      "text/plain": [
       "[(1, 1),\n",
       " (2, 2),\n",
       " (3, 2),\n",
       " (4, 2),\n",
       " (5, 2),\n",
       " (6, 2),\n",
       " (7, 2),\n",
       " (8, 2),\n",
       " (9, 3),\n",
       " (10, 3),\n",
       " (11, 3),\n",
       " (12, 3),\n",
       " (13, 3),\n",
       " (14, 3),\n",
       " (15, 3),\n",
       " (16, 3),\n",
       " (17, 3),\n",
       " (18, 3),\n",
       " (19, 3),\n",
       " (20, 3),\n",
       " (21, 3),\n",
       " (22, 3),\n",
       " (23, 4),\n",
       " (24, 4),\n",
       " (25, 4),\n",
       " (26, 4),\n",
       " (27, 4),\n",
       " (28, 4),\n",
       " (29, 4),\n",
       " (30, 4),\n",
       " (31, 4),\n",
       " (32, 4),\n",
       " (35, 4),\n",
       " (36, 4),\n",
       " (37, 4),\n",
       " (40, 5),\n",
       " (41, 5),\n",
       " (43, 5),\n",
       " (44, 5),\n",
       " (45, 5),\n",
       " (48, 5),\n",
       " (50, 5),\n",
       " (51, 5),\n",
       " (55, 5),\n",
       " (57, 5),\n",
       " (58, 5),\n",
       " (59, 5),\n",
       " (60, 5),\n",
       " (61, 5),\n",
       " (64, 5),\n",
       " (70, 6),\n",
       " (80, 6),\n",
       " (81, 6),\n",
       " (85, 6),\n",
       " (90, 7),\n",
       " (99, 7),\n",
       " (100, 7),\n",
       " (120, 7),\n",
       " (128, 8),\n",
       " (130, 8),\n",
       " (140, 8),\n",
       " (150, 8),\n",
       " (160, 8),\n",
       " (180, 9),\n",
       " (200, 9),\n",
       " (250, 9),\n",
       " (256, 9),\n",
       " (300, 9),\n",
       " (400, 10),\n",
       " (500, 10),\n",
       " (512, 10),\n",
       " (600, 10),\n",
       " (800, 10)]"
      ]
     },
     "execution_count": 4,
     "metadata": {},
     "output_type": "execute_result"
    }
   ],
   "source": [
    "cluster_index_list = list()\n",
    "for idx in range(len(index_range_df)):\n",
    "    current_inst_num = index_range_df.iloc[idx, 0]\n",
    "    current_cluster = index_range_df.iloc[idx, 1]\n",
    "    cluster_index_list.append((current_inst_num, current_cluster))\n",
    "cluster_index_list"
   ]
  },
  {
   "cell_type": "code",
   "execution_count": 5,
   "metadata": {},
   "outputs": [
    {
     "data": {
      "text/plain": [
       "[1, 2, 9, 23, 40, 70, 90, 128, 180, 400]"
      ]
     },
     "execution_count": 5,
     "metadata": {},
     "output_type": "execute_result"
    }
   ],
   "source": [
    "ranges = list()\n",
    "cluster_change = 0\n",
    "for tup in cluster_index_list:\n",
    "    num_inst, cluster_index = tup\n",
    "    if cluster_index != cluster_change:\n",
    "        cluster_change = cluster_index\n",
    "        ranges.append(num_inst)\n",
    "ranges"
   ]
  },
  {
   "cell_type": "code",
   "execution_count": 6,
   "metadata": {},
   "outputs": [],
   "source": [
    "ranges: np.ndarray = np.array([1, 2, 9, 23, 40, 70, 90, 128, 180, 400])"
   ]
  },
  {
   "cell_type": "code",
   "execution_count": 7,
   "metadata": {},
   "outputs": [
    {
     "data": {
      "text/plain": [
       "array([False,  True,  True,  True,  True,  True,  True,  True,  True,\n",
       "        True])"
      ]
     },
     "execution_count": 7,
     "metadata": {},
     "output_type": "execute_result"
    }
   ],
   "source": [
    "(ranges >= 2)"
   ]
  },
  {
   "cell_type": "code",
   "execution_count": 8,
   "metadata": {},
   "outputs": [
    {
     "data": {
      "text/plain": [
       "array([ 1, 16, 16, ..., 50, 50, 50])"
      ]
     },
     "execution_count": 8,
     "metadata": {},
     "output_type": "execute_result"
    }
   ],
   "source": [
    "instances.values"
   ]
  },
  {
   "cell_type": "code",
   "execution_count": 9,
   "metadata": {},
   "outputs": [],
   "source": [
    "ranges: np.ndarray = np.array([1, 2, 9, 23, 40, 70, 90, 128, 180, 400])\n",
    "def get_cluster_index(instance_number: int) -> int:\n",
    "    \n",
    "    # for idx, r in enumerate(ranges):\n",
    "    #     if instance_number <= r:\n",
    "    #         return idx\n",
    "    return -1"
   ]
  },
  {
   "cell_type": "code",
   "execution_count": 10,
   "metadata": {},
   "outputs": [
    {
     "data": {
      "text/plain": [
       "array([False,  True,  True,  True,  True,  True,  True,  True,  True,\n",
       "        True])"
      ]
     },
     "execution_count": 10,
     "metadata": {},
     "output_type": "execute_result"
    }
   ],
   "source": [
    "ranges >= 2"
   ]
  },
  {
   "cell_type": "code",
   "execution_count": 11,
   "metadata": {},
   "outputs": [],
   "source": [
    "from typing import List\n",
    "\n",
    "\n",
    "def get_index_pos(bool_array: np.bool_) -> int:\n",
    "    val =  np.where(bool_array == True)\n",
    "    if val[0].size == 0:\n",
    "        return 10\n",
    "    return val[0][0]\n",
    "\n",
    "index_pos_vec = np.vectorize(get_index_pos)"
   ]
  },
  {
   "cell_type": "code",
   "execution_count": 12,
   "metadata": {},
   "outputs": [
    {
     "data": {
      "text/plain": [
       "1"
      ]
     },
     "execution_count": 12,
     "metadata": {},
     "output_type": "execute_result"
    }
   ],
   "source": [
    "bool_list = np.bool_([0, 1, 1, 1])\n",
    "# print(bool_list.shape)\n",
    "get_index_pos(bool_list)"
   ]
  },
  {
   "cell_type": "code",
   "execution_count": 13,
   "metadata": {},
   "outputs": [
    {
     "data": {
      "text/plain": [
       "10"
      ]
     },
     "execution_count": 13,
     "metadata": {},
     "output_type": "execute_result"
    }
   ],
   "source": [
    "bool_list_test = np.bool_([0, 0])\n",
    "get_index_pos(bool_list_test)"
   ]
  },
  {
   "cell_type": "code",
   "execution_count": 17,
   "metadata": {},
   "outputs": [
    {
     "data": {
      "text/plain": [
       "0           1\n",
       "1          16\n",
       "2          16\n",
       "3          16\n",
       "4          16\n",
       "           ..\n",
       "1367426    50\n",
       "1367427    50\n",
       "1367428    50\n",
       "1367429    50\n",
       "1367430    50\n",
       "Name: inst_num, Length: 1367431, dtype: int64"
      ]
     },
     "execution_count": 17,
     "metadata": {},
     "output_type": "execute_result"
    }
   ],
   "source": [
    "instances"
   ]
  },
  {
   "cell_type": "code",
   "execution_count": 16,
   "metadata": {},
   "outputs": [
    {
     "data": {
      "text/plain": [
       "pandas.core.series.Series"
      ]
     },
     "execution_count": 16,
     "metadata": {},
     "output_type": "execute_result"
    }
   ],
   "source": [
    "instance_indices = instances.apply(lambda x: get_index_pos(x <= ranges))\n",
    "type(instance_indices)"
   ]
  },
  {
   "cell_type": "code",
   "execution_count": 18,
   "metadata": {},
   "outputs": [
    {
     "data": {
      "text/plain": [
       "0          0\n",
       "1          3\n",
       "2          3\n",
       "3          3\n",
       "4          3\n",
       "          ..\n",
       "1367426    5\n",
       "1367427    5\n",
       "1367428    5\n",
       "1367429    5\n",
       "1367430    5\n",
       "Name: inst_num, Length: 1367431, dtype: int64"
      ]
     },
     "execution_count": 18,
     "metadata": {},
     "output_type": "execute_result"
    }
   ],
   "source": [
    "instance_indices"
   ]
  },
  {
   "cell_type": "code",
   "execution_count": null,
   "metadata": {},
   "outputs": [],
   "source": [
    "\n",
    "instance_indices_series = pd.Series(instance_indices)"
   ]
  },
  {
   "cell_type": "code",
   "execution_count": 19,
   "metadata": {},
   "outputs": [
    {
     "data": {
      "text/plain": [
       "pandas.core.frame.DataFrame"
      ]
     },
     "execution_count": 19,
     "metadata": {},
     "output_type": "execute_result"
    }
   ],
   "source": [
    "dummies = pd.get_dummies(instance_indices)\n",
    "type(dummies)"
   ]
  },
  {
   "cell_type": "code",
   "execution_count": 28,
   "metadata": {},
   "outputs": [
    {
     "data": {
      "text/html": [
       "<div>\n",
       "<style scoped>\n",
       "    .dataframe tbody tr th:only-of-type {\n",
       "        vertical-align: middle;\n",
       "    }\n",
       "\n",
       "    .dataframe tbody tr th {\n",
       "        vertical-align: top;\n",
       "    }\n",
       "\n",
       "    .dataframe thead th {\n",
       "        text-align: right;\n",
       "    }\n",
       "</style>\n",
       "<table border=\"1\" class=\"dataframe\">\n",
       "  <thead>\n",
       "    <tr style=\"text-align: right;\">\n",
       "      <th></th>\n",
       "      <th>inst_clust_0</th>\n",
       "      <th>inst_clust_1</th>\n",
       "      <th>inst_clust_2</th>\n",
       "      <th>inst_clust_3</th>\n",
       "      <th>inst_clust_4</th>\n",
       "      <th>inst_clust_5</th>\n",
       "      <th>inst_clust_6</th>\n",
       "      <th>inst_clust_7</th>\n",
       "      <th>inst_clust_8</th>\n",
       "      <th>inst_clust_9</th>\n",
       "      <th>inst_clust_10</th>\n",
       "    </tr>\n",
       "  </thead>\n",
       "  <tbody>\n",
       "    <tr>\n",
       "      <th>0</th>\n",
       "      <td>1</td>\n",
       "      <td>0</td>\n",
       "      <td>0</td>\n",
       "      <td>0</td>\n",
       "      <td>0</td>\n",
       "      <td>0</td>\n",
       "      <td>0</td>\n",
       "      <td>0</td>\n",
       "      <td>0</td>\n",
       "      <td>0</td>\n",
       "      <td>0</td>\n",
       "    </tr>\n",
       "    <tr>\n",
       "      <th>1</th>\n",
       "      <td>0</td>\n",
       "      <td>0</td>\n",
       "      <td>0</td>\n",
       "      <td>1</td>\n",
       "      <td>0</td>\n",
       "      <td>0</td>\n",
       "      <td>0</td>\n",
       "      <td>0</td>\n",
       "      <td>0</td>\n",
       "      <td>0</td>\n",
       "      <td>0</td>\n",
       "    </tr>\n",
       "    <tr>\n",
       "      <th>2</th>\n",
       "      <td>0</td>\n",
       "      <td>0</td>\n",
       "      <td>0</td>\n",
       "      <td>1</td>\n",
       "      <td>0</td>\n",
       "      <td>0</td>\n",
       "      <td>0</td>\n",
       "      <td>0</td>\n",
       "      <td>0</td>\n",
       "      <td>0</td>\n",
       "      <td>0</td>\n",
       "    </tr>\n",
       "    <tr>\n",
       "      <th>3</th>\n",
       "      <td>0</td>\n",
       "      <td>0</td>\n",
       "      <td>0</td>\n",
       "      <td>1</td>\n",
       "      <td>0</td>\n",
       "      <td>0</td>\n",
       "      <td>0</td>\n",
       "      <td>0</td>\n",
       "      <td>0</td>\n",
       "      <td>0</td>\n",
       "      <td>0</td>\n",
       "    </tr>\n",
       "    <tr>\n",
       "      <th>4</th>\n",
       "      <td>0</td>\n",
       "      <td>0</td>\n",
       "      <td>0</td>\n",
       "      <td>1</td>\n",
       "      <td>0</td>\n",
       "      <td>0</td>\n",
       "      <td>0</td>\n",
       "      <td>0</td>\n",
       "      <td>0</td>\n",
       "      <td>0</td>\n",
       "      <td>0</td>\n",
       "    </tr>\n",
       "    <tr>\n",
       "      <th>...</th>\n",
       "      <td>...</td>\n",
       "      <td>...</td>\n",
       "      <td>...</td>\n",
       "      <td>...</td>\n",
       "      <td>...</td>\n",
       "      <td>...</td>\n",
       "      <td>...</td>\n",
       "      <td>...</td>\n",
       "      <td>...</td>\n",
       "      <td>...</td>\n",
       "      <td>...</td>\n",
       "    </tr>\n",
       "    <tr>\n",
       "      <th>1367426</th>\n",
       "      <td>0</td>\n",
       "      <td>0</td>\n",
       "      <td>0</td>\n",
       "      <td>0</td>\n",
       "      <td>0</td>\n",
       "      <td>1</td>\n",
       "      <td>0</td>\n",
       "      <td>0</td>\n",
       "      <td>0</td>\n",
       "      <td>0</td>\n",
       "      <td>0</td>\n",
       "    </tr>\n",
       "    <tr>\n",
       "      <th>1367427</th>\n",
       "      <td>0</td>\n",
       "      <td>0</td>\n",
       "      <td>0</td>\n",
       "      <td>0</td>\n",
       "      <td>0</td>\n",
       "      <td>1</td>\n",
       "      <td>0</td>\n",
       "      <td>0</td>\n",
       "      <td>0</td>\n",
       "      <td>0</td>\n",
       "      <td>0</td>\n",
       "    </tr>\n",
       "    <tr>\n",
       "      <th>1367428</th>\n",
       "      <td>0</td>\n",
       "      <td>0</td>\n",
       "      <td>0</td>\n",
       "      <td>0</td>\n",
       "      <td>0</td>\n",
       "      <td>1</td>\n",
       "      <td>0</td>\n",
       "      <td>0</td>\n",
       "      <td>0</td>\n",
       "      <td>0</td>\n",
       "      <td>0</td>\n",
       "    </tr>\n",
       "    <tr>\n",
       "      <th>1367429</th>\n",
       "      <td>0</td>\n",
       "      <td>0</td>\n",
       "      <td>0</td>\n",
       "      <td>0</td>\n",
       "      <td>0</td>\n",
       "      <td>1</td>\n",
       "      <td>0</td>\n",
       "      <td>0</td>\n",
       "      <td>0</td>\n",
       "      <td>0</td>\n",
       "      <td>0</td>\n",
       "    </tr>\n",
       "    <tr>\n",
       "      <th>1367430</th>\n",
       "      <td>0</td>\n",
       "      <td>0</td>\n",
       "      <td>0</td>\n",
       "      <td>0</td>\n",
       "      <td>0</td>\n",
       "      <td>1</td>\n",
       "      <td>0</td>\n",
       "      <td>0</td>\n",
       "      <td>0</td>\n",
       "      <td>0</td>\n",
       "      <td>0</td>\n",
       "    </tr>\n",
       "  </tbody>\n",
       "</table>\n",
       "<p>1367431 rows × 11 columns</p>\n",
       "</div>"
      ],
      "text/plain": [
       "         inst_clust_0  inst_clust_1  inst_clust_2  inst_clust_3  inst_clust_4  \\\n",
       "0                   1             0             0             0             0   \n",
       "1                   0             0             0             1             0   \n",
       "2                   0             0             0             1             0   \n",
       "3                   0             0             0             1             0   \n",
       "4                   0             0             0             1             0   \n",
       "...               ...           ...           ...           ...           ...   \n",
       "1367426             0             0             0             0             0   \n",
       "1367427             0             0             0             0             0   \n",
       "1367428             0             0             0             0             0   \n",
       "1367429             0             0             0             0             0   \n",
       "1367430             0             0             0             0             0   \n",
       "\n",
       "         inst_clust_5  inst_clust_6  inst_clust_7  inst_clust_8  inst_clust_9  \\\n",
       "0                   0             0             0             0             0   \n",
       "1                   0             0             0             0             0   \n",
       "2                   0             0             0             0             0   \n",
       "3                   0             0             0             0             0   \n",
       "4                   0             0             0             0             0   \n",
       "...               ...           ...           ...           ...           ...   \n",
       "1367426             1             0             0             0             0   \n",
       "1367427             1             0             0             0             0   \n",
       "1367428             1             0             0             0             0   \n",
       "1367429             1             0             0             0             0   \n",
       "1367430             1             0             0             0             0   \n",
       "\n",
       "         inst_clust_10  \n",
       "0                    0  \n",
       "1                    0  \n",
       "2                    0  \n",
       "3                    0  \n",
       "4                    0  \n",
       "...                ...  \n",
       "1367426              0  \n",
       "1367427              0  \n",
       "1367428              0  \n",
       "1367429              0  \n",
       "1367430              0  \n",
       "\n",
       "[1367431 rows x 11 columns]"
      ]
     },
     "execution_count": 28,
     "metadata": {},
     "output_type": "execute_result"
    }
   ],
   "source": [
    "\n",
    "dummies.rename(columns={col: f'inst_clust_{col}' for col in dummies.columns}, inplace=True)\n",
    "dummies"
   ]
  },
  {
   "cell_type": "code",
   "execution_count": 29,
   "metadata": {},
   "outputs": [],
   "source": [
    "inst_df = training_df.join(dummies)\n"
   ]
  },
  {
   "cell_type": "code",
   "execution_count": 55,
   "metadata": {},
   "outputs": [
    {
     "name": "stdout",
     "output_type": "stream",
     "text": [
      "\\begin{tabular}{lrrrr}\n",
      "\\toprule\n",
      "{} &  inst\\_clust\\_0 &  inst\\_clust\\_1 &  inst\\_clust\\_2 &  inst\\_clust\\_3 \\\\\n",
      "\\midrule\n",
      "0 &             1 &             0 &             0 &             0 \\\\\n",
      "1 &             0 &             0 &             0 &             1 \\\\\n",
      "2 &             0 &             0 &             0 &             1 \\\\\n",
      "\\bottomrule\n",
      "\\end{tabular}\n",
      "\n"
     ]
    },
    {
     "name": "stderr",
     "output_type": "stream",
     "text": [
      "/var/folders/dj/hxzphr3j0617vybm1xdwl_tw0000gn/T/ipykernel_62727/1584129217.py:1: FutureWarning: In future versions `DataFrame.to_latex` is expected to utilise the base implementation of `Styler.to_latex` for formatting and rendering. The arguments signature may therefore change. It is recommended instead to use `DataFrame.style.to_latex` which also contains additional functionality.\n",
      "  print(inst_df.iloc[:3,27:31].to_latex(index=True, multirow=True, multicolumn=True))\n"
     ]
    }
   ],
   "source": [
    "print(inst_df.iloc[:3,27:31].to_latex(index=True, multirow=True, multicolumn=True))"
   ]
  },
  {
   "cell_type": "code",
   "execution_count": 108,
   "metadata": {},
   "outputs": [],
   "source": [
    "inst_df.to_csv('datasets/df_instance.csv')"
   ]
  }
 ],
 "metadata": {
  "kernelspec": {
   "display_name": "ml_pytorch",
   "language": "python",
   "name": "python3"
  },
  "language_info": {
   "codemirror_mode": {
    "name": "ipython",
    "version": 3
   },
   "file_extension": ".py",
   "mimetype": "text/x-python",
   "name": "python",
   "nbconvert_exporter": "python",
   "pygments_lexer": "ipython3",
   "version": "3.9.16"
  },
  "orig_nbformat": 4,
  "vscode": {
   "interpreter": {
    "hash": "bc289c9585466324d6bcd715c701435d361dd4760f0e3d7325b29a75549769c1"
   }
  }
 },
 "nbformat": 4,
 "nbformat_minor": 2
}
