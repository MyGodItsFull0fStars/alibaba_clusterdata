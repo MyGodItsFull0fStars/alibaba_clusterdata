{
 "cells": [
  {
   "cell_type": "code",
   "execution_count": 1,
   "metadata": {},
   "outputs": [
    {
     "name": "stderr",
     "output_type": "stream",
     "text": [
      "/home/chrispy/miniconda3/envs/ml_pytorch/lib/python3.9/site-packages/tqdm/auto.py:22: TqdmWarning: IProgress not found. Please update jupyter and ipywidgets. See https://ipywidgets.readthedocs.io/en/stable/user_install.html\n",
      "  from .autonotebook import tqdm as notebook_tqdm\n"
     ]
    }
   ],
   "source": [
    "from lstm_models import LSTM\n",
    "from gpu_dataloader import ForecastDataset, UtilizationDataset\n",
    "from torch.utils.data import DataLoader, SubsetRandomSampler\n",
    "import torch.nn as nn\n",
    "import torch\n",
    "from sklearn.model_selection import train_test_split\n",
    "from sklearn.metrics import mean_squared_error, mean_absolute_error\n",
    "from sklearn.preprocessing import MinMaxScaler, StandardScaler\n",
    "\n",
    "# plotting the data\n",
    "import matplotlib.pyplot as plt\n",
    "# used for the dataframes\n",
    "import pandas as pd\n",
    "from tqdm import tqdm\n",
    "\n",
    "import random\n",
    "\n",
    "from utils import get_device\n",
    "from loss_classes import RMSELoss\n",
    "\n",
    "import numpy as np\n",
    "%matplotlib inline\n",
    "\n",
    "from utils import get_device_as_string, get_device"
   ]
  },
  {
   "cell_type": "code",
   "execution_count": 2,
   "metadata": {},
   "outputs": [],
   "source": [
    "import math\n",
    "\n",
    "def get_rmse(actual_values, predicted_values) -> float:\n",
    "    '''returns the root mean squared error'''\n",
    "    return math.sqrt(mean_squared_error(actual_values, predicted_values))\n",
    "\n",
    "\n",
    "def get_mape(actual_values, predicted_values):\n",
    "    '''returns the mean absolue percentage error'''\n",
    "    return np.mean(np.abs(actual_values - predicted_values) / np.abs(actual_values) * 100)\n",
    "\n",
    "\n",
    "def get_mae(actual_values, predicted_values) -> float:\n",
    "    '''returns the mean absolute error'''\n",
    "    return mean_absolute_error(actual_values, predicted_values)"
   ]
  },
  {
   "cell_type": "code",
   "execution_count": 3,
   "metadata": {},
   "outputs": [],
   "source": [
    "batch_size: int = 1000\n",
    "dataset = UtilizationDataset(small_df=False, batch_size=batch_size)\n",
    "test_set = UtilizationDataset(is_training=False, small_df=True, batch_size=batch_size)"
   ]
  },
  {
   "cell_type": "code",
   "execution_count": 4,
   "metadata": {},
   "outputs": [],
   "source": [
    "num_epochs: int = 100\n",
    "learning_rate: float = 1e-3\n",
    "bidirectional = False\n",
    "\n",
    "# number of features\n",
    "input_size: int = dataset.X.shape[2]\n",
    "# number of features in hidden state\n",
    "hidden_size: int = dataset.X.shape[2] * 320\n",
    "# number of stacked lstm layers\n",
    "num_layers: int = 2\n",
    "# number of output classes\n",
    "num_classes: int = dataset.y.shape[1]\n",
    "\n",
    "device = get_device()\n",
    "\n",
    "INCLUDE_WANDB: bool = False"
   ]
  },
  {
   "cell_type": "code",
   "execution_count": 5,
   "metadata": {},
   "outputs": [],
   "source": [
    "if INCLUDE_WANDB == True:\n",
    "    import wandb\n",
    "    wandb.init(project='Hardware Utilization Prediction')\n",
    "\n",
    "    wandb.config.num_epochs = num_epochs\n",
    "    wandb.config.learning_rate = learning_rate\n",
    "    wandb.config.input_size = input_size\n",
    "    wandb.config.hidden_size = hidden_size\n",
    "    wandb.config.num_layers = num_layers\n",
    "    wandb.config.num_classes = num_classes"
   ]
  },
  {
   "cell_type": "code",
   "execution_count": 6,
   "metadata": {},
   "outputs": [],
   "source": [
    "LOSS: str = 'loss'\n",
    "RMSE_TRAINING: str = 'root mean squared error (training)'\n",
    "MAE_TRAINING: str = 'mean absolute error (training)'\n",
    "\n",
    "if INCLUDE_WANDB:\n",
    "    wandb.define_metric(LOSS, summary='min')\n",
    "    wandb.define_metric(RMSE_TRAINING, summary='min')\n",
    "    wandb.define_metric(MAE_TRAINING, summary='min')"
   ]
  },
  {
   "cell_type": "code",
   "execution_count": 7,
   "metadata": {},
   "outputs": [
    {
     "data": {
      "text/plain": [
       "LSTM(\n",
       "  (init_linear): Linear(in_features=2, out_features=2, bias=True)\n",
       "  (lstm): LSTM(2, 640, batch_first=True)\n",
       "  (dropout): Dropout(p=0.4, inplace=False)\n",
       "  (fc_1): Linear(in_features=640, out_features=512, bias=True)\n",
       "  (fc_2): Linear(in_features=512, out_features=256, bias=True)\n",
       "  (fc_3): Linear(in_features=256, out_features=1, bias=True)\n",
       "  (relu): LeakyReLU(negative_slope=0.01)\n",
       ")"
      ]
     },
     "execution_count": 7,
     "metadata": {},
     "output_type": "execute_result"
    }
   ],
   "source": [
    "lstm = LSTM(num_classes, input_size, hidden_size, num_layers, dataset.X.shape[1], bidirectional=bidirectional)\n",
    "lstm.train()\n",
    "\n",
    "# log gradients and model parameters\n",
    "if INCLUDE_WANDB:\n",
    "    wandb.watch(lstm)\n",
    "\n",
    "lstm"
   ]
  },
  {
   "cell_type": "code",
   "execution_count": 8,
   "metadata": {},
   "outputs": [],
   "source": [
    "# mean square error for regression\n",
    "# nn.\n",
    "criterion = nn.MSELoss()\n",
    "criterion = criterion.to(get_device())\n",
    "# criterion = RMSELoss()\n",
    "# criterion = criterion.to(device)\n",
    "# optimizer function\n",
    "optimizer = torch.optim.AdamW(lstm.parameters(), lr=learning_rate)\n",
    "\n",
    "scheduler = torch.optim.lr_scheduler.ReduceLROnPlateau(\n",
    "    optimizer, patience=50, factor=0.5, min_lr=1e-4, eps=1e-08)\n"
   ]
  },
  {
   "cell_type": "code",
   "execution_count": 9,
   "metadata": {},
   "outputs": [],
   "source": [
    "def log_training_metrics(predictions, labels, loss):\n",
    "    # logging to wandb\n",
    "    if get_device_as_string() == 'cuda' or get_device_as_string() == 'mps':\n",
    "        o = predictions.cpu().detach().numpy()\n",
    "        l = labels.cpu().detach().numpy()\n",
    "    else:\n",
    "        o = predictions.detach().numpy()\n",
    "        l = labels.detach().numpy()\n",
    "    rmse = get_rmse(o, l)\n",
    "    mae = get_mae(o, l)\n",
    "    log_dict: dict = {\n",
    "        LOSS: loss.item(),\n",
    "        RMSE_TRAINING: rmse,\n",
    "        MAE_TRAINING: mae,\n",
    "    }\n",
    "    wandb.log(log_dict)\n",
    "    # print(log_dict)"
   ]
  },
  {
   "cell_type": "code",
   "execution_count": 10,
   "metadata": {},
   "outputs": [],
   "source": [
    "def reorder_dataset(dataset: ForecastDataset, batch_size: int):\n",
    "    batch_order = np.array([batch for batch in range(0, len(dataset), batch_size)], dtype=np.int32)\n",
    "    batch_order = np.random.permutation(batch_order)\n",
    "\n",
    "    dataset_order = np.empty(shape=[0, len(dataset.X)], dtype=np.int32)\n",
    "\n",
    "    for batch in batch_order:\n",
    "        if batch >= len(dataset) - (batch_size - 1):\n",
    "            continue\n",
    "        filled_batch_order = np.arange(batch, batch + batch_size, dtype=np.int32)\n",
    "        dataset_order = np.append(dataset_order, filled_batch_order)\n",
    "        \n",
    "    dataset.X = dataset.X[dataset_order]\n",
    "    dataset.y = dataset.y[dataset_order]"
   ]
  },
  {
   "cell_type": "code",
   "execution_count": 11,
   "metadata": {},
   "outputs": [
    {
     "name": "stderr",
     "output_type": "stream",
     "text": [
      "Training Loop -- Loss: 0.0211:  19%|█▉        | 19/100 [02:54<12:26,  9.22s/it]"
     ]
    }
   ],
   "source": [
    "\n",
    "train_loader = DataLoader(dataset, batch_size=batch_size, shuffle=False, num_workers=10)\n",
    "\n",
    "loss_val = None\n",
    "loss_progression: list = []\n",
    "for epoch in (pbar := tqdm(range(0, num_epochs), desc=f'Training Loop -- Loss: {loss_val}')):\n",
    "\n",
    "    if epoch == (num_epochs // 2):\n",
    "        reorder_dataset(dataset, batch_size)\n",
    "        train_loader = DataLoader(dataset, batch_size=batch_size, shuffle=False, num_workers=8)\n",
    "    \n",
    "    for _, (inputs, labels) in enumerate(train_loader):\n",
    "        inputs, labels = inputs.to(device), labels.to(device)\n",
    "\n",
    "        predictions = lstm(inputs).to(device)\n",
    "\n",
    "        optimizer.zero_grad()\n",
    "        loss = criterion(predictions, labels)\n",
    "        \n",
    "        loss.backward()\n",
    "        optimizer.step()\n",
    "        \n",
    "        \n",
    "    if INCLUDE_WANDB:\n",
    "        log_training_metrics(predictions, labels, loss)\n",
    "    loss_val = loss.item()\n",
    "    loss_progression.append(loss_val)\n",
    "    pbar.set_description(f'Training Loop -- Loss: {loss_val:.4f}')\n",
    "    \n",
    "    with torch.no_grad():\n",
    "        val_pred = lstm(test_set.X.to(device))\n",
    "        val_loss = criterion(val_pred, test_set.y.to(device))\n",
    "        scheduler.step(val_loss)\n",
    "        \n"
   ]
  },
  {
   "cell_type": "code",
   "execution_count": null,
   "metadata": {},
   "outputs": [],
   "source": [
    "loss_df = pd.DataFrame(data=loss_progression)\n",
    "loss_df.plot.line()"
   ]
  },
  {
   "cell_type": "code",
   "execution_count": null,
   "metadata": {},
   "outputs": [],
   "source": [
    "import time\n",
    "\n",
    "current_time = time.ctime()\n",
    "current_time"
   ]
  },
  {
   "cell_type": "markdown",
   "metadata": {},
   "source": [
    "## Save the Model to Disk"
   ]
  },
  {
   "cell_type": "code",
   "execution_count": null,
   "metadata": {},
   "outputs": [],
   "source": [
    "lstm.eval()\n",
    "model_name = f'models/epochs-{num_epochs}-{current_time}'\n",
    "\n",
    "torch.save(\n",
    "    {\n",
    "        'epoch': num_epochs,\n",
    "        'learning_rate': learning_rate,\n",
    "        'input_size': input_size,\n",
    "        'hidden_size': hidden_size,\n",
    "        'num_layers': num_layers,\n",
    "        'num_classes': num_classes,\n",
    "        'model_state_dict': lstm.state_dict(),\n",
    "        'optimizer_state_dict': optimizer.state_dict(),\n",
    "    },\n",
    "    f'{model_name}'\n",
    ")\n"
   ]
  },
  {
   "cell_type": "code",
   "execution_count": null,
   "metadata": {},
   "outputs": [],
   "source": [
    "X_df = dataset.X\n",
    "X_df = X_df.to(device)\n",
    "# forward pass\n",
    "prediction = lstm(X_df)\n",
    "# prediction = prediction.reshape(1, -1)\n",
    "if torch.has_cuda or torch.has_mps:\n",
    "    prediction = prediction.cpu().detach().numpy()\n",
    "\n",
    "else:\n",
    "    prediction = prediction.data.numpy()\n",
    "\n",
    "actual_data = dataset.y.data.numpy()\n",
    "label_columns = dataset._get_label_columns()\n",
    "\n",
    "# create dataframes\n",
    "prediction_df = pd.DataFrame(prediction, columns=label_columns)\n",
    "bla = pd.DataFrame(dataset.X.data.numpy().squeeze(), columns=dataset._get_feature_columns())\n",
    "actual_data_df = pd.DataFrame(actual_data, columns=label_columns)\n",
    "\n",
    "# reverse transformation\n",
    "prediction_df = dataset.y_scaler.inverse_normalization_df(prediction_df)\n",
    "actual_data_df = dataset.y_scaler.inverse_normalization_df(actual_data_df)\n"
   ]
  },
  {
   "cell_type": "code",
   "execution_count": null,
   "metadata": {},
   "outputs": [],
   "source": [
    "plan_df = dataset.X_scaler.convert_tensor_to_df(X_df)\n",
    "plan_df = dataset.X_scaler.inverse_standardize_df(plan_df)\n",
    "plan_df = plan_df[['plan_cpu']]\n",
    "plan_df"
   ]
  },
  {
   "cell_type": "code",
   "execution_count": null,
   "metadata": {},
   "outputs": [],
   "source": [
    "combined_df = pd.merge(actual_data_df, prediction_df, left_index=True, right_index=True)\n",
    "# combined_df.rename()\n",
    "combined_df['plan_cpu'] = plan_df\n",
    "combined_df.plot.line()"
   ]
  },
  {
   "cell_type": "markdown",
   "metadata": {},
   "source": [
    "## Calculate Root Mean Squared Error\n",
    "\n",
    "Calculating the RMSE for the overall prediction of the (training) dataset."
   ]
  },
  {
   "cell_type": "code",
   "execution_count": null,
   "metadata": {},
   "outputs": [],
   "source": [
    "rmse_key: str = 'Root Mean Squared Error (Overall - Training)'\n",
    "rmse_result = get_rmse(actual_data_df[:], prediction_df[:])\n",
    "print(f'Test Score: {rmse_result:.2f} RMSE')\n",
    "if INCLUDE_WANDB:\n",
    "    wandb.summary[rmse_key] = rmse_result"
   ]
  },
  {
   "cell_type": "markdown",
   "metadata": {},
   "source": [
    "## Calculate Mean Absolute Error\n",
    "\n",
    "Calcutlate the MAE for the overall prediction of the (training) dataset."
   ]
  },
  {
   "cell_type": "code",
   "execution_count": null,
   "metadata": {},
   "outputs": [],
   "source": [
    "mae_key: str = 'Mean Absolute Error (Overall - Training)'\n",
    "mae_result = mean_absolute_error(actual_data_df[:], prediction_df[:])\n",
    "print(f'Test Score: {mae_result} MAE')\n",
    "\n",
    "if INCLUDE_WANDB:\n",
    "    wandb.summary[mae_key] = mae_result"
   ]
  },
  {
   "cell_type": "code",
   "execution_count": null,
   "metadata": {},
   "outputs": [],
   "source": [
    "def plot_column(actual_values=actual_data_df, predicted_values=prediction_df, column_number: int = 0, rmse_threshold: float = 0.30, is_training: bool = True):\n",
    "\n",
    "    if len(label_columns) <= column_number:\n",
    "        print('Out of Prediction Bounds')\n",
    "        return\n",
    "\n",
    "    plt.figure(figsize=(25, 15))  # plotting\n",
    "    plt.rcParams.update({'font.size': 22})\n",
    "\n",
    "    column = label_columns[column_number]\n",
    "    pred_column = f\"pred_{column}_{'training' if is_training else 'test'}\"\n",
    "\n",
    "    rmse = get_rmse(actual_values[column], predicted_values[column])\n",
    "    mae = mean_absolute_error(actual_values[column], predicted_values[column])\n",
    "\n",
    "    predicted_color = 'green' if rmse < rmse_threshold else 'orange'\n",
    "\n",
    "    plt.plot(actual_values[column], label=column, color='black')  # actual plot\n",
    "    plt.plot(predicted_values[column], label='pred_' +\n",
    "             column, color=predicted_color)  # predicted plot\n",
    "\n",
    "    plt.title('Time-Series Prediction')\n",
    "    plt.plot([], [], ' ', label=f'RMSE: {rmse}')\n",
    "    plt.plot([], [], ' ', label=f'MAE: {mae}')\n",
    "    plt.legend()\n",
    "    plt.ylabel('timeline', fontsize=25)\n",
    "    \n",
    "    if INCLUDE_WANDB:\n",
    "        wandb.log({pred_column: wandb.Image(plt)})\n",
    "        wandb.summary[f'Root Mean Squared Error ({column})'] = rmse\n",
    "        wandb.summary[f'Mean Absolute Error ({column})'] = mae\n",
    "        \n",
    "    plt.show()\n"
   ]
  },
  {
   "cell_type": "markdown",
   "metadata": {},
   "source": [
    "## See Predictions on Training Dataset"
   ]
  },
  {
   "cell_type": "code",
   "execution_count": null,
   "metadata": {},
   "outputs": [],
   "source": [
    "for idx in range(0, len(label_columns)):\n",
    "    plot_column(actual_values=actual_data_df, predicted_values=prediction_df, column_number=idx)"
   ]
  },
  {
   "cell_type": "code",
   "execution_count": null,
   "metadata": {},
   "outputs": [],
   "source": [
    "# plot_column(actual_values=actual_data_df[7000:8000], predicted_values=prediction_df[7000:8000], column_number=0)"
   ]
  },
  {
   "cell_type": "markdown",
   "metadata": {},
   "source": [
    "## Test Set Analysis\n",
    "\n",
    "Below, the test set will be loaded and the model evaluated with it to see the actual performance."
   ]
  },
  {
   "cell_type": "code",
   "execution_count": null,
   "metadata": {},
   "outputs": [],
   "source": [
    "# test_dataset = GPUDataset(is_training=False, small_df=True, batch_size=batch_size)"
   ]
  },
  {
   "cell_type": "code",
   "execution_count": null,
   "metadata": {},
   "outputs": [],
   "source": [
    "lstm.eval()\n",
    "\n",
    "X_df = test_set.X\n",
    "X_df = X_df.to(device)\n",
    "# forward pass\n",
    "prediction = lstm(X_df)\n",
    "if get_device_as_string() == 'cuda' or get_device_as_string() == 'mps':\n",
    "    prediction = prediction.cpu().data.numpy()\n",
    "else:\n",
    "    prediction = prediction.data.numpy()\n",
    "\n",
    "actual_data = test_set.y.data.numpy()\n",
    "\n",
    "label_columns = test_set._get_label_columns()\n",
    "\n",
    "# create dataframes\n",
    "prediction_df = pd.DataFrame(prediction, columns=label_columns)\n",
    "actual_data_df = pd.DataFrame(actual_data, columns=label_columns)\n",
    "\n",
    "# reverse transformation\n",
    "prediction_df = dataset.y_scaler.inverse_normalization_df(prediction_df)\n",
    "actual_data_df = dataset.y_scaler.inverse_normalization_df(actual_data_df)\n"
   ]
  },
  {
   "cell_type": "code",
   "execution_count": null,
   "metadata": {},
   "outputs": [],
   "source": [
    "test = test_set.X_scaler.convert_tensor_to_df(X_df)"
   ]
  },
  {
   "cell_type": "code",
   "execution_count": null,
   "metadata": {},
   "outputs": [],
   "source": [
    "test = test_set.X_scaler.inverse_standardize_df(test)\n",
    "test = test[['plan_cpu']]\n",
    "test"
   ]
  },
  {
   "cell_type": "code",
   "execution_count": null,
   "metadata": {},
   "outputs": [],
   "source": [
    "actual_data_df['plan_cpu'] = test['plan_cpu']\n",
    "actual_data_df.iloc[0:100].plot.line()\n",
    "actual_data_df"
   ]
  },
  {
   "cell_type": "code",
   "execution_count": null,
   "metadata": {},
   "outputs": [],
   "source": [
    "prediction_df['plan_cpu'] = test['plan_cpu']\n",
    "prediction_df.iloc[0:100].plot.line()"
   ]
  },
  {
   "cell_type": "code",
   "execution_count": null,
   "metadata": {},
   "outputs": [],
   "source": [
    "bla = pd.merge(actual_data_df, prediction_df, left_index=True, right_index=True)\n",
    "bla.drop(columns=['plan_cpu_y'], inplace=True)\n"
   ]
  },
  {
   "cell_type": "code",
   "execution_count": null,
   "metadata": {},
   "outputs": [],
   "source": [
    "\n",
    "bla.iloc[50:100].plot.line(figsize=(25,15))"
   ]
  },
  {
   "cell_type": "code",
   "execution_count": null,
   "metadata": {},
   "outputs": [],
   "source": [
    "rmse_key: str = 'Root Mean Squared Error (Overall - Test)'\n",
    "rmse_result = get_rmse(actual_data_df[:], prediction_df[:])\n",
    "print(f'Test Score: {rmse_result:.2f} RMSE')\n",
    "\n",
    "if INCLUDE_WANDB:\n",
    "    wandb.summary[rmse_key] = rmse_result"
   ]
  },
  {
   "cell_type": "code",
   "execution_count": null,
   "metadata": {},
   "outputs": [],
   "source": [
    "mae_key: str = 'Mean Absolute Error (Overall - Test)'\n",
    "mae_result = mean_absolute_error(actual_data_df[:], prediction_df[:])\n",
    "print(f'Test Score: {mae_result} MAE')\n",
    "if INCLUDE_WANDB:\n",
    "    wandb.summary[mae_key] = mae_result"
   ]
  },
  {
   "cell_type": "code",
   "execution_count": null,
   "metadata": {},
   "outputs": [],
   "source": [
    "for idx in range(0, len(label_columns)):\n",
    "    plot_column(actual_values=actual_data_df, predicted_values=prediction_df, column_number=idx)\n"
   ]
  },
  {
   "cell_type": "code",
   "execution_count": null,
   "metadata": {},
   "outputs": [],
   "source": [
    "# start_idx, end_idx = 9000, 10000\n",
    "# plot_column(actual_values=actual_data_df[start_idx:end_idx], predicted_values=prediction_df[start_idx:end_idx], column_number=0)"
   ]
  }
 ],
 "metadata": {
  "kernelspec": {
   "display_name": "Python 3.9.13 ('ml_pytorch')",
   "language": "python",
   "name": "python3"
  },
  "language_info": {
   "codemirror_mode": {
    "name": "ipython",
    "version": 3
   },
   "file_extension": ".py",
   "mimetype": "text/x-python",
   "name": "python",
   "nbconvert_exporter": "python",
   "pygments_lexer": "ipython3",
   "version": "3.9.13"
  },
  "orig_nbformat": 4,
  "vscode": {
   "interpreter": {
    "hash": "631fa29ff452e796f5703a13b9a25aaedc38e1bbca43d17166395e7a7dc8b7e5"
   }
  }
 },
 "nbformat": 4,
 "nbformat_minor": 2
}
