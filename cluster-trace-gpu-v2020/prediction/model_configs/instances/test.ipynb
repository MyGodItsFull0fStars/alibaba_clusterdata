{
 "cells": [
  {
   "cell_type": "code",
   "execution_count": 3,
   "metadata": {},
   "outputs": [],
   "source": [
    "import yaml\n",
    "from yaml.loader import SafeLoader"
   ]
  },
  {
   "cell_type": "code",
   "execution_count": 6,
   "metadata": {},
   "outputs": [],
   "source": [
    "instance_yaml_path: str = 'utilization_with_instances.yaml'"
   ]
  },
  {
   "cell_type": "code",
   "execution_count": 7,
   "metadata": {},
   "outputs": [],
   "source": [
    "with open(instance_yaml_path) as f:\n",
    "    yaml_config = yaml.load(f, Loader=SafeLoader)\n",
    "    assert yaml_config is not None"
   ]
  },
  {
   "cell_type": "code",
   "execution_count": 8,
   "metadata": {},
   "outputs": [
    {
     "data": {
      "text/plain": [
       "{'dataset': {'small_df': True,\n",
       "  'include_tasks': True,\n",
       "  'include_instance': True,\n",
       "  'batch_size': 2000},\n",
       " 'model': {'name': 'Utilization LSTM Model with Instances',\n",
       "  'save_model': True,\n",
       "  'num_epochs': 100,\n",
       "  'learning_rate': 0.0002,\n",
       "  'hidden_size': 4000,\n",
       "  'num_layers': 2,\n",
       "  'scheduler': {'patience': 50, 'factor': 0.5, 'min_lr': 1e-05, 'eps': 1e-09},\n",
       "  'loss': 'MSE'},\n",
       " 'evaluation_path': {'save_to_file': True,\n",
       "  'loss_progression': 'evaluation/all/loss_progression_with_instances.csv',\n",
       "  'training_prediction_path': 'evaluation/all/util_lstm_train_with_instances.csv',\n",
       "  'test_prediction_path': 'evaluation/all/util_lstm_test_with_instances.csv'}}"
      ]
     },
     "execution_count": 8,
     "metadata": {},
     "output_type": "execute_result"
    }
   ],
   "source": [
    "yaml_config"
   ]
  },
  {
   "cell_type": "code",
   "execution_count": 11,
   "metadata": {},
   "outputs": [],
   "source": [
    "yaml_model_name: str = yaml_config['model']['name']\n",
    "yaml_model_name = yaml_model_name.replace(' ', '_')\n",
    "yaml_model_name = yaml_model_name.lower()\n",
    "model_name = f'models/{yaml_model_name}.pt'"
   ]
  },
  {
   "cell_type": "code",
   "execution_count": 12,
   "metadata": {},
   "outputs": [
    {
     "data": {
      "text/plain": [
       "'models/utilization_lstm_model_with_instances.pt'"
      ]
     },
     "execution_count": 12,
     "metadata": {},
     "output_type": "execute_result"
    }
   ],
   "source": [
    "model_name"
   ]
  }
 ],
 "metadata": {
  "kernelspec": {
   "display_name": "ml_pytorch",
   "language": "python",
   "name": "python3"
  },
  "language_info": {
   "codemirror_mode": {
    "name": "ipython",
    "version": 3
   },
   "file_extension": ".py",
   "mimetype": "text/x-python",
   "name": "python",
   "nbconvert_exporter": "python",
   "pygments_lexer": "ipython3",
   "version": "3.9.16"
  },
  "orig_nbformat": 4
 },
 "nbformat": 4,
 "nbformat_minor": 2
}
