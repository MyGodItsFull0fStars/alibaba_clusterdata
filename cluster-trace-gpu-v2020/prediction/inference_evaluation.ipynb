{
 "cells": [
  {
   "cell_type": "code",
   "execution_count": 1,
   "metadata": {},
   "outputs": [
    {
     "name": "stderr",
     "output_type": "stream",
     "text": [
      "/Users/macbook/opt/miniconda3/envs/ml_pytorch/lib/python3.9/site-packages/tqdm/auto.py:22: TqdmWarning: IProgress not found. Please update jupyter and ipywidgets. See https://ipywidgets.readthedocs.io/en/stable/user_install.html\n",
      "  from .autonotebook import tqdm as notebook_tqdm\n"
     ]
    }
   ],
   "source": [
    "import torch\n",
    "from os import walk\n",
    "import pandas as pd\n",
    "\n",
    "from typing import Any\n",
    "from tqdm import tqdm\n",
    "from timeit import default_timer as timer\n",
    "\n",
    "from torch.utils.data import DataLoader\n",
    "from lstm_models import UtilizationLSTM\n",
    "from gpu_dataloader import UtilizationDataset\n",
    "\n",
    "from utils import get_device, get_rmse, get_mape, symmetric_mean_absolute_percentage_error"
   ]
  },
  {
   "cell_type": "code",
   "execution_count": 2,
   "metadata": {},
   "outputs": [
    {
     "name": "stdout",
     "output_type": "stream",
     "text": [
      "cpu\n"
     ]
    }
   ],
   "source": [
    "device = get_device()\n",
    "print(device)"
   ]
  },
  {
   "cell_type": "code",
   "execution_count": 3,
   "metadata": {},
   "outputs": [],
   "source": [
    "def get_pytorch_files(model_dir: str) -> list[str]:\n",
    "    model_list: list[str] = list()\n",
    "    for (dir_path, _, file_names) in walk(model_dir):\n",
    "        file_names = [f'{dir_path}/{file}' for file in file_names if file.endswith('.pt') and 'batch_size' not in file and 'rmse' not in file]\n",
    "        model_list.extend(file_names)\n",
    "    return model_list"
   ]
  },
  {
   "cell_type": "code",
   "execution_count": 4,
   "metadata": {},
   "outputs": [
    {
     "name": "stdout",
     "output_type": "stream",
     "text": [
      "['models//utilization_lstm_model_with_penalty_loss_function--Wed Mar 29 12:44:31 2023.pt', 'models//utilization_lstm_model_with_tasks--Wed Mar 29 12:55:18 2023.pt', 'models//utilization_lstm_model_without_tasks--Wed Mar 29 12:49:50 2023.pt', 'models//utilization_lstm_model_with_instances--Wed Mar 29 13:00:38 2023.pt']\n"
     ]
    }
   ],
   "source": [
    "model_list: list[str] = get_pytorch_files('models/')\n",
    "print(model_list)"
   ]
  },
  {
   "cell_type": "code",
   "execution_count": 5,
   "metadata": {},
   "outputs": [],
   "source": [
    "def get_model_params_from_path(model_path: str) -> dict[str, Any]:\n",
    "    if torch.cuda.is_available():\n",
    "        return torch.load(model_path)\n",
    "    else:\n",
    "        return torch.load(model_path, map_location=torch.device('cpu'))"
   ]
  },
  {
   "cell_type": "code",
   "execution_count": 6,
   "metadata": {},
   "outputs": [],
   "source": [
    "def get_hyperparams_from_model_params(model_params: dict[str, Any]) -> tuple[str, int, int, int, int, UtilizationLSTM]:\n",
    "    name: str = model_params['name']\n",
    "    input_size: int = model_params['input_size']\n",
    "    hidden_size: int = model_params['hidden_size']\n",
    "    num_layers: int = model_params['num_layers']\n",
    "    num_classes: int = model_params['num_classes']\n",
    "    \n",
    "    model = UtilizationLSTM(input_size, hidden_size, num_layers)\n",
    "    model.load_state_dict(model_params['model_state_dict'])\n",
    "    model.eval()\n",
    "    \n",
    "    return name, input_size, hidden_size, num_layers, num_classes, model"
   ]
  },
  {
   "cell_type": "code",
   "execution_count": 7,
   "metadata": {},
   "outputs": [],
   "source": [
    "small_df: bool = True"
   ]
  },
  {
   "cell_type": "code",
   "execution_count": 8,
   "metadata": {},
   "outputs": [],
   "source": [
    "no_tasks_dataset = UtilizationDataset(is_training=True, small_df=small_df, include_tasks=False, include_instance=False)\n",
    "with_tasks_dataset = UtilizationDataset(is_training=True, small_df=small_df, include_tasks=True, include_instance=False)\n",
    "instance_pmse_dataset = UtilizationDataset(is_training=True, small_df=small_df, include_tasks=True, include_instance=True)"
   ]
  },
  {
   "cell_type": "code",
   "execution_count": 9,
   "metadata": {},
   "outputs": [],
   "source": [
    "batch_sizes: list[int] = [bs for bs in range(100, 2001, 100)]"
   ]
  },
  {
   "cell_type": "code",
   "execution_count": 10,
   "metadata": {},
   "outputs": [],
   "source": [
    "def get_dataset(model_name: str) -> UtilizationDataset:\n",
    "    if 'without_tasks' in model_name:\n",
    "        return no_tasks_dataset\n",
    "    elif 'with_tasks' in model_name:\n",
    "        return with_tasks_dataset\n",
    "    else:\n",
    "        return instance_pmse_dataset"
   ]
  },
  {
   "cell_type": "code",
   "execution_count": 25,
   "metadata": {},
   "outputs": [
    {
     "name": "stdout",
     "output_type": "stream",
     "text": [
      "Starting model models//utilization_lstm_model_with_penalty_loss_function--Wed Mar 29 12:44:31 2023.pt\n"
     ]
    },
    {
     "name": "stderr",
     "output_type": "stream",
     "text": [
      "                                               \r"
     ]
    },
    {
     "name": "stdout",
     "output_type": "stream",
     "text": [
      "Finished model: utilization_lstm_model_with_penalty_loss_function\n",
      "Starting model models//utilization_lstm_model_with_tasks--Wed Mar 29 12:55:18 2023.pt\n"
     ]
    },
    {
     "name": "stderr",
     "output_type": "stream",
     "text": [
      "                                               \r"
     ]
    },
    {
     "name": "stdout",
     "output_type": "stream",
     "text": [
      "Finished model: utilization_lstm_model_with_tasks\n",
      "Starting model models//utilization_lstm_model_without_tasks--Wed Mar 29 12:49:50 2023.pt\n"
     ]
    },
    {
     "name": "stderr",
     "output_type": "stream",
     "text": [
      "                                               \r"
     ]
    },
    {
     "name": "stdout",
     "output_type": "stream",
     "text": [
      "Finished model: utilization_lstm_model_without_tasks\n",
      "Starting model models//utilization_lstm_model_with_instances--Wed Mar 29 13:00:38 2023.pt\n"
     ]
    },
    {
     "name": "stderr",
     "output_type": "stream",
     "text": [
      "                                               \r"
     ]
    },
    {
     "ename": "KeyboardInterrupt",
     "evalue": "",
     "output_type": "error",
     "traceback": [
      "\u001b[0;31m---------------------------------------------------------------------------\u001b[0m",
      "\u001b[0;31mKeyboardInterrupt\u001b[0m                         Traceback (most recent call last)",
      "\u001b[1;32m/Users/macbook/Development/alibaba_clusterdata/cluster-trace-gpu-v2020/prediction/inference_evaluation.ipynb Cell 12\u001b[0m in \u001b[0;36m<cell line: 1>\u001b[0;34m()\u001b[0m\n\u001b[1;32m     <a href='vscode-notebook-cell:/Users/macbook/Development/alibaba_clusterdata/cluster-trace-gpu-v2020/prediction/inference_evaluation.ipynb#X14sZmlsZQ%3D%3D?line=19'>20</a>\u001b[0m start \u001b[39m=\u001b[39m timer()\n\u001b[1;32m     <a href='vscode-notebook-cell:/Users/macbook/Development/alibaba_clusterdata/cluster-trace-gpu-v2020/prediction/inference_evaluation.ipynb#X14sZmlsZQ%3D%3D?line=20'>21</a>\u001b[0m \u001b[39m# forward input to model\u001b[39;00m\n\u001b[0;32m---> <a href='vscode-notebook-cell:/Users/macbook/Development/alibaba_clusterdata/cluster-trace-gpu-v2020/prediction/inference_evaluation.ipynb#X14sZmlsZQ%3D%3D?line=21'>22</a>\u001b[0m predictions \u001b[39m=\u001b[39m model(inputs)\u001b[39m.\u001b[39mto(device)\n\u001b[1;32m     <a href='vscode-notebook-cell:/Users/macbook/Development/alibaba_clusterdata/cluster-trace-gpu-v2020/prediction/inference_evaluation.ipynb#X14sZmlsZQ%3D%3D?line=22'>23</a>\u001b[0m predictions \u001b[39m=\u001b[39m predictions\u001b[39m.\u001b[39mdetach()\u001b[39m.\u001b[39mnumpy()\n\u001b[1;32m     <a href='vscode-notebook-cell:/Users/macbook/Development/alibaba_clusterdata/cluster-trace-gpu-v2020/prediction/inference_evaluation.ipynb#X14sZmlsZQ%3D%3D?line=23'>24</a>\u001b[0m actuals \u001b[39m=\u001b[39m labels\u001b[39m.\u001b[39mdetach()\u001b[39m.\u001b[39mnumpy()\n",
      "File \u001b[0;32m~/opt/miniconda3/envs/ml_pytorch/lib/python3.9/site-packages/torch/nn/modules/module.py:1130\u001b[0m, in \u001b[0;36mModule._call_impl\u001b[0;34m(self, *input, **kwargs)\u001b[0m\n\u001b[1;32m   1126\u001b[0m \u001b[39m# If we don't have any hooks, we want to skip the rest of the logic in\u001b[39;00m\n\u001b[1;32m   1127\u001b[0m \u001b[39m# this function, and just call forward.\u001b[39;00m\n\u001b[1;32m   1128\u001b[0m \u001b[39mif\u001b[39;00m \u001b[39mnot\u001b[39;00m (\u001b[39mself\u001b[39m\u001b[39m.\u001b[39m_backward_hooks \u001b[39mor\u001b[39;00m \u001b[39mself\u001b[39m\u001b[39m.\u001b[39m_forward_hooks \u001b[39mor\u001b[39;00m \u001b[39mself\u001b[39m\u001b[39m.\u001b[39m_forward_pre_hooks \u001b[39mor\u001b[39;00m _global_backward_hooks\n\u001b[1;32m   1129\u001b[0m         \u001b[39mor\u001b[39;00m _global_forward_hooks \u001b[39mor\u001b[39;00m _global_forward_pre_hooks):\n\u001b[0;32m-> 1130\u001b[0m     \u001b[39mreturn\u001b[39;00m forward_call(\u001b[39m*\u001b[39;49m\u001b[39minput\u001b[39;49m, \u001b[39m*\u001b[39;49m\u001b[39m*\u001b[39;49mkwargs)\n\u001b[1;32m   1131\u001b[0m \u001b[39m# Do not call functions when jit is used\u001b[39;00m\n\u001b[1;32m   1132\u001b[0m full_backward_hooks, non_full_backward_hooks \u001b[39m=\u001b[39m [], []\n",
      "File \u001b[0;32m~/Development/alibaba_clusterdata/cluster-trace-gpu-v2020/prediction/lstm_models.py:117\u001b[0m, in \u001b[0;36mUtilizationLSTM.forward\u001b[0;34m(self, input)\u001b[0m\n\u001b[1;32m    114\u001b[0m \u001b[39m# Propagate input through LSTM\u001b[39;00m\n\u001b[1;32m    115\u001b[0m _, (cpu_ht, _) \u001b[39m=\u001b[39m \u001b[39mself\u001b[39m\u001b[39m.\u001b[39mcpu_lstm(cpu_input,\n\u001b[1;32m    116\u001b[0m                                \u001b[39mself\u001b[39m\u001b[39m.\u001b[39mget_hidden_internal_state(\u001b[39minput\u001b[39m))\n\u001b[0;32m--> 117\u001b[0m _, (mem_ht, _) \u001b[39m=\u001b[39m \u001b[39mself\u001b[39;49m\u001b[39m.\u001b[39;49mmem_lstm(mem_input,\n\u001b[1;32m    118\u001b[0m                                \u001b[39mself\u001b[39;49m\u001b[39m.\u001b[39;49mget_hidden_internal_state(\u001b[39minput\u001b[39;49m))\n\u001b[1;32m    120\u001b[0m \u001b[39m# Reshaping the data for the Dense layer\u001b[39;00m\n\u001b[1;32m    121\u001b[0m cpu_ht \u001b[39m=\u001b[39m cpu_ht\u001b[39m.\u001b[39mview(\u001b[39m-\u001b[39m\u001b[39m1\u001b[39m, \u001b[39mself\u001b[39m\u001b[39m.\u001b[39mhidden_size)\n",
      "File \u001b[0;32m~/opt/miniconda3/envs/ml_pytorch/lib/python3.9/site-packages/torch/nn/modules/module.py:1130\u001b[0m, in \u001b[0;36mModule._call_impl\u001b[0;34m(self, *input, **kwargs)\u001b[0m\n\u001b[1;32m   1126\u001b[0m \u001b[39m# If we don't have any hooks, we want to skip the rest of the logic in\u001b[39;00m\n\u001b[1;32m   1127\u001b[0m \u001b[39m# this function, and just call forward.\u001b[39;00m\n\u001b[1;32m   1128\u001b[0m \u001b[39mif\u001b[39;00m \u001b[39mnot\u001b[39;00m (\u001b[39mself\u001b[39m\u001b[39m.\u001b[39m_backward_hooks \u001b[39mor\u001b[39;00m \u001b[39mself\u001b[39m\u001b[39m.\u001b[39m_forward_hooks \u001b[39mor\u001b[39;00m \u001b[39mself\u001b[39m\u001b[39m.\u001b[39m_forward_pre_hooks \u001b[39mor\u001b[39;00m _global_backward_hooks\n\u001b[1;32m   1129\u001b[0m         \u001b[39mor\u001b[39;00m _global_forward_hooks \u001b[39mor\u001b[39;00m _global_forward_pre_hooks):\n\u001b[0;32m-> 1130\u001b[0m     \u001b[39mreturn\u001b[39;00m forward_call(\u001b[39m*\u001b[39;49m\u001b[39minput\u001b[39;49m, \u001b[39m*\u001b[39;49m\u001b[39m*\u001b[39;49mkwargs)\n\u001b[1;32m   1131\u001b[0m \u001b[39m# Do not call functions when jit is used\u001b[39;00m\n\u001b[1;32m   1132\u001b[0m full_backward_hooks, non_full_backward_hooks \u001b[39m=\u001b[39m [], []\n",
      "File \u001b[0;32m~/opt/miniconda3/envs/ml_pytorch/lib/python3.9/site-packages/torch/nn/modules/rnn.py:769\u001b[0m, in \u001b[0;36mLSTM.forward\u001b[0;34m(self, input, hx)\u001b[0m\n\u001b[1;32m    767\u001b[0m \u001b[39mself\u001b[39m\u001b[39m.\u001b[39mcheck_forward_args(\u001b[39minput\u001b[39m, hx, batch_sizes)\n\u001b[1;32m    768\u001b[0m \u001b[39mif\u001b[39;00m batch_sizes \u001b[39mis\u001b[39;00m \u001b[39mNone\u001b[39;00m:\n\u001b[0;32m--> 769\u001b[0m     result \u001b[39m=\u001b[39m _VF\u001b[39m.\u001b[39;49mlstm(\u001b[39minput\u001b[39;49m, hx, \u001b[39mself\u001b[39;49m\u001b[39m.\u001b[39;49m_flat_weights, \u001b[39mself\u001b[39;49m\u001b[39m.\u001b[39;49mbias, \u001b[39mself\u001b[39;49m\u001b[39m.\u001b[39;49mnum_layers,\n\u001b[1;32m    770\u001b[0m                       \u001b[39mself\u001b[39;49m\u001b[39m.\u001b[39;49mdropout, \u001b[39mself\u001b[39;49m\u001b[39m.\u001b[39;49mtraining, \u001b[39mself\u001b[39;49m\u001b[39m.\u001b[39;49mbidirectional, \u001b[39mself\u001b[39;49m\u001b[39m.\u001b[39;49mbatch_first)\n\u001b[1;32m    771\u001b[0m \u001b[39melse\u001b[39;00m:\n\u001b[1;32m    772\u001b[0m     result \u001b[39m=\u001b[39m _VF\u001b[39m.\u001b[39mlstm(\u001b[39minput\u001b[39m, batch_sizes, hx, \u001b[39mself\u001b[39m\u001b[39m.\u001b[39m_flat_weights, \u001b[39mself\u001b[39m\u001b[39m.\u001b[39mbias,\n\u001b[1;32m    773\u001b[0m                       \u001b[39mself\u001b[39m\u001b[39m.\u001b[39mnum_layers, \u001b[39mself\u001b[39m\u001b[39m.\u001b[39mdropout, \u001b[39mself\u001b[39m\u001b[39m.\u001b[39mtraining, \u001b[39mself\u001b[39m\u001b[39m.\u001b[39mbidirectional)\n",
      "\u001b[0;31mKeyboardInterrupt\u001b[0m: "
     ]
    }
   ],
   "source": [
    "for model_path in model_list:\n",
    "    model_params: dict[str, Any] = get_model_params_from_path(model_path)\n",
    "    name, input_size, hidden_size, num_layers, num_classes, model = get_hyperparams_from_model_params(model_params)\n",
    "    print(f'Starting model {name}')\n",
    "    data_set = get_dataset(name)\n",
    "    \n",
    "    model_df: pd.DataFrame = pd.DataFrame(index=batch_sizes, columns=['Total Time', 'Average Time'])\n",
    "    \n",
    "    for bs in batch_sizes:\n",
    "        data_loader = DataLoader(dataset=data_set, batch_size=bs, shuffle=False, num_workers=10)\n",
    "\n",
    "        inference_times: list[float] = list()\n",
    "        \n",
    "        for _, (inputs, labels) in enumerate(tqdm(data_loader, leave=False)):\n",
    "            # send input and label to device\n",
    "            inputs, labels = inputs.to(device), labels.to(device)\n",
    "            start = timer()\n",
    "            # forward input to model\n",
    "            predictions = model(inputs).to(device)\n",
    "            end = timer()\n",
    "            inference_times.append(end - start)\n",
    "    \n",
    "        total_time = sum(inference_times)\n",
    "        average_time = total_time / len(inference_times)\n",
    "        \n",
    "        model_df.loc[bs] = total_time, average_time\n",
    "        \n",
    "    model_df.to_csv(f'./evaluation/inference/{name}_inference.csv')\n",
    "    \n",
    "    print(f'Finished model: {name}')"
   ]
  }
 ],
 "metadata": {
  "kernelspec": {
   "display_name": "ml_pytorch",
   "language": "python",
   "name": "python3"
  },
  "language_info": {
   "codemirror_mode": {
    "name": "ipython",
    "version": 3
   },
   "file_extension": ".py",
   "mimetype": "text/x-python",
   "name": "python",
   "nbconvert_exporter": "python",
   "pygments_lexer": "ipython3",
   "version": "3.9.16"
  },
  "orig_nbformat": 4
 },
 "nbformat": 4,
 "nbformat_minor": 2
}
