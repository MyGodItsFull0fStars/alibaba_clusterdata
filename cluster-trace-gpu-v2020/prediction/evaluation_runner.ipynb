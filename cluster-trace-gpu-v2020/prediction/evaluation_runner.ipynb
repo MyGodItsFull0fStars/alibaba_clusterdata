{
 "cells": [
  {
   "cell_type": "code",
   "execution_count": 1,
   "metadata": {},
   "outputs": [],
   "source": [
    "from os import walk\n",
    "import subprocess"
   ]
  },
  {
   "cell_type": "code",
   "execution_count": 2,
   "metadata": {},
   "outputs": [],
   "source": [
    "model_configuration_path: str = './model_configs'"
   ]
  },
  {
   "cell_type": "code",
   "execution_count": 3,
   "metadata": {},
   "outputs": [],
   "source": [
    "config_files: list[str] = list()"
   ]
  },
  {
   "cell_type": "code",
   "execution_count": 4,
   "metadata": {},
   "outputs": [
    {
     "name": "stdout",
     "output_type": "stream",
     "text": [
      "./model_configs ['loss_function', 'batch_size', 'instances', 'tasks_vs_no_tasks'] []\n",
      "./model_configs/loss_function [] ['utilisation_penalty.yaml', 'utilisation_rmse.yaml']\n",
      "./model_configs/batch_size [] ['large_batch_size.yaml', 'small_batch_size.yaml', 'medium_batch_size.yaml']\n",
      "./model_configs/instances [] ['utilization_with_instances.yaml']\n",
      "./model_configs/tasks_vs_no_tasks [] ['utilization_no_tasks.yaml', 'utilization_with_tasks.yaml']\n"
     ]
    }
   ],
   "source": [
    "for (dir_path, dir_names, file_names) in walk(model_configuration_path):\n",
    "    print(dir_path, dir_names, file_names)\n",
    "    file_names = [f'{dir_path}/{file}' for file in file_names]\n",
    "    config_files.extend(file_names)"
   ]
  },
  {
   "cell_type": "code",
   "execution_count": 5,
   "metadata": {},
   "outputs": [
    {
     "data": {
      "text/plain": [
       "['./model_configs/loss_function/utilisation_penalty.yaml',\n",
       " './model_configs/loss_function/utilisation_rmse.yaml',\n",
       " './model_configs/batch_size/large_batch_size.yaml',\n",
       " './model_configs/batch_size/small_batch_size.yaml',\n",
       " './model_configs/batch_size/medium_batch_size.yaml',\n",
       " './model_configs/instances/utilization_with_instances.yaml',\n",
       " './model_configs/tasks_vs_no_tasks/utilization_no_tasks.yaml',\n",
       " './model_configs/tasks_vs_no_tasks/utilization_with_tasks.yaml']"
      ]
     },
     "execution_count": 5,
     "metadata": {},
     "output_type": "execute_result"
    }
   ],
   "source": [
    "config_files"
   ]
  },
  {
   "cell_type": "code",
   "execution_count": 7,
   "metadata": {},
   "outputs": [
    {
     "name": "stdout",
     "output_type": "stream",
     "text": [
      "import libraries\n",
      "./model_configs/loss_function/utilisation_penalty.yaml\n",
      "load datasets\n",
      "Feature Set shape: torch.Size([5000, 1, 27])\n",
      "Label Set shape: torch.Size([5000, 2])\n",
      "init model parameters\n",
      "input_size: 27, hidden_size: 4000, num_layers: 2, num_classes: 2\n",
      "init model\n",
      "init loss, optimizer and scheduler\n",
      "criterion: PenaltyMSELoss\n",
      "init train dataloader\n",
      "False\n",
      "<class 'bool'>\n",
      "fuck you\n",
      "import libraries\n",
      "./model_configs/loss_function/utilisation_rmse.yaml\n",
      "load datasets\n",
      "Feature Set shape: torch.Size([5000, 1, 27])\n",
      "Label Set shape: torch.Size([5000, 2])\n",
      "init model parameters\n",
      "input_size: 27, hidden_size: 4000, num_layers: 2, num_classes: 2\n",
      "init model\n",
      "init loss, optimizer and scheduler\n",
      "criterion: RMSELoss\n",
      "init train dataloader\n",
      "False\n",
      "<class 'bool'>\n",
      "fuck you\n"
     ]
    }
   ],
   "source": [
    "for config in config_files[:2]:\n",
    "    subprocess.run(['python', 'lstm_timestamp_prediction.py', f'--config={config}', f'--no-dry-run'])"
   ]
  },
  {
   "cell_type": "code",
   "execution_count": null,
   "metadata": {},
   "outputs": [],
   "source": []
  }
 ],
 "metadata": {
  "kernelspec": {
   "display_name": "ml_pytorch",
   "language": "python",
   "name": "python3"
  },
  "language_info": {
   "codemirror_mode": {
    "name": "ipython",
    "version": 3
   },
   "file_extension": ".py",
   "mimetype": "text/x-python",
   "name": "python",
   "nbconvert_exporter": "python",
   "pygments_lexer": "ipython3",
   "version": "3.9.16"
  },
  "orig_nbformat": 4,
  "vscode": {
   "interpreter": {
    "hash": "bc289c9585466324d6bcd715c701435d361dd4760f0e3d7325b29a75549769c1"
   }
  }
 },
 "nbformat": 4,
 "nbformat_minor": 2
}
