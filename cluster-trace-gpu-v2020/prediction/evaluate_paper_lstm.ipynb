{
 "cells": [
  {
   "cell_type": "code",
   "execution_count": null,
   "metadata": {},
   "outputs": [],
   "source": [
    "import numpy as np\n",
    "import pandas as pd\n",
    "\n",
    "import tensorflow as tf\n",
    "from tensorflow.keras import Model, Sequential, layers\n",
    "from tensorflow.keras.layers import (LSTM, Concatenate, Dense, Input, Maximum,\n",
    "                                     Multiply, Reshape, Subtract,\n",
    "                                     TimeDistributed)\n",
    "from tensorflow.keras.utils import plot_model\n",
    "\n",
    "# https://www.tensorflow.org/guide/keras/train_and_evaluate\n",
    "# https://www.tensorflow.org/tutorials/structured_data/feature_columns"
   ]
  },
  {
   "cell_type": "code",
   "execution_count": null,
   "metadata": {},
   "outputs": [],
   "source": [
    "memory_size = 20  # 20, 40, 60\n",
    "time_scale = 3600"
   ]
  },
  {
   "cell_type": "code",
   "execution_count": null,
   "metadata": {},
   "outputs": [],
   "source": [
    "inputLayer = Input(shape=(4, 1), name='input')\n",
    "cpu = Dense(time_scale, name='CPU')(inputLayer)\n",
    "cpu_lstm = LSTM(memory_size)(cpu)\n",
    "memory = Dense(time_scale, name='Memory')(inputLayer)\n",
    "memory_lstm = LSTM(memory_size)(memory)\n",
    "\n",
    "mul1 = Multiply()([cpu_lstm, memory_lstm])\n",
    "\n",
    "allocated0 = Dense(time_scale, name='Allocated')(mul1)\n",
    "allocated = Reshape((time_scale, 1), input_shape=(time_scale,))(allocated0)\n",
    "allocated_lstm = LSTM(memory_size)(allocated)\n",
    "used0 = Dense(time_scale, name='Used')(mul1)\n",
    "used = Reshape((time_scale, 1), input_shape=(time_scale,))(used0)\n",
    "used_lstm = LSTM(memory_size)(used)\n",
    "\n",
    "mul2 = Multiply()([allocated_lstm, used_lstm])\n",
    "\n",
    "dense1 = Dense(time_scale, name='Dense1')(mul2)\n",
    "dense2 = Dense(time_scale, name='Dense2')(mul2)\n",
    "\n",
    "model = Model(inputs=[inputLayer], outputs=[dense1, dense2])"
   ]
  },
  {
   "cell_type": "code",
   "execution_count": null,
   "metadata": {},
   "outputs": [],
   "source": [
    "X_df = pd.read_csv('./datasets/standardized_feature_df.csv', index_col=0)\n",
    "X_df"
   ]
  },
  {
   "cell_type": "code",
   "execution_count": null,
   "metadata": {},
   "outputs": [],
   "source": [
    "y_df = pd.read_csv('./datasets/normalized_label_df.csv', index_col=0)\n",
    "y_df"
   ]
  },
  {
   "cell_type": "code",
   "execution_count": null,
   "metadata": {},
   "outputs": [],
   "source": [
    "from pandas import DataFrame\n",
    "\n",
    "\n",
    "def df_to_dataset(feature_df: DataFrame, label_df: DataFrame, shuffle: bool = True, batch_size: int = 32):\n",
    "    # feature_tensor = tf.convert_to_tensor(feature_df)\n",
    "    # label_tensor = tf.convert_to_tensor(label_df)\n",
    "    # feature_df = feature_df.copy()\n",
    "    # label_df = label_df.copy()\n",
    "    # dataset = tf.data.Dataset.from_tensor_slices((feature_tensor, label_tensor))\n",
    "    \n",
    "    dataset = tf.data.Dataset.from_tensor_slices((dict(feature_df), dict(label_df)))\n",
    "    \n",
    "    if shuffle:\n",
    "        dataset = dataset.shuffle(buffer_size=len(dataset))\n",
    "    dataset = dataset.batch(batch_size)\n",
    "    return dataset\n",
    "    "
   ]
  },
  {
   "cell_type": "code",
   "execution_count": null,
   "metadata": {},
   "outputs": [],
   "source": [
    "train_dataset = df_to_dataset(X_df, y_df)\n",
    "train_dataset"
   ]
  },
  {
   "cell_type": "code",
   "execution_count": null,
   "metadata": {},
   "outputs": [],
   "source": [
    "for feature_batch, label_batch in train_dataset.take(1):\n",
    "    print(f'Every feature: {feature_batch.keys()}')\n",
    "    print(f'Every label: {label_batch.keys()}')\n",
    "    \n",
    "feature_batch, label_batch in train_dataset.take(1)"
   ]
  },
  {
   "cell_type": "code",
   "execution_count": null,
   "metadata": {},
   "outputs": [],
   "source": [
    "X_tensor = tf.convert_to_tensor(X_df)\n",
    "y_tensor = tf.convert_to_tensor(y_df)"
   ]
  },
  {
   "cell_type": "code",
   "execution_count": null,
   "metadata": {},
   "outputs": [],
   "source": [
    "model.compile(optimizer='adam', loss=tf.keras.losses.MAE)\n",
    "model.fit(X_tensor, y_tensor, epochs=3, batch_size=32)"
   ]
  },
  {
   "cell_type": "markdown",
   "metadata": {},
   "source": [
    "### Tensorflow Error Output\n",
    "\n",
    "![tf-error](./figures/tensorflow_error_output.png)"
   ]
  }
 ],
 "metadata": {
  "kernelspec": {
   "display_name": "Python 3.9.12 ('ml_pytorch')",
   "language": "python",
   "name": "python3"
  },
  "language_info": {
   "codemirror_mode": {
    "name": "ipython",
    "version": 3
   },
   "file_extension": ".py",
   "mimetype": "text/x-python",
   "name": "python",
   "nbconvert_exporter": "python",
   "pygments_lexer": "ipython3",
   "version": "3.9.12"
  },
  "orig_nbformat": 4,
  "vscode": {
   "interpreter": {
    "hash": "bc289c9585466324d6bcd715c701435d361dd4760f0e3d7325b29a75549769c1"
   }
  }
 },
 "nbformat": 4,
 "nbformat_minor": 2
}
