{
 "cells": [
  {
   "cell_type": "code",
   "execution_count": 10,
   "metadata": {},
   "outputs": [],
   "source": [
    "import pandas as pd\n",
    "import numpy as np\n",
    "\n",
    "from evaluation_scenario import EvaluationMetrics"
   ]
  },
  {
   "cell_type": "code",
   "execution_count": 11,
   "metadata": {},
   "outputs": [],
   "source": [
    "a = pd.Series([i for i in range(0, 10)])\n",
    "p = pd.Series([i for i in range(1, 11)])"
   ]
  },
  {
   "cell_type": "code",
   "execution_count": 12,
   "metadata": {},
   "outputs": [
    {
     "data": {
      "text/html": [
       "<div>\n",
       "<style scoped>\n",
       "    .dataframe tbody tr th:only-of-type {\n",
       "        vertical-align: middle;\n",
       "    }\n",
       "\n",
       "    .dataframe tbody tr th {\n",
       "        vertical-align: top;\n",
       "    }\n",
       "\n",
       "    .dataframe thead th {\n",
       "        text-align: right;\n",
       "    }\n",
       "</style>\n",
       "<table border=\"1\" class=\"dataframe\">\n",
       "  <thead>\n",
       "    <tr style=\"text-align: right;\">\n",
       "      <th></th>\n",
       "      <th>RMSE</th>\n",
       "      <th>MAPE</th>\n",
       "      <th>SMAPE</th>\n",
       "      <th>OA</th>\n",
       "      <th>UA</th>\n",
       "    </tr>\n",
       "  </thead>\n",
       "  <tbody>\n",
       "    <tr>\n",
       "      <th>metrics</th>\n",
       "      <td>1.0</td>\n",
       "      <td>30.511905</td>\n",
       "      <td>24.887333</td>\n",
       "      <td>100.0</td>\n",
       "      <td>0.0</td>\n",
       "    </tr>\n",
       "  </tbody>\n",
       "</table>\n",
       "</div>"
      ],
      "text/plain": [
       "         RMSE       MAPE      SMAPE     OA   UA\n",
       "metrics   1.0  30.511905  24.887333  100.0  0.0"
      ]
     },
     "execution_count": 12,
     "metadata": {},
     "output_type": "execute_result"
    }
   ],
   "source": [
    "EvaluationMetrics.get_all_metrics(a, p)"
   ]
  },
  {
   "cell_type": "markdown",
   "metadata": {},
   "source": []
  },
  {
   "cell_type": "code",
   "execution_count": 13,
   "metadata": {},
   "outputs": [
    {
     "data": {
      "text/plain": [
       "30.511904761904763"
      ]
     },
     "execution_count": 13,
     "metadata": {},
     "output_type": "execute_result"
    }
   ],
   "source": [
    "EvaluationMetrics.mean_absolute_percentage_error(a, p)"
   ]
  },
  {
   "cell_type": "code",
   "execution_count": 14,
   "metadata": {},
   "outputs": [
    {
     "data": {
      "text/plain": [
       "1.0"
      ]
     },
     "execution_count": 14,
     "metadata": {},
     "output_type": "execute_result"
    }
   ],
   "source": [
    "EvaluationMetrics.get_mse(a, p)"
   ]
  },
  {
   "cell_type": "code",
   "execution_count": 15,
   "metadata": {},
   "outputs": [
    {
     "data": {
      "text/plain": [
       "1.0"
      ]
     },
     "execution_count": 15,
     "metadata": {},
     "output_type": "execute_result"
    }
   ],
   "source": [
    "EvaluationMetrics.get_rmse(a, p)"
   ]
  },
  {
   "cell_type": "code",
   "execution_count": 16,
   "metadata": {},
   "outputs": [
    {
     "data": {
      "text/plain": [
       "24.88733282541332"
      ]
     },
     "execution_count": 16,
     "metadata": {},
     "output_type": "execute_result"
    }
   ],
   "source": [
    "EvaluationMetrics.symmetric_mean_absolute_percentage_error(a, p)"
   ]
  },
  {
   "cell_type": "code",
   "execution_count": 21,
   "metadata": {},
   "outputs": [
    {
     "data": {
      "text/html": [
       "<div>\n",
       "<style scoped>\n",
       "    .dataframe tbody tr th:only-of-type {\n",
       "        vertical-align: middle;\n",
       "    }\n",
       "\n",
       "    .dataframe tbody tr th {\n",
       "        vertical-align: top;\n",
       "    }\n",
       "\n",
       "    .dataframe thead th {\n",
       "        text-align: right;\n",
       "    }\n",
       "</style>\n",
       "<table border=\"1\" class=\"dataframe\">\n",
       "  <thead>\n",
       "    <tr style=\"text-align: right;\">\n",
       "      <th></th>\n",
       "      <th>actual cpu usage</th>\n",
       "      <th>actual mem usage</th>\n",
       "      <th>predicted cpu usage</th>\n",
       "      <th>predicted mem usage</th>\n",
       "      <th>allocated cpu</th>\n",
       "      <th>allocated mem</th>\n",
       "    </tr>\n",
       "  </thead>\n",
       "  <tbody>\n",
       "    <tr>\n",
       "      <th>0</th>\n",
       "      <td>773.050842</td>\n",
       "      <td>20.825195</td>\n",
       "      <td>221.356766</td>\n",
       "      <td>87.139938</td>\n",
       "      <td>400.000031</td>\n",
       "      <td>10.000000</td>\n",
       "    </tr>\n",
       "    <tr>\n",
       "      <th>1</th>\n",
       "      <td>608.671021</td>\n",
       "      <td>29.648438</td>\n",
       "      <td>668.219666</td>\n",
       "      <td>47.378555</td>\n",
       "      <td>600.000000</td>\n",
       "      <td>29.296875</td>\n",
       "    </tr>\n",
       "    <tr>\n",
       "      <th>2</th>\n",
       "      <td>608.102478</td>\n",
       "      <td>29.830078</td>\n",
       "      <td>668.219666</td>\n",
       "      <td>47.378555</td>\n",
       "      <td>600.000000</td>\n",
       "      <td>29.296875</td>\n",
       "    </tr>\n",
       "    <tr>\n",
       "      <th>3</th>\n",
       "      <td>385.129120</td>\n",
       "      <td>29.396484</td>\n",
       "      <td>668.219666</td>\n",
       "      <td>47.378555</td>\n",
       "      <td>600.000000</td>\n",
       "      <td>29.296875</td>\n",
       "    </tr>\n",
       "    <tr>\n",
       "      <th>4</th>\n",
       "      <td>614.094116</td>\n",
       "      <td>29.597656</td>\n",
       "      <td>668.219666</td>\n",
       "      <td>47.378555</td>\n",
       "      <td>600.000000</td>\n",
       "      <td>29.296875</td>\n",
       "    </tr>\n",
       "    <tr>\n",
       "      <th>...</th>\n",
       "      <td>...</td>\n",
       "      <td>...</td>\n",
       "      <td>...</td>\n",
       "      <td>...</td>\n",
       "      <td>...</td>\n",
       "      <td>...</td>\n",
       "    </tr>\n",
       "    <tr>\n",
       "      <th>4995</th>\n",
       "      <td>23.076925</td>\n",
       "      <td>0.512695</td>\n",
       "      <td>7.411557</td>\n",
       "      <td>0.055029</td>\n",
       "      <td>600.000000</td>\n",
       "      <td>29.296875</td>\n",
       "    </tr>\n",
       "    <tr>\n",
       "      <th>4996</th>\n",
       "      <td>22.769234</td>\n",
       "      <td>0.525391</td>\n",
       "      <td>7.411557</td>\n",
       "      <td>0.055029</td>\n",
       "      <td>600.000000</td>\n",
       "      <td>29.296875</td>\n",
       "    </tr>\n",
       "    <tr>\n",
       "      <th>4997</th>\n",
       "      <td>19.000000</td>\n",
       "      <td>0.522461</td>\n",
       "      <td>7.411557</td>\n",
       "      <td>0.055029</td>\n",
       "      <td>600.000000</td>\n",
       "      <td>29.296875</td>\n",
       "    </tr>\n",
       "    <tr>\n",
       "      <th>4998</th>\n",
       "      <td>23.812502</td>\n",
       "      <td>0.531250</td>\n",
       "      <td>7.411557</td>\n",
       "      <td>0.055029</td>\n",
       "      <td>600.000000</td>\n",
       "      <td>29.296875</td>\n",
       "    </tr>\n",
       "    <tr>\n",
       "      <th>4999</th>\n",
       "      <td>21.833334</td>\n",
       "      <td>0.535156</td>\n",
       "      <td>7.411557</td>\n",
       "      <td>0.055029</td>\n",
       "      <td>600.000000</td>\n",
       "      <td>29.296875</td>\n",
       "    </tr>\n",
       "  </tbody>\n",
       "</table>\n",
       "<p>5000 rows × 6 columns</p>\n",
       "</div>"
      ],
      "text/plain": [
       "      actual cpu usage  actual mem usage  predicted cpu usage  \\\n",
       "0           773.050842         20.825195           221.356766   \n",
       "1           608.671021         29.648438           668.219666   \n",
       "2           608.102478         29.830078           668.219666   \n",
       "3           385.129120         29.396484           668.219666   \n",
       "4           614.094116         29.597656           668.219666   \n",
       "...                ...               ...                  ...   \n",
       "4995         23.076925          0.512695             7.411557   \n",
       "4996         22.769234          0.525391             7.411557   \n",
       "4997         19.000000          0.522461             7.411557   \n",
       "4998         23.812502          0.531250             7.411557   \n",
       "4999         21.833334          0.535156             7.411557   \n",
       "\n",
       "      predicted mem usage  allocated cpu  allocated mem  \n",
       "0               87.139938     400.000031      10.000000  \n",
       "1               47.378555     600.000000      29.296875  \n",
       "2               47.378555     600.000000      29.296875  \n",
       "3               47.378555     600.000000      29.296875  \n",
       "4               47.378555     600.000000      29.296875  \n",
       "...                   ...            ...            ...  \n",
       "4995             0.055029     600.000000      29.296875  \n",
       "4996             0.055029     600.000000      29.296875  \n",
       "4997             0.055029     600.000000      29.296875  \n",
       "4998             0.055029     600.000000      29.296875  \n",
       "4999             0.055029     600.000000      29.296875  \n",
       "\n",
       "[5000 rows x 6 columns]"
      ]
     },
     "execution_count": 21,
     "metadata": {},
     "output_type": "execute_result"
    }
   ],
   "source": [
    "pd.read_csv('../evaluation/all/util_lstm_train_with_instances.csv', index_col=0)"
   ]
  }
 ],
 "metadata": {
  "kernelspec": {
   "display_name": "ml_pytorch",
   "language": "python",
   "name": "python3"
  },
  "language_info": {
   "codemirror_mode": {
    "name": "ipython",
    "version": 3
   },
   "file_extension": ".py",
   "mimetype": "text/x-python",
   "name": "python",
   "nbconvert_exporter": "python",
   "pygments_lexer": "ipython3",
   "version": "3.9.16"
  },
  "orig_nbformat": 4
 },
 "nbformat": 4,
 "nbformat_minor": 2
}
