{
 "cells": [
  {
   "cell_type": "code",
   "execution_count": 1,
   "metadata": {},
   "outputs": [],
   "source": [
    "import pandas as pd\n",
    "from evaluation_scenario import EvaluationScenario, EvaluationScenarioCollection, EvaluationUtils, EvaluationMetrics\n",
    "from evaluation_utils import get_all_files_in_path"
   ]
  },
  {
   "cell_type": "code",
   "execution_count": 2,
   "metadata": {},
   "outputs": [],
   "source": [
    "evaluations_paths: str = '../evaluation/all'"
   ]
  },
  {
   "cell_type": "code",
   "execution_count": 3,
   "metadata": {},
   "outputs": [],
   "source": [
    "evaluation_file_paths: list[str] = get_all_files_in_path(evaluations_paths, '.csv')"
   ]
  },
  {
   "cell_type": "code",
   "execution_count": 4,
   "metadata": {},
   "outputs": [
    {
     "data": {
      "text/plain": [
       "['../evaluation/all/util_lstm_train_with_penalty_loss.csv',\n",
       " '../evaluation/all/loss_progression_with_tasks.csv',\n",
       " '../evaluation/all/loss_progression_with_no_tasks.csv',\n",
       " '../evaluation/all/loss_progression_with_small_batch_size.csv',\n",
       " '../evaluation/all/util_lstm_train_with_small_batch_size.csv',\n",
       " '../evaluation/all/util_lstm_train_with_no_tasks.csv',\n",
       " '../evaluation/all/util_lstm_test_with_small_batch_size.csv',\n",
       " '../evaluation/all/util_lstm_train_with_medium_batch_size.csv',\n",
       " '../evaluation/all/util_lstm_train_with_instances.csv',\n",
       " '../evaluation/all/loss_progression_with_medium_batch_size.csv',\n",
       " '../evaluation/all/loss_progression_with_penalty_loss.csv',\n",
       " '../evaluation/all/util_lstm_test_with_tasks.csv',\n",
       " '../evaluation/all/util_lstm_train_with_rmse_loss.csv',\n",
       " '../evaluation/all/loss_progression_with_instances.csv',\n",
       " '../evaluation/all/util_lstm_test_with_instances.csv',\n",
       " '../evaluation/all/util_lstm_test_with_no_tasks.csv',\n",
       " '../evaluation/all/loss_progression_with_rmse_loss.csv',\n",
       " '../evaluation/all/util_lstm_test_with_rmse_loss.csv',\n",
       " '../evaluation/all/util_lstm_test_with_large_batch_size.csv',\n",
       " '../evaluation/all/loss_progression_with_large_batch_size.csv',\n",
       " '../evaluation/all/util_lstm_train_with_large_batch_size.csv',\n",
       " '../evaluation/all/util_lstm_train_with_tasks.csv',\n",
       " '../evaluation/all/util_lstm_test_with_medium_batch_size.csv',\n",
       " '../evaluation/all/util_lstm_test_with_penalty_loss.csv']"
      ]
     },
     "execution_count": 4,
     "metadata": {},
     "output_type": "execute_result"
    }
   ],
   "source": [
    "evaluation_file_paths"
   ]
  },
  {
   "cell_type": "code",
   "execution_count": 5,
   "metadata": {},
   "outputs": [],
   "source": [
    "evaluation_collection = EvaluationScenarioCollection(evaluation_file_paths)\n",
    "evaluations: dict[str, EvaluationScenario] = evaluation_collection.evaluation_collection"
   ]
  },
  {
   "cell_type": "code",
   "execution_count": 6,
   "metadata": {},
   "outputs": [
    {
     "data": {
      "text/plain": [
       "{'with_penalty_loss': EvaluationScenario(name='with_penalty_loss'),\n",
       " 'with_tasks': EvaluationScenario(name='with_tasks'),\n",
       " 'with_no_tasks': EvaluationScenario(name='with_no_tasks'),\n",
       " 'with_small_batch_size': EvaluationScenario(name='with_small_batch_size'),\n",
       " 'with_medium_batch_size': EvaluationScenario(name='with_medium_batch_size'),\n",
       " 'with_instances': EvaluationScenario(name='with_instances'),\n",
       " 'with_rmse_loss': EvaluationScenario(name='with_rmse_loss'),\n",
       " 'with_large_batch_size': EvaluationScenario(name='with_large_batch_size')}"
      ]
     },
     "execution_count": 6,
     "metadata": {},
     "output_type": "execute_result"
    }
   ],
   "source": [
    "evaluations"
   ]
  },
  {
   "cell_type": "code",
   "execution_count": 18,
   "metadata": {},
   "outputs": [],
   "source": [
    "no_tasks_eval: EvaluationScenario = evaluations['with_no_tasks']\n",
    "with_tasks_eval: EvaluationScenario = evaluations['with_tasks']\n",
    "with_instances_eval: EvaluationScenario = evaluations['with_instances']\n",
    "with_penalty_eval: EvaluationScenario = evaluations['with_penalty_loss']\n",
    "\n",
    "evaluation_list: list[EvaluationScenario] = [no_tasks_eval, with_tasks_eval, with_instances_eval, with_penalty_eval]"
   ]
  },
  {
   "cell_type": "code",
   "execution_count": 8,
   "metadata": {},
   "outputs": [],
   "source": [
    "with_small_batch_eval: EvaluationScenario = evaluations['with_small_batch_size']\n",
    "with_medium_batch_eval: EvaluationScenario = evaluations['with_medium_batch_size']\n",
    "with_large_batch_eval: EvaluationScenario = evaluations['with_large_batch_size']"
   ]
  },
  {
   "cell_type": "code",
   "execution_count": 11,
   "metadata": {},
   "outputs": [
    {
     "data": {
      "text/plain": [
       "<AxesSubplot:>"
      ]
     },
     "execution_count": 11,
     "metadata": {},
     "output_type": "execute_result"
    },
    {
     "data": {
      "image/png": "[encoded data removed]",
      "text/plain": [
       "<Figure size 432x288 with 1 Axes>"
      ]
     },
     "metadata": {
      "needs_background": "light"
     },
     "output_type": "display_data"
    }
   ],
   "source": [
    "no_tasks_eval.get_loss_series()"
   ]
  },
  {
   "cell_type": "code",
   "execution_count": 12,
   "metadata": {},
   "outputs": [
    {
     "data": {
      "text/plain": [
       "<AxesSubplot:>"
      ]
     },
     "execution_count": 12,
     "metadata": {},
     "output_type": "execute_result"
    },
    {
     "data": {
      "image/png": "[encoded data removed]",
      "text/plain": [
       "<Figure size 432x288 with 1 Axes>"
      ]
     },
     "metadata": {
      "needs_background": "light"
     },
     "output_type": "display_data"
    }
   ],
   "source": [
    "with_tasks_eval.get_loss_series()"
   ]
  },
  {
   "cell_type": "code",
   "execution_count": 51,
   "metadata": {},
   "outputs": [],
   "source": [
    "loss_df: pd.DataFrame = pd.DataFrame(data=[eval.get_loss_series() for eval in evaluation_list], index=[eval.name for eval in evaluation_list])\n",
    "training_df: pd.DataFrame = pd.DataFrame(data=[eval.get_training_time_series() for eval in evaluation_list], index=[eval.name for eval in evaluation_list])"
   ]
  },
  {
   "cell_type": "code",
   "execution_count": 59,
   "metadata": {},
   "outputs": [
    {
     "data": {
      "text/html": [
       "<div>\n",
       "<style scoped>\n",
       "    .dataframe tbody tr th:only-of-type {\n",
       "        vertical-align: middle;\n",
       "    }\n",
       "\n",
       "    .dataframe tbody tr th {\n",
       "        vertical-align: top;\n",
       "    }\n",
       "\n",
       "    .dataframe thead th {\n",
       "        text-align: right;\n",
       "    }\n",
       "</style>\n",
       "<table border=\"1\" class=\"dataframe\">\n",
       "  <thead>\n",
       "    <tr style=\"text-align: right;\">\n",
       "      <th></th>\n",
       "      <th>with_no_tasks</th>\n",
       "      <th>with_tasks</th>\n",
       "      <th>with_instances</th>\n",
       "      <th>with_penalty_loss</th>\n",
       "    </tr>\n",
       "  </thead>\n",
       "  <tbody>\n",
       "    <tr>\n",
       "      <th>count</th>\n",
       "      <td>100.000000</td>\n",
       "      <td>100.000000</td>\n",
       "      <td>100.000000</td>\n",
       "      <td>100.000000</td>\n",
       "    </tr>\n",
       "    <tr>\n",
       "      <th>mean</th>\n",
       "      <td>0.015376</td>\n",
       "      <td>0.010729</td>\n",
       "      <td>0.015204</td>\n",
       "      <td>0.017239</td>\n",
       "    </tr>\n",
       "    <tr>\n",
       "      <th>std</th>\n",
       "      <td>0.063238</td>\n",
       "      <td>0.046830</td>\n",
       "      <td>0.087523</td>\n",
       "      <td>0.089312</td>\n",
       "    </tr>\n",
       "    <tr>\n",
       "      <th>min</th>\n",
       "      <td>0.006771</td>\n",
       "      <td>0.004423</td>\n",
       "      <td>0.004066</td>\n",
       "      <td>0.005711</td>\n",
       "    </tr>\n",
       "    <tr>\n",
       "      <th>25%</th>\n",
       "      <td>0.006800</td>\n",
       "      <td>0.004462</td>\n",
       "      <td>0.004094</td>\n",
       "      <td>0.005931</td>\n",
       "    </tr>\n",
       "    <tr>\n",
       "      <th>50%</th>\n",
       "      <td>0.006853</td>\n",
       "      <td>0.004519</td>\n",
       "      <td>0.004159</td>\n",
       "      <td>0.006035</td>\n",
       "    </tr>\n",
       "    <tr>\n",
       "      <th>75%</th>\n",
       "      <td>0.006963</td>\n",
       "      <td>0.004658</td>\n",
       "      <td>0.004402</td>\n",
       "      <td>0.006328</td>\n",
       "    </tr>\n",
       "    <tr>\n",
       "      <th>max</th>\n",
       "      <td>0.618601</td>\n",
       "      <td>0.455552</td>\n",
       "      <td>0.869226</td>\n",
       "      <td>0.890990</td>\n",
       "    </tr>\n",
       "  </tbody>\n",
       "</table>\n",
       "</div>"
      ],
      "text/plain": [
       "       with_no_tasks  with_tasks  with_instances  with_penalty_loss\n",
       "count     100.000000  100.000000      100.000000         100.000000\n",
       "mean        0.015376    0.010729        0.015204           0.017239\n",
       "std         0.063238    0.046830        0.087523           0.089312\n",
       "min         0.006771    0.004423        0.004066           0.005711\n",
       "25%         0.006800    0.004462        0.004094           0.005931\n",
       "50%         0.006853    0.004519        0.004159           0.006035\n",
       "75%         0.006963    0.004658        0.004402           0.006328\n",
       "max         0.618601    0.455552        0.869226           0.890990"
      ]
     },
     "execution_count": 59,
     "metadata": {},
     "output_type": "execute_result"
    }
   ],
   "source": [
    "loss_df.transpose().describe()"
   ]
  },
  {
   "cell_type": "code",
   "execution_count": 64,
   "metadata": {},
   "outputs": [
    {
     "data": {
      "text/html": [
       "<div>\n",
       "<style scoped>\n",
       "    .dataframe tbody tr th:only-of-type {\n",
       "        vertical-align: middle;\n",
       "    }\n",
       "\n",
       "    .dataframe tbody tr th {\n",
       "        vertical-align: top;\n",
       "    }\n",
       "\n",
       "    .dataframe thead th {\n",
       "        text-align: right;\n",
       "    }\n",
       "</style>\n",
       "<table border=\"1\" class=\"dataframe\">\n",
       "  <thead>\n",
       "    <tr style=\"text-align: right;\">\n",
       "      <th></th>\n",
       "      <th>0</th>\n",
       "      <th>1</th>\n",
       "      <th>2</th>\n",
       "      <th>3</th>\n",
       "      <th>4</th>\n",
       "      <th>5</th>\n",
       "      <th>6</th>\n",
       "      <th>7</th>\n",
       "      <th>8</th>\n",
       "      <th>9</th>\n",
       "      <th>...</th>\n",
       "      <th>90</th>\n",
       "      <th>91</th>\n",
       "      <th>92</th>\n",
       "      <th>93</th>\n",
       "      <th>94</th>\n",
       "      <th>95</th>\n",
       "      <th>96</th>\n",
       "      <th>97</th>\n",
       "      <th>98</th>\n",
       "      <th>99</th>\n",
       "    </tr>\n",
       "  </thead>\n",
       "  <tbody>\n",
       "    <tr>\n",
       "      <th>with_no_tasks</th>\n",
       "      <td>2.565120</td>\n",
       "      <td>2.253248</td>\n",
       "      <td>2.333392</td>\n",
       "      <td>2.343554</td>\n",
       "      <td>2.286338</td>\n",
       "      <td>2.380280</td>\n",
       "      <td>2.286885</td>\n",
       "      <td>2.278762</td>\n",
       "      <td>2.550892</td>\n",
       "      <td>2.330532</td>\n",
       "      <td>...</td>\n",
       "      <td>2.324643</td>\n",
       "      <td>2.461544</td>\n",
       "      <td>2.410812</td>\n",
       "      <td>2.330715</td>\n",
       "      <td>2.472698</td>\n",
       "      <td>2.376855</td>\n",
       "      <td>2.349579</td>\n",
       "      <td>2.510087</td>\n",
       "      <td>2.399146</td>\n",
       "      <td>2.299107</td>\n",
       "    </tr>\n",
       "    <tr>\n",
       "      <th>with_tasks</th>\n",
       "      <td>2.689758</td>\n",
       "      <td>2.354043</td>\n",
       "      <td>2.494981</td>\n",
       "      <td>2.264600</td>\n",
       "      <td>2.402554</td>\n",
       "      <td>2.449773</td>\n",
       "      <td>2.399804</td>\n",
       "      <td>2.507748</td>\n",
       "      <td>2.186895</td>\n",
       "      <td>2.443986</td>\n",
       "      <td>...</td>\n",
       "      <td>2.355612</td>\n",
       "      <td>2.303922</td>\n",
       "      <td>2.385484</td>\n",
       "      <td>2.387487</td>\n",
       "      <td>2.275026</td>\n",
       "      <td>2.266495</td>\n",
       "      <td>2.321701</td>\n",
       "      <td>2.346961</td>\n",
       "      <td>2.344471</td>\n",
       "      <td>2.237451</td>\n",
       "    </tr>\n",
       "    <tr>\n",
       "      <th>with_instances</th>\n",
       "      <td>2.599348</td>\n",
       "      <td>2.169696</td>\n",
       "      <td>2.269222</td>\n",
       "      <td>2.300601</td>\n",
       "      <td>2.230183</td>\n",
       "      <td>2.273550</td>\n",
       "      <td>2.385047</td>\n",
       "      <td>2.358978</td>\n",
       "      <td>2.326625</td>\n",
       "      <td>2.360580</td>\n",
       "      <td>...</td>\n",
       "      <td>2.310119</td>\n",
       "      <td>2.276816</td>\n",
       "      <td>2.376158</td>\n",
       "      <td>2.280592</td>\n",
       "      <td>2.247723</td>\n",
       "      <td>2.324217</td>\n",
       "      <td>2.313639</td>\n",
       "      <td>2.388379</td>\n",
       "      <td>2.299270</td>\n",
       "      <td>2.371502</td>\n",
       "    </tr>\n",
       "    <tr>\n",
       "      <th>with_penalty_loss</th>\n",
       "      <td>2.893040</td>\n",
       "      <td>2.332694</td>\n",
       "      <td>2.329393</td>\n",
       "      <td>2.309979</td>\n",
       "      <td>2.400788</td>\n",
       "      <td>2.441980</td>\n",
       "      <td>2.355844</td>\n",
       "      <td>2.454944</td>\n",
       "      <td>2.356948</td>\n",
       "      <td>2.449204</td>\n",
       "      <td>...</td>\n",
       "      <td>2.504669</td>\n",
       "      <td>2.424406</td>\n",
       "      <td>2.323186</td>\n",
       "      <td>2.347662</td>\n",
       "      <td>2.305288</td>\n",
       "      <td>2.414257</td>\n",
       "      <td>2.305414</td>\n",
       "      <td>2.447799</td>\n",
       "      <td>2.473414</td>\n",
       "      <td>2.385952</td>\n",
       "    </tr>\n",
       "  </tbody>\n",
       "</table>\n",
       "<p>4 rows × 100 columns</p>\n",
       "</div>"
      ],
      "text/plain": [
       "                          0         1         2         3         4         5  \\\n",
       "with_no_tasks      2.565120  2.253248  2.333392  2.343554  2.286338  2.380280   \n",
       "with_tasks         2.689758  2.354043  2.494981  2.264600  2.402554  2.449773   \n",
       "with_instances     2.599348  2.169696  2.269222  2.300601  2.230183  2.273550   \n",
       "with_penalty_loss  2.893040  2.332694  2.329393  2.309979  2.400788  2.441980   \n",
       "\n",
       "                          6         7         8         9  ...        90  \\\n",
       "with_no_tasks      2.286885  2.278762  2.550892  2.330532  ...  2.324643   \n",
       "with_tasks         2.399804  2.507748  2.186895  2.443986  ...  2.355612   \n",
       "with_instances     2.385047  2.358978  2.326625  2.360580  ...  2.310119   \n",
       "with_penalty_loss  2.355844  2.454944  2.356948  2.449204  ...  2.504669   \n",
       "\n",
       "                         91        92        93        94        95        96  \\\n",
       "with_no_tasks      2.461544  2.410812  2.330715  2.472698  2.376855  2.349579   \n",
       "with_tasks         2.303922  2.385484  2.387487  2.275026  2.266495  2.321701   \n",
       "with_instances     2.276816  2.376158  2.280592  2.247723  2.324217  2.313639   \n",
       "with_penalty_loss  2.424406  2.323186  2.347662  2.305288  2.414257  2.305414   \n",
       "\n",
       "                         97        98        99  \n",
       "with_no_tasks      2.510087  2.399146  2.299107  \n",
       "with_tasks         2.346961  2.344471  2.237451  \n",
       "with_instances     2.388379  2.299270  2.371502  \n",
       "with_penalty_loss  2.447799  2.473414  2.385952  \n",
       "\n",
       "[4 rows x 100 columns]"
      ]
     },
     "execution_count": 64,
     "metadata": {},
     "output_type": "execute_result"
    }
   ],
   "source": [
    "training_df"
   ]
  },
  {
   "cell_type": "code",
   "execution_count": 63,
   "metadata": {},
   "outputs": [
    {
     "name": "stdout",
     "output_type": "stream",
     "text": [
      "\\begin{tabular}{lrrrr}\n",
      "\\toprule\n",
      "{} &  with\\_no\\_tasks &  with\\_tasks &  with\\_instances &  with\\_penalty\\_loss \\\\\n",
      "\\midrule\n",
      "count &       100.0000 &    100.0000 &        100.0000 &           100.0000 \\\\\n",
      "mean  &         2.3487 &      2.3853 &          2.3042 &             2.4001 \\\\\n",
      "std   &         0.0729 &      0.0949 &          0.0621 &             0.0922 \\\\\n",
      "min   &         2.2285 &      2.1869 &          2.1697 &             2.2086 \\\\\n",
      "25\\%   &         2.2992 &      2.3263 &          2.2709 &             2.3438 \\\\\n",
      "50\\%   &         2.3319 &      2.3759 &          2.3091 &             2.3788 \\\\\n",
      "75\\%   &         2.3922 &      2.4442 &          2.3353 &             2.4506 \\\\\n",
      "max   &         2.5651 &      2.6898 &          2.5993 &             2.8930 \\\\\n",
      "\\bottomrule\n",
      "\\end{tabular}\n",
      "\n"
     ]
    },
    {
     "name": "stderr",
     "output_type": "stream",
     "text": [
      "/var/folders/dj/hxzphr3j0617vybm1xdwl_tw0000gn/T/ipykernel_67572/2780188355.py:1: FutureWarning: In future versions `DataFrame.to_latex` is expected to utilise the base implementation of `Styler.to_latex` for formatting and rendering. The arguments signature may therefore change. It is recommended instead to use `DataFrame.style.to_latex` which also contains additional functionality.\n",
      "  print(training_df.transpose().describe().round(4).to_latex())\n"
     ]
    }
   ],
   "source": [
    "print(training_df.transpose().describe().round(4).to_latex())"
   ]
  }
 ],
 "metadata": {
  "kernelspec": {
   "display_name": "ml_pytorch",
   "language": "python",
   "name": "python3"
  },
  "language_info": {
   "codemirror_mode": {
    "name": "ipython",
    "version": 3
   },
   "file_extension": ".py",
   "mimetype": "text/x-python",
   "name": "python",
   "nbconvert_exporter": "python",
   "pygments_lexer": "ipython3",
   "version": "3.9.16"
  },
  "orig_nbformat": 4
 },
 "nbformat": 4,
 "nbformat_minor": 2
}
