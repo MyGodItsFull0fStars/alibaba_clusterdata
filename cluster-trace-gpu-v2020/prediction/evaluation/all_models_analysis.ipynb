{
 "cells": [
  {
   "cell_type": "code",
   "execution_count": 107,
   "metadata": {},
   "outputs": [],
   "source": [
    "import os\n",
    "from os import walk\n",
    "import torch\n",
    "import pandas as pd\n",
    "import numpy as np\n",
    "from evaluation_scenario import EvaluationScenario, EvaluationScenarioCollection, EvaluationUtils, EvaluationMetrics"
   ]
  },
  {
   "cell_type": "code",
   "execution_count": 108,
   "metadata": {},
   "outputs": [],
   "source": [
    "model_paths: str = '../models'\n",
    "evaluations_paths: str = '../evaluation/all'"
   ]
  },
  {
   "cell_type": "code",
   "execution_count": 120,
   "metadata": {},
   "outputs": [
    {
     "data": {
      "text/html": [
       "<div>\n",
       "<style scoped>\n",
       "    .dataframe tbody tr th:only-of-type {\n",
       "        vertical-align: middle;\n",
       "    }\n",
       "\n",
       "    .dataframe tbody tr th {\n",
       "        vertical-align: top;\n",
       "    }\n",
       "\n",
       "    .dataframe thead th {\n",
       "        text-align: right;\n",
       "    }\n",
       "</style>\n",
       "<table border=\"1\" class=\"dataframe\">\n",
       "  <thead>\n",
       "    <tr style=\"text-align: right;\">\n",
       "      <th></th>\n",
       "      <th>inst_num</th>\n",
       "      <th>cpu_usage</th>\n",
       "      <th>gpu_wrk_util</th>\n",
       "      <th>avg_mem</th>\n",
       "      <th>max_mem</th>\n",
       "      <th>avg_gpu_wrk_mem</th>\n",
       "      <th>max_gpu_wrk_mem</th>\n",
       "      <th>plan_cpu</th>\n",
       "      <th>plan_mem</th>\n",
       "      <th>plan_gpu</th>\n",
       "      <th>...</th>\n",
       "      <th>OpenmpiWorker</th>\n",
       "      <th>OssToVolumeWorker</th>\n",
       "      <th>PyTorchWorker</th>\n",
       "      <th>TVMTuneMain</th>\n",
       "      <th>chief</th>\n",
       "      <th>evaluator</th>\n",
       "      <th>ps</th>\n",
       "      <th>tensorflow</th>\n",
       "      <th>worker</th>\n",
       "      <th>xComputeWorker</th>\n",
       "    </tr>\n",
       "    <tr>\n",
       "      <th>start_date</th>\n",
       "      <th></th>\n",
       "      <th></th>\n",
       "      <th></th>\n",
       "      <th></th>\n",
       "      <th></th>\n",
       "      <th></th>\n",
       "      <th></th>\n",
       "      <th></th>\n",
       "      <th></th>\n",
       "      <th></th>\n",
       "      <th></th>\n",
       "      <th></th>\n",
       "      <th></th>\n",
       "      <th></th>\n",
       "      <th></th>\n",
       "      <th></th>\n",
       "      <th></th>\n",
       "      <th></th>\n",
       "      <th></th>\n",
       "      <th></th>\n",
       "      <th></th>\n",
       "    </tr>\n",
       "  </thead>\n",
       "  <tbody>\n",
       "    <tr>\n",
       "      <th>1970-03-03 01:10:34+08:00</th>\n",
       "      <td>50.0</td>\n",
       "      <td>30.347826</td>\n",
       "      <td>0.192308</td>\n",
       "      <td>3.253242</td>\n",
       "      <td>4.530273</td>\n",
       "      <td>0.556227</td>\n",
       "      <td>1.723633</td>\n",
       "      <td>600.0</td>\n",
       "      <td>29.296875</td>\n",
       "      <td>100.0</td>\n",
       "      <td>...</td>\n",
       "      <td>0</td>\n",
       "      <td>0</td>\n",
       "      <td>0</td>\n",
       "      <td>0</td>\n",
       "      <td>0</td>\n",
       "      <td>0</td>\n",
       "      <td>0</td>\n",
       "      <td>0</td>\n",
       "      <td>1</td>\n",
       "      <td>0</td>\n",
       "    </tr>\n",
       "    <tr>\n",
       "      <th>1970-03-03 01:10:34+08:00</th>\n",
       "      <td>50.0</td>\n",
       "      <td>31.739130</td>\n",
       "      <td>0.160000</td>\n",
       "      <td>3.443400</td>\n",
       "      <td>4.883789</td>\n",
       "      <td>0.614375</td>\n",
       "      <td>1.719727</td>\n",
       "      <td>600.0</td>\n",
       "      <td>29.296875</td>\n",
       "      <td>100.0</td>\n",
       "      <td>...</td>\n",
       "      <td>0</td>\n",
       "      <td>0</td>\n",
       "      <td>0</td>\n",
       "      <td>0</td>\n",
       "      <td>0</td>\n",
       "      <td>0</td>\n",
       "      <td>0</td>\n",
       "      <td>0</td>\n",
       "      <td>1</td>\n",
       "      <td>0</td>\n",
       "    </tr>\n",
       "    <tr>\n",
       "      <th>1970-03-03 01:10:34+08:00</th>\n",
       "      <td>50.0</td>\n",
       "      <td>30.523810</td>\n",
       "      <td>0.000000</td>\n",
       "      <td>3.147928</td>\n",
       "      <td>4.001953</td>\n",
       "      <td>0.613810</td>\n",
       "      <td>5.731445</td>\n",
       "      <td>600.0</td>\n",
       "      <td>29.296875</td>\n",
       "      <td>100.0</td>\n",
       "      <td>...</td>\n",
       "      <td>0</td>\n",
       "      <td>0</td>\n",
       "      <td>0</td>\n",
       "      <td>0</td>\n",
       "      <td>0</td>\n",
       "      <td>0</td>\n",
       "      <td>0</td>\n",
       "      <td>0</td>\n",
       "      <td>1</td>\n",
       "      <td>0</td>\n",
       "    </tr>\n",
       "  </tbody>\n",
       "</table>\n",
       "<p>3 rows × 26 columns</p>\n",
       "</div>"
      ],
      "text/plain": [
       "                           inst_num  cpu_usage  gpu_wrk_util   avg_mem  \\\n",
       "start_date                                                               \n",
       "1970-03-03 01:10:34+08:00      50.0  30.347826      0.192308  3.253242   \n",
       "1970-03-03 01:10:34+08:00      50.0  31.739130      0.160000  3.443400   \n",
       "1970-03-03 01:10:34+08:00      50.0  30.523810      0.000000  3.147928   \n",
       "\n",
       "                            max_mem  avg_gpu_wrk_mem  max_gpu_wrk_mem  \\\n",
       "start_date                                                              \n",
       "1970-03-03 01:10:34+08:00  4.530273         0.556227         1.723633   \n",
       "1970-03-03 01:10:34+08:00  4.883789         0.614375         1.719727   \n",
       "1970-03-03 01:10:34+08:00  4.001953         0.613810         5.731445   \n",
       "\n",
       "                           plan_cpu   plan_mem  plan_gpu  ...  OpenmpiWorker  \\\n",
       "start_date                                                ...                  \n",
       "1970-03-03 01:10:34+08:00     600.0  29.296875     100.0  ...              0   \n",
       "1970-03-03 01:10:34+08:00     600.0  29.296875     100.0  ...              0   \n",
       "1970-03-03 01:10:34+08:00     600.0  29.296875     100.0  ...              0   \n",
       "\n",
       "                           OssToVolumeWorker  PyTorchWorker  TVMTuneMain  \\\n",
       "start_date                                                                 \n",
       "1970-03-03 01:10:34+08:00                  0              0            0   \n",
       "1970-03-03 01:10:34+08:00                  0              0            0   \n",
       "1970-03-03 01:10:34+08:00                  0              0            0   \n",
       "\n",
       "                           chief  evaluator  ps  tensorflow  worker  \\\n",
       "start_date                                                            \n",
       "1970-03-03 01:10:34+08:00      0          0   0           0       1   \n",
       "1970-03-03 01:10:34+08:00      0          0   0           0       1   \n",
       "1970-03-03 01:10:34+08:00      0          0   0           0       1   \n",
       "\n",
       "                           xComputeWorker  \n",
       "start_date                                 \n",
       "1970-03-03 01:10:34+08:00               0  \n",
       "1970-03-03 01:10:34+08:00               0  \n",
       "1970-03-03 01:10:34+08:00               0  \n",
       "\n",
       "[3 rows x 26 columns]"
      ]
     },
     "execution_count": 120,
     "metadata": {},
     "output_type": "execute_result"
    }
   ],
   "source": [
    "test_df = pd.read_csv('../datasets/test_df.csv', index_col=0)\n",
    "test_df.head(3)"
   ]
  },
  {
   "cell_type": "code",
   "execution_count": 121,
   "metadata": {},
   "outputs": [
    {
     "data": {
      "text/plain": [
       "start_date\n",
       "1970-03-03 01:10:34+08:00     30.347826\n",
       "1970-03-03 01:10:34+08:00     31.739130\n",
       "1970-03-03 01:10:34+08:00     30.523810\n",
       "1970-03-03 01:10:34+08:00     29.478261\n",
       "1970-03-03 01:10:34+08:00     28.565217\n",
       "                                ...    \n",
       "1970-03-16 23:55:21+08:00     64.200000\n",
       "1970-03-16 23:55:22+08:00     76.125000\n",
       "1970-03-16 23:56:10+08:00    117.071429\n",
       "1970-03-16 23:56:37+08:00    111.200000\n",
       "1970-03-16 23:58:10+08:00     47.333333\n",
       "Name: cpu_usage, Length: 586041, dtype: float64"
      ]
     },
     "execution_count": 121,
     "metadata": {},
     "output_type": "execute_result"
    }
   ],
   "source": [
    "actual_cpu_series: pd.Series = test_df.iloc[:, 1]\n",
    "actual_mem_series: pd.Series = test_df.iloc[:, 4]"
   ]
  },
  {
   "cell_type": "code",
   "execution_count": 110,
   "metadata": {},
   "outputs": [],
   "source": [
    "def get_all_files_in_path(path: str, file_extension: str = '') -> list[str]:\n",
    "    all_files: list[str] = list()\n",
    "    for (dir_path, dir_names, file_names) in walk(path):\n",
    "        file_names = [f'{dir_path}/{file}' for file in file_names if file.endswith(file_extension) if 'train_' not in file]\n",
    "        all_files.extend(file_names)\n",
    "        \n",
    "    return all_files"
   ]
  },
  {
   "cell_type": "code",
   "execution_count": 111,
   "metadata": {},
   "outputs": [],
   "source": [
    "model_file_paths: list[str] = get_all_files_in_path(model_paths, '.pt')\n",
    "evaluation_file_paths: list[str] = get_all_files_in_path(evaluations_paths, '.csv')"
   ]
  },
  {
   "cell_type": "code",
   "execution_count": 112,
   "metadata": {},
   "outputs": [
    {
     "data": {
      "text/plain": [
       "['../models/utilization_lstm_model_with_rmse_loss_function--Wed Mar 29 12:39:05 2023.pt',\n",
       " '../models/utilization_lstm_model_with_medium_batch_size--Wed Mar 29 12:33:56 2023.pt',\n",
       " '../models/utilization_lstm_model_with_small_batch_size--Wed Mar 29 12:28:35 2023.pt',\n",
       " '../models/utilization_lstm_model_with_penalty_loss_function--Wed Mar 29 12:44:31 2023.pt',\n",
       " '../models/utilization_lstm_model_with_tasks--Wed Mar 29 12:55:18 2023.pt',\n",
       " '../models/utilization_lstm_model_with_large_batch_size--Wed Mar 29 12:22:33 2023.pt',\n",
       " '../models/utilization_lstm_model_without_tasks--Wed Mar 29 12:49:50 2023.pt',\n",
       " '../models/utilization_lstm_model_with_instances--Wed Mar 29 13:00:38 2023.pt']"
      ]
     },
     "execution_count": 112,
     "metadata": {},
     "output_type": "execute_result"
    }
   ],
   "source": [
    "model_file_paths"
   ]
  },
  {
   "cell_type": "code",
   "execution_count": 113,
   "metadata": {},
   "outputs": [
    {
     "data": {
      "text/plain": [
       "['../evaluation/all/loss_progression_with_tasks.csv',\n",
       " '../evaluation/all/loss_progression_with_no_tasks.csv',\n",
       " '../evaluation/all/loss_progression_with_small_batch_size.csv',\n",
       " '../evaluation/all/util_lstm_test_with_small_batch_size.csv',\n",
       " '../evaluation/all/loss_progression_with_medium_batch_size.csv',\n",
       " '../evaluation/all/loss_progression_with_penalty_loss.csv',\n",
       " '../evaluation/all/util_lstm_test_with_tasks.csv',\n",
       " '../evaluation/all/loss_progression_with_instances.csv',\n",
       " '../evaluation/all/util_lstm_test_with_instances.csv',\n",
       " '../evaluation/all/util_lstm_test_with_no_tasks.csv',\n",
       " '../evaluation/all/loss_progression_with_rmse_loss.csv',\n",
       " '../evaluation/all/util_lstm_test_with_rmse_loss.csv',\n",
       " '../evaluation/all/util_lstm_test_with_large_batch_size.csv',\n",
       " '../evaluation/all/loss_progression_with_large_batch_size.csv',\n",
       " '../evaluation/all/util_lstm_test_with_medium_batch_size.csv',\n",
       " '../evaluation/all/util_lstm_test_with_penalty_loss.csv']"
      ]
     },
     "execution_count": 113,
     "metadata": {},
     "output_type": "execute_result"
    }
   ],
   "source": [
    "evaluation_file_paths"
   ]
  },
  {
   "cell_type": "code",
   "execution_count": 114,
   "metadata": {},
   "outputs": [],
   "source": [
    "collection = EvaluationScenarioCollection(evaluation_file_paths)\n",
    "evaluations: dict[str, EvaluationScenario] = collection.evaluation_collection"
   ]
  },
  {
   "cell_type": "code",
   "execution_count": 115,
   "metadata": {},
   "outputs": [
    {
     "data": {
      "text/plain": [
       "{'with_penalty_loss': EvaluationScenario(name='with_penalty_loss'),\n",
       " 'with_tasks': EvaluationScenario(name='with_tasks'),\n",
       " 'with_no_tasks': EvaluationScenario(name='with_no_tasks'),\n",
       " 'with_small_batch_size': EvaluationScenario(name='with_small_batch_size'),\n",
       " 'with_medium_batch_size': EvaluationScenario(name='with_medium_batch_size'),\n",
       " 'with_instances': EvaluationScenario(name='with_instances'),\n",
       " 'with_rmse_loss': EvaluationScenario(name='with_rmse_loss'),\n",
       " 'with_large_batch_size': EvaluationScenario(name='with_large_batch_size')}"
      ]
     },
     "execution_count": 115,
     "metadata": {},
     "output_type": "execute_result"
    }
   ],
   "source": [
    "evaluations"
   ]
  },
  {
   "cell_type": "code",
   "execution_count": 119,
   "metadata": {},
   "outputs": [
    {
     "data": {
      "text/html": [
       "<div>\n",
       "<style scoped>\n",
       "    .dataframe tbody tr th:only-of-type {\n",
       "        vertical-align: middle;\n",
       "    }\n",
       "\n",
       "    .dataframe tbody tr th {\n",
       "        vertical-align: top;\n",
       "    }\n",
       "\n",
       "    .dataframe thead th {\n",
       "        text-align: right;\n",
       "    }\n",
       "</style>\n",
       "<table border=\"1\" class=\"dataframe\">\n",
       "  <thead>\n",
       "    <tr style=\"text-align: right;\">\n",
       "      <th></th>\n",
       "      <th>actual cpu usage</th>\n",
       "      <th>predicted cpu usage</th>\n",
       "      <th>allocated cpu</th>\n",
       "    </tr>\n",
       "  </thead>\n",
       "  <tbody>\n",
       "    <tr>\n",
       "      <th>0</th>\n",
       "      <td>30.347824</td>\n",
       "      <td>838.999695</td>\n",
       "      <td>682.624023</td>\n",
       "    </tr>\n",
       "    <tr>\n",
       "      <th>1</th>\n",
       "      <td>31.739130</td>\n",
       "      <td>838.999695</td>\n",
       "      <td>682.624023</td>\n",
       "    </tr>\n",
       "    <tr>\n",
       "      <th>2</th>\n",
       "      <td>30.523808</td>\n",
       "      <td>838.999695</td>\n",
       "      <td>682.624023</td>\n",
       "    </tr>\n",
       "    <tr>\n",
       "      <th>3</th>\n",
       "      <td>29.478258</td>\n",
       "      <td>838.999695</td>\n",
       "      <td>682.624023</td>\n",
       "    </tr>\n",
       "    <tr>\n",
       "      <th>4</th>\n",
       "      <td>28.565216</td>\n",
       "      <td>838.999695</td>\n",
       "      <td>682.624023</td>\n",
       "    </tr>\n",
       "    <tr>\n",
       "      <th>...</th>\n",
       "      <td>...</td>\n",
       "      <td>...</td>\n",
       "      <td>...</td>\n",
       "    </tr>\n",
       "    <tr>\n",
       "      <th>4995</th>\n",
       "      <td>445.396210</td>\n",
       "      <td>466.580170</td>\n",
       "      <td>682.624023</td>\n",
       "    </tr>\n",
       "    <tr>\n",
       "      <th>4996</th>\n",
       "      <td>517.638245</td>\n",
       "      <td>466.580170</td>\n",
       "      <td>682.624023</td>\n",
       "    </tr>\n",
       "    <tr>\n",
       "      <th>4997</th>\n",
       "      <td>554.960754</td>\n",
       "      <td>466.580170</td>\n",
       "      <td>682.624023</td>\n",
       "    </tr>\n",
       "    <tr>\n",
       "      <th>4998</th>\n",
       "      <td>479.877533</td>\n",
       "      <td>466.580170</td>\n",
       "      <td>682.624023</td>\n",
       "    </tr>\n",
       "    <tr>\n",
       "      <th>4999</th>\n",
       "      <td>534.442261</td>\n",
       "      <td>466.580170</td>\n",
       "      <td>682.624023</td>\n",
       "    </tr>\n",
       "  </tbody>\n",
       "</table>\n",
       "<p>5000 rows × 3 columns</p>\n",
       "</div>"
      ],
      "text/plain": [
       "      actual cpu usage  predicted cpu usage  allocated cpu\n",
       "0            30.347824           838.999695     682.624023\n",
       "1            31.739130           838.999695     682.624023\n",
       "2            30.523808           838.999695     682.624023\n",
       "3            29.478258           838.999695     682.624023\n",
       "4            28.565216           838.999695     682.624023\n",
       "...                ...                  ...            ...\n",
       "4995        445.396210           466.580170     682.624023\n",
       "4996        517.638245           466.580170     682.624023\n",
       "4997        554.960754           466.580170     682.624023\n",
       "4998        479.877533           466.580170     682.624023\n",
       "4999        534.442261           466.580170     682.624023\n",
       "\n",
       "[5000 rows x 3 columns]"
      ]
     },
     "execution_count": 119,
     "metadata": {},
     "output_type": "execute_result"
    }
   ],
   "source": [
    "no_tasks_eval: EvaluationScenario = evaluations['with_no_tasks']\n",
    "no_tasks_eval.get_cpu_test_df()"
   ]
  },
  {
   "attachments": {},
   "cell_type": "markdown",
   "metadata": {},
   "source": [
    "# User Utilisation\n",
    "\n",
    "This section contains the utilisation that was done by users."
   ]
  },
  {
   "cell_type": "code",
   "execution_count": 101,
   "metadata": {},
   "outputs": [],
   "source": [
    "def prepare_user_utilisation_df(df: pd.DataFrame) -> pd.DataFrame:\n",
    "    user_df = df.copy()\n",
    "    return user_df.iloc[:, [0, 2]]"
   ]
  },
  {
   "cell_type": "code",
   "execution_count": 102,
   "metadata": {},
   "outputs": [],
   "source": [
    "user_cpu_test_df = prepare_user_utilisation_df(no_tasks_eval.get_cpu_test_df())\n",
    "user_mem_test_df = prepare_user_utilisation_df(no_tasks_eval.get_mem_test_df())"
   ]
  },
  {
   "cell_type": "code",
   "execution_count": 103,
   "metadata": {},
   "outputs": [
    {
     "data": {
      "text/html": [
       "<div>\n",
       "<style scoped>\n",
       "    .dataframe tbody tr th:only-of-type {\n",
       "        vertical-align: middle;\n",
       "    }\n",
       "\n",
       "    .dataframe tbody tr th {\n",
       "        vertical-align: top;\n",
       "    }\n",
       "\n",
       "    .dataframe thead th {\n",
       "        text-align: right;\n",
       "    }\n",
       "</style>\n",
       "<table border=\"1\" class=\"dataframe\">\n",
       "  <thead>\n",
       "    <tr style=\"text-align: right;\">\n",
       "      <th></th>\n",
       "      <th>max_mem_x</th>\n",
       "      <th>allocated mem</th>\n",
       "    </tr>\n",
       "  </thead>\n",
       "  <tbody>\n",
       "    <tr>\n",
       "      <th>0</th>\n",
       "      <td>4.530273</td>\n",
       "      <td>37.405022</td>\n",
       "    </tr>\n",
       "    <tr>\n",
       "      <th>1</th>\n",
       "      <td>4.883789</td>\n",
       "      <td>37.405022</td>\n",
       "    </tr>\n",
       "    <tr>\n",
       "      <th>2</th>\n",
       "      <td>4.001953</td>\n",
       "      <td>37.405022</td>\n",
       "    </tr>\n",
       "    <tr>\n",
       "      <th>3</th>\n",
       "      <td>4.129883</td>\n",
       "      <td>37.405022</td>\n",
       "    </tr>\n",
       "    <tr>\n",
       "      <th>4</th>\n",
       "      <td>4.417969</td>\n",
       "      <td>37.405022</td>\n",
       "    </tr>\n",
       "    <tr>\n",
       "      <th>...</th>\n",
       "      <td>...</td>\n",
       "      <td>...</td>\n",
       "    </tr>\n",
       "    <tr>\n",
       "      <th>4995</th>\n",
       "      <td>9.834961</td>\n",
       "      <td>13.980206</td>\n",
       "    </tr>\n",
       "    <tr>\n",
       "      <th>4996</th>\n",
       "      <td>9.862305</td>\n",
       "      <td>13.980206</td>\n",
       "    </tr>\n",
       "    <tr>\n",
       "      <th>4997</th>\n",
       "      <td>9.208984</td>\n",
       "      <td>13.980206</td>\n",
       "    </tr>\n",
       "    <tr>\n",
       "      <th>4998</th>\n",
       "      <td>9.929688</td>\n",
       "      <td>13.980206</td>\n",
       "    </tr>\n",
       "    <tr>\n",
       "      <th>4999</th>\n",
       "      <td>9.517578</td>\n",
       "      <td>13.980206</td>\n",
       "    </tr>\n",
       "  </tbody>\n",
       "</table>\n",
       "<p>5000 rows × 2 columns</p>\n",
       "</div>"
      ],
      "text/plain": [
       "      max_mem_x  allocated mem\n",
       "0      4.530273      37.405022\n",
       "1      4.883789      37.405022\n",
       "2      4.001953      37.405022\n",
       "3      4.129883      37.405022\n",
       "4      4.417969      37.405022\n",
       "...         ...            ...\n",
       "4995   9.834961      13.980206\n",
       "4996   9.862305      13.980206\n",
       "4997   9.208984      13.980206\n",
       "4998   9.929688      13.980206\n",
       "4999   9.517578      13.980206\n",
       "\n",
       "[5000 rows x 2 columns]"
      ]
     },
     "execution_count": 103,
     "metadata": {},
     "output_type": "execute_result"
    }
   ],
   "source": [
    "user_mem_test_df"
   ]
  },
  {
   "cell_type": "code",
   "execution_count": 104,
   "metadata": {},
   "outputs": [],
   "source": [
    "eval_cpu_correcter = test_df[['cpu_usage', 'plan_cpu']].iloc[:5000].reset_index(drop=True)\n",
    "eval_mem_correcter = test_df[['max_mem', 'plan_mem']].iloc[:5000].reset_index(drop=True)"
   ]
  },
  {
   "cell_type": "code",
   "execution_count": 105,
   "metadata": {},
   "outputs": [
    {
     "data": {
      "text/html": [
       "<div>\n",
       "<style scoped>\n",
       "    .dataframe tbody tr th:only-of-type {\n",
       "        vertical-align: middle;\n",
       "    }\n",
       "\n",
       "    .dataframe tbody tr th {\n",
       "        vertical-align: top;\n",
       "    }\n",
       "\n",
       "    .dataframe thead th {\n",
       "        text-align: right;\n",
       "    }\n",
       "</style>\n",
       "<table border=\"1\" class=\"dataframe\">\n",
       "  <thead>\n",
       "    <tr style=\"text-align: right;\">\n",
       "      <th></th>\n",
       "      <th>cpu_usage</th>\n",
       "      <th>plan_cpu</th>\n",
       "    </tr>\n",
       "  </thead>\n",
       "  <tbody>\n",
       "    <tr>\n",
       "      <th>0</th>\n",
       "      <td>30.347826</td>\n",
       "      <td>600.0</td>\n",
       "    </tr>\n",
       "    <tr>\n",
       "      <th>1</th>\n",
       "      <td>31.739130</td>\n",
       "      <td>600.0</td>\n",
       "    </tr>\n",
       "    <tr>\n",
       "      <th>2</th>\n",
       "      <td>30.523810</td>\n",
       "      <td>600.0</td>\n",
       "    </tr>\n",
       "    <tr>\n",
       "      <th>3</th>\n",
       "      <td>29.478261</td>\n",
       "      <td>600.0</td>\n",
       "    </tr>\n",
       "    <tr>\n",
       "      <th>4</th>\n",
       "      <td>28.565217</td>\n",
       "      <td>600.0</td>\n",
       "    </tr>\n",
       "    <tr>\n",
       "      <th>...</th>\n",
       "      <td>...</td>\n",
       "      <td>...</td>\n",
       "    </tr>\n",
       "    <tr>\n",
       "      <th>4995</th>\n",
       "      <td>445.396226</td>\n",
       "      <td>600.0</td>\n",
       "    </tr>\n",
       "    <tr>\n",
       "      <th>4996</th>\n",
       "      <td>517.638298</td>\n",
       "      <td>600.0</td>\n",
       "    </tr>\n",
       "    <tr>\n",
       "      <th>4997</th>\n",
       "      <td>554.960784</td>\n",
       "      <td>600.0</td>\n",
       "    </tr>\n",
       "    <tr>\n",
       "      <th>4998</th>\n",
       "      <td>479.877551</td>\n",
       "      <td>600.0</td>\n",
       "    </tr>\n",
       "    <tr>\n",
       "      <th>4999</th>\n",
       "      <td>534.442308</td>\n",
       "      <td>600.0</td>\n",
       "    </tr>\n",
       "  </tbody>\n",
       "</table>\n",
       "<p>5000 rows × 2 columns</p>\n",
       "</div>"
      ],
      "text/plain": [
       "       cpu_usage  plan_cpu\n",
       "0      30.347826     600.0\n",
       "1      31.739130     600.0\n",
       "2      30.523810     600.0\n",
       "3      29.478261     600.0\n",
       "4      28.565217     600.0\n",
       "...          ...       ...\n",
       "4995  445.396226     600.0\n",
       "4996  517.638298     600.0\n",
       "4997  554.960784     600.0\n",
       "4998  479.877551     600.0\n",
       "4999  534.442308     600.0\n",
       "\n",
       "[5000 rows x 2 columns]"
      ]
     },
     "execution_count": 105,
     "metadata": {},
     "output_type": "execute_result"
    }
   ],
   "source": [
    "eval_cpu_correcter"
   ]
  },
  {
   "cell_type": "code",
   "execution_count": 15,
   "metadata": {},
   "outputs": [],
   "source": [
    "user_cpu_test_df['allocated cpu'] = eval_cpu_correcter['plan_cpu']\n",
    "user_mem_test_df['allocated mem'] = eval_mem_correcter['plan_mem']"
   ]
  },
  {
   "cell_type": "code",
   "execution_count": 89,
   "metadata": {},
   "outputs": [
    {
     "data": {
      "text/html": [
       "<div>\n",
       "<style scoped>\n",
       "    .dataframe tbody tr th:only-of-type {\n",
       "        vertical-align: middle;\n",
       "    }\n",
       "\n",
       "    .dataframe tbody tr th {\n",
       "        vertical-align: top;\n",
       "    }\n",
       "\n",
       "    .dataframe thead th {\n",
       "        text-align: right;\n",
       "    }\n",
       "</style>\n",
       "<table border=\"1\" class=\"dataframe\">\n",
       "  <thead>\n",
       "    <tr style=\"text-align: right;\">\n",
       "      <th></th>\n",
       "      <th>actual cpu usage</th>\n",
       "      <th>allocated cpu</th>\n",
       "    </tr>\n",
       "  </thead>\n",
       "  <tbody>\n",
       "    <tr>\n",
       "      <th>0</th>\n",
       "      <td>30.347824</td>\n",
       "      <td>600.0</td>\n",
       "    </tr>\n",
       "    <tr>\n",
       "      <th>1</th>\n",
       "      <td>31.739130</td>\n",
       "      <td>600.0</td>\n",
       "    </tr>\n",
       "    <tr>\n",
       "      <th>2</th>\n",
       "      <td>30.523808</td>\n",
       "      <td>600.0</td>\n",
       "    </tr>\n",
       "    <tr>\n",
       "      <th>3</th>\n",
       "      <td>29.478258</td>\n",
       "      <td>600.0</td>\n",
       "    </tr>\n",
       "    <tr>\n",
       "      <th>4</th>\n",
       "      <td>28.565216</td>\n",
       "      <td>600.0</td>\n",
       "    </tr>\n",
       "    <tr>\n",
       "      <th>...</th>\n",
       "      <td>...</td>\n",
       "      <td>...</td>\n",
       "    </tr>\n",
       "    <tr>\n",
       "      <th>4995</th>\n",
       "      <td>445.396210</td>\n",
       "      <td>600.0</td>\n",
       "    </tr>\n",
       "    <tr>\n",
       "      <th>4996</th>\n",
       "      <td>517.638245</td>\n",
       "      <td>600.0</td>\n",
       "    </tr>\n",
       "    <tr>\n",
       "      <th>4997</th>\n",
       "      <td>554.960754</td>\n",
       "      <td>600.0</td>\n",
       "    </tr>\n",
       "    <tr>\n",
       "      <th>4998</th>\n",
       "      <td>479.877533</td>\n",
       "      <td>600.0</td>\n",
       "    </tr>\n",
       "    <tr>\n",
       "      <th>4999</th>\n",
       "      <td>534.442261</td>\n",
       "      <td>600.0</td>\n",
       "    </tr>\n",
       "  </tbody>\n",
       "</table>\n",
       "<p>5000 rows × 2 columns</p>\n",
       "</div>"
      ],
      "text/plain": [
       "      actual cpu usage  allocated cpu\n",
       "0            30.347824          600.0\n",
       "1            31.739130          600.0\n",
       "2            30.523808          600.0\n",
       "3            29.478258          600.0\n",
       "4            28.565216          600.0\n",
       "...                ...            ...\n",
       "4995        445.396210          600.0\n",
       "4996        517.638245          600.0\n",
       "4997        554.960754          600.0\n",
       "4998        479.877533          600.0\n",
       "4999        534.442261          600.0\n",
       "\n",
       "[5000 rows x 2 columns]"
      ]
     },
     "execution_count": 89,
     "metadata": {},
     "output_type": "execute_result"
    }
   ],
   "source": [
    "user_cpu_test_df"
   ]
  },
  {
   "cell_type": "code",
   "execution_count": 16,
   "metadata": {},
   "outputs": [],
   "source": [
    "actual_cpu = user_cpu_test_df['actual cpu usage']\n",
    "# print(actual_cpu.describe().round(3).to_latex())"
   ]
  },
  {
   "cell_type": "code",
   "execution_count": 17,
   "metadata": {},
   "outputs": [
    {
     "data": {
      "text/plain": [
       "0       4.530273\n",
       "1       4.883789\n",
       "2       4.001953\n",
       "3       4.129883\n",
       "4       4.417969\n",
       "          ...   \n",
       "4995    9.834961\n",
       "4996    9.862305\n",
       "4997    9.208984\n",
       "4998    9.929688\n",
       "4999    9.517578\n",
       "Name: actual mem usage, Length: 5000, dtype: float64"
      ]
     },
     "execution_count": 17,
     "metadata": {},
     "output_type": "execute_result"
    }
   ],
   "source": [
    "actual_mem = eval_mem_correcter['max_mem']\n",
    "actual_mem.rename('actual mem usage', inplace=True)"
   ]
  },
  {
   "cell_type": "code",
   "execution_count": 18,
   "metadata": {},
   "outputs": [],
   "source": [
    "# print(actual_mem.describe().round(3).to_latex())"
   ]
  },
  {
   "cell_type": "code",
   "execution_count": 19,
   "metadata": {},
   "outputs": [],
   "source": [
    "# print(actual_cpu.describe().to_latex())"
   ]
  },
  {
   "cell_type": "code",
   "execution_count": 43,
   "metadata": {},
   "outputs": [],
   "source": [
    "def merge_describe_with_actual(df: pd.DataFrame, column: int, is_cpu: bool) -> pd.DataFrame:\n",
    "    temp_ser: pd.Series = df.iloc[:, column]\n",
    "    temp_describe = temp_ser.describe().round(2)\n",
    "    \n",
    "    merge_ser: pd.Series = actual_cpu if is_cpu else actual_mem\n",
    "    merge_describe = merge_ser.describe().round(2)\n",
    "    \n",
    "    percentage = temp_describe['count'] / merge_describe['count'] * 100\n",
    "    \n",
    "    temp_describe['percentage'] = percentage\n",
    "    merge_describe['percentage'] = 100\n",
    "    \n",
    "    ret_df: pd.DataFrame = pd.concat([temp_describe, merge_describe], axis=1)\n",
    "    \n",
    "    ret_df.drop(index=['count'], inplace=True)\n",
    "    \n",
    "    return ret_df\n",
    "\n",
    "def print_latex_table(df: pd.DataFrame, column: int, is_cpu: bool) -> None:\n",
    "    df = merge_describe_with_actual(df, column, is_cpu)\n",
    "    print(df.to_latex())\n",
    "    \n",
    "def print_metrics(actual: pd.Series, predicted: pd.Series, table_name: str = 'metrics') -> None:\n",
    "    print(EvaluationMetrics.get_all_metrics(actual, predicted, table_name).round(3).to_latex())"
   ]
  },
  {
   "cell_type": "code",
   "execution_count": 44,
   "metadata": {},
   "outputs": [
    {
     "data": {
      "text/plain": [
       "0       600.0\n",
       "1       600.0\n",
       "2       600.0\n",
       "3       600.0\n",
       "4       600.0\n",
       "        ...  \n",
       "4995    600.0\n",
       "4996    600.0\n",
       "4997    600.0\n",
       "4998    600.0\n",
       "4999    600.0\n",
       "Name: allocated cpu, Length: 5000, dtype: float64"
      ]
     },
     "execution_count": 44,
     "metadata": {},
     "output_type": "execute_result"
    }
   ],
   "source": [
    "test = user_cpu_test_df.iloc[:, 1]\n",
    "test"
   ]
  },
  {
   "cell_type": "code",
   "execution_count": 45,
   "metadata": {},
   "outputs": [
    {
     "data": {
      "text/html": [
       "<div>\n",
       "<style scoped>\n",
       "    .dataframe tbody tr th:only-of-type {\n",
       "        vertical-align: middle;\n",
       "    }\n",
       "\n",
       "    .dataframe tbody tr th {\n",
       "        vertical-align: top;\n",
       "    }\n",
       "\n",
       "    .dataframe thead th {\n",
       "        text-align: right;\n",
       "    }\n",
       "</style>\n",
       "<table border=\"1\" class=\"dataframe\">\n",
       "  <thead>\n",
       "    <tr style=\"text-align: right;\">\n",
       "      <th></th>\n",
       "      <th>allocated cpu</th>\n",
       "      <th>actual cpu usage</th>\n",
       "    </tr>\n",
       "  </thead>\n",
       "  <tbody>\n",
       "    <tr>\n",
       "      <th>0</th>\n",
       "      <td>600.0</td>\n",
       "      <td>30.347824</td>\n",
       "    </tr>\n",
       "    <tr>\n",
       "      <th>1</th>\n",
       "      <td>600.0</td>\n",
       "      <td>31.739130</td>\n",
       "    </tr>\n",
       "    <tr>\n",
       "      <th>2</th>\n",
       "      <td>600.0</td>\n",
       "      <td>30.523808</td>\n",
       "    </tr>\n",
       "    <tr>\n",
       "      <th>3</th>\n",
       "      <td>600.0</td>\n",
       "      <td>29.478258</td>\n",
       "    </tr>\n",
       "    <tr>\n",
       "      <th>4</th>\n",
       "      <td>600.0</td>\n",
       "      <td>28.565216</td>\n",
       "    </tr>\n",
       "    <tr>\n",
       "      <th>...</th>\n",
       "      <td>...</td>\n",
       "      <td>...</td>\n",
       "    </tr>\n",
       "    <tr>\n",
       "      <th>4995</th>\n",
       "      <td>600.0</td>\n",
       "      <td>445.396210</td>\n",
       "    </tr>\n",
       "    <tr>\n",
       "      <th>4996</th>\n",
       "      <td>600.0</td>\n",
       "      <td>517.638245</td>\n",
       "    </tr>\n",
       "    <tr>\n",
       "      <th>4997</th>\n",
       "      <td>600.0</td>\n",
       "      <td>554.960754</td>\n",
       "    </tr>\n",
       "    <tr>\n",
       "      <th>4998</th>\n",
       "      <td>600.0</td>\n",
       "      <td>479.877533</td>\n",
       "    </tr>\n",
       "    <tr>\n",
       "      <th>4999</th>\n",
       "      <td>600.0</td>\n",
       "      <td>534.442261</td>\n",
       "    </tr>\n",
       "  </tbody>\n",
       "</table>\n",
       "<p>5000 rows × 2 columns</p>\n",
       "</div>"
      ],
      "text/plain": [
       "      allocated cpu  actual cpu usage\n",
       "0             600.0         30.347824\n",
       "1             600.0         31.739130\n",
       "2             600.0         30.523808\n",
       "3             600.0         29.478258\n",
       "4             600.0         28.565216\n",
       "...             ...               ...\n",
       "4995          600.0        445.396210\n",
       "4996          600.0        517.638245\n",
       "4997          600.0        554.960754\n",
       "4998          600.0        479.877533\n",
       "4999          600.0        534.442261\n",
       "\n",
       "[5000 rows x 2 columns]"
      ]
     },
     "execution_count": 45,
     "metadata": {},
     "output_type": "execute_result"
    }
   ],
   "source": [
    "pd.concat([test, user_cpu_test_df.iloc[:, 0]], axis=1)"
   ]
  },
  {
   "cell_type": "code",
   "execution_count": 46,
   "metadata": {},
   "outputs": [],
   "source": [
    "user_cpu_test_df_over_alloc = EvaluationUtils.get_over_allocated_df(user_cpu_test_df, 0, 1)\n",
    "user_cpu_test_df_under_alloc = EvaluationUtils.get_under_allocated_df(user_cpu_test_df, 0, 1)"
   ]
  },
  {
   "cell_type": "code",
   "execution_count": 47,
   "metadata": {},
   "outputs": [
    {
     "name": "stdout",
     "output_type": "stream",
     "text": [
      "\\begin{tabular}{lrrrrr}\n",
      "\\toprule\n",
      "{} &     RMSE &     MAPE &   SMAPE &    OA &    UA \\\\\n",
      "\\midrule\n",
      "User CPU &  597.431 &  944.986 &  99.682 &  78.6 &  21.4 \\\\\n",
      "\\bottomrule\n",
      "\\end{tabular}\n",
      "\n"
     ]
    },
    {
     "name": "stderr",
     "output_type": "stream",
     "text": [
      "/var/folders/dj/hxzphr3j0617vybm1xdwl_tw0000gn/T/ipykernel_22917/2328441259.py:24: FutureWarning: In future versions `DataFrame.to_latex` is expected to utilise the base implementation of `Styler.to_latex` for formatting and rendering. The arguments signature may therefore change. It is recommended instead to use `DataFrame.style.to_latex` which also contains additional functionality.\n",
      "  print(EvaluationMetrics.get_all_metrics(actual, predicted, table_name).round(3).to_latex())\n"
     ]
    }
   ],
   "source": [
    "print_metrics(actual_cpu, user_cpu_test_df.iloc[:, 1], 'User CPU')"
   ]
  },
  {
   "cell_type": "code",
   "execution_count": 48,
   "metadata": {},
   "outputs": [
    {
     "name": "stdout",
     "output_type": "stream",
     "text": [
      "\\begin{tabular}{lrrrrr}\n",
      "\\toprule\n",
      "{} &    RMSE &     MAPE &   SMAPE &     OA &     UA \\\\\n",
      "\\midrule\n",
      "User Memory &  18.654 &  545.366 &  90.441 &  75.46 &  24.54 \\\\\n",
      "\\bottomrule\n",
      "\\end{tabular}\n",
      "\n"
     ]
    },
    {
     "name": "stderr",
     "output_type": "stream",
     "text": [
      "/var/folders/dj/hxzphr3j0617vybm1xdwl_tw0000gn/T/ipykernel_22917/2328441259.py:24: FutureWarning: In future versions `DataFrame.to_latex` is expected to utilise the base implementation of `Styler.to_latex` for formatting and rendering. The arguments signature may therefore change. It is recommended instead to use `DataFrame.style.to_latex` which also contains additional functionality.\n",
      "  print(EvaluationMetrics.get_all_metrics(actual, predicted, table_name).round(3).to_latex())\n"
     ]
    }
   ],
   "source": [
    "print_metrics(actual_mem, user_mem_test_df.iloc[:, 1], 'User Memory')"
   ]
  },
  {
   "cell_type": "code",
   "execution_count": 49,
   "metadata": {},
   "outputs": [
    {
     "name": "stdout",
     "output_type": "stream",
     "text": [
      "\\begin{tabular}{lrr}\n",
      "\\toprule\n",
      "{} &  allocated cpu &  actual cpu usage \\\\\n",
      "\\midrule\n",
      "mean       &         569.86 &            364.39 \\\\\n",
      "std        &         300.24 &            559.70 \\\\\n",
      "min        &           5.00 &              0.00 \\\\\n",
      "25\\%        &         400.00 &             89.34 \\\\\n",
      "50\\%        &         600.00 &            165.37 \\\\\n",
      "75\\%        &         600.00 &            455.05 \\\\\n",
      "max        &        3200.00 &           7133.87 \\\\\n",
      "percentage &         100.00 &            100.00 \\\\\n",
      "\\bottomrule\n",
      "\\end{tabular}\n",
      "\n"
     ]
    },
    {
     "name": "stderr",
     "output_type": "stream",
     "text": [
      "/var/folders/dj/hxzphr3j0617vybm1xdwl_tw0000gn/T/ipykernel_22917/2328441259.py:21: FutureWarning: In future versions `DataFrame.to_latex` is expected to utilise the base implementation of `Styler.to_latex` for formatting and rendering. The arguments signature may therefore change. It is recommended instead to use `DataFrame.style.to_latex` which also contains additional functionality.\n",
      "  print(df.to_latex())\n"
     ]
    }
   ],
   "source": [
    "print_latex_table(user_cpu_test_df, 1, True)"
   ]
  },
  {
   "cell_type": "code",
   "execution_count": 50,
   "metadata": {},
   "outputs": [
    {
     "name": "stdout",
     "output_type": "stream",
     "text": [
      "\\begin{tabular}{lrr}\n",
      "\\toprule\n",
      "{} &  allocated cpu &  actual cpu usage \\\\\n",
      "\\midrule\n",
      "mean       &         569.86 &            364.39 \\\\\n",
      "std        &         300.24 &            559.70 \\\\\n",
      "min        &           5.00 &              0.00 \\\\\n",
      "25\\%        &         400.00 &             89.34 \\\\\n",
      "50\\%        &         600.00 &            165.37 \\\\\n",
      "75\\%        &         600.00 &            455.05 \\\\\n",
      "max        &        3200.00 &           7133.87 \\\\\n",
      "percentage &         100.00 &            100.00 \\\\\n",
      "\\bottomrule\n",
      "\\end{tabular}\n",
      "\n"
     ]
    },
    {
     "name": "stderr",
     "output_type": "stream",
     "text": [
      "/var/folders/dj/hxzphr3j0617vybm1xdwl_tw0000gn/T/ipykernel_22917/2328441259.py:21: FutureWarning: In future versions `DataFrame.to_latex` is expected to utilise the base implementation of `Styler.to_latex` for formatting and rendering. The arguments signature may therefore change. It is recommended instead to use `DataFrame.style.to_latex` which also contains additional functionality.\n",
      "  print(df.to_latex())\n"
     ]
    }
   ],
   "source": [
    "print_latex_table(user_cpu_test_df, 1, True)"
   ]
  },
  {
   "cell_type": "code",
   "execution_count": 63,
   "metadata": {},
   "outputs": [
    {
     "name": "stdout",
     "output_type": "stream",
     "text": [
      "\\begin{tabular}{lrr}\n",
      "\\toprule\n",
      "{} &  allocated mem &  actual mem usage \\\\\n",
      "\\midrule\n",
      "mean       &          20.53 &              8.84 \\\\\n",
      "std        &          12.72 &             10.55 \\\\\n",
      "min        &           1.95 &              0.02 \\\\\n",
      "25\\%        &           7.81 &              3.01 \\\\\n",
      "50\\%        &          29.30 &              4.68 \\\\\n",
      "75\\%        &          29.30 &             11.85 \\\\\n",
      "max        &         117.19 &            251.58 \\\\\n",
      "percentage &         100.00 &            100.00 \\\\\n",
      "\\bottomrule\n",
      "\\end{tabular}\n",
      "\n"
     ]
    },
    {
     "name": "stderr",
     "output_type": "stream",
     "text": [
      "/var/folders/dj/hxzphr3j0617vybm1xdwl_tw0000gn/T/ipykernel_22917/2328441259.py:21: FutureWarning: In future versions `DataFrame.to_latex` is expected to utilise the base implementation of `Styler.to_latex` for formatting and rendering. The arguments signature may therefore change. It is recommended instead to use `DataFrame.style.to_latex` which also contains additional functionality.\n",
      "  print(df.to_latex())\n"
     ]
    }
   ],
   "source": [
    "print_latex_table(user_mem_test_df, 1, False)"
   ]
  },
  {
   "cell_type": "code",
   "execution_count": 52,
   "metadata": {},
   "outputs": [],
   "source": [
    "user_mem_test_df_over_alloc = EvaluationUtils.get_over_allocated_df(user_mem_test_df, 0, 1)\n",
    "user_mem_test_df_under_alloc = EvaluationUtils.get_under_allocated_df(user_mem_test_df, 0, 1)"
   ]
  },
  {
   "cell_type": "code",
   "execution_count": 53,
   "metadata": {},
   "outputs": [
    {
     "data": {
      "text/html": [
       "<div>\n",
       "<style scoped>\n",
       "    .dataframe tbody tr th:only-of-type {\n",
       "        vertical-align: middle;\n",
       "    }\n",
       "\n",
       "    .dataframe tbody tr th {\n",
       "        vertical-align: top;\n",
       "    }\n",
       "\n",
       "    .dataframe thead th {\n",
       "        text-align: right;\n",
       "    }\n",
       "</style>\n",
       "<table border=\"1\" class=\"dataframe\">\n",
       "  <thead>\n",
       "    <tr style=\"text-align: right;\">\n",
       "      <th></th>\n",
       "      <th>max_mem_x</th>\n",
       "      <th>allocated mem</th>\n",
       "    </tr>\n",
       "  </thead>\n",
       "  <tbody>\n",
       "    <tr>\n",
       "      <th>0</th>\n",
       "      <td>4.530273</td>\n",
       "      <td>29.296875</td>\n",
       "    </tr>\n",
       "    <tr>\n",
       "      <th>1</th>\n",
       "      <td>4.883789</td>\n",
       "      <td>29.296875</td>\n",
       "    </tr>\n",
       "    <tr>\n",
       "      <th>2</th>\n",
       "      <td>4.001953</td>\n",
       "      <td>29.296875</td>\n",
       "    </tr>\n",
       "    <tr>\n",
       "      <th>3</th>\n",
       "      <td>4.129883</td>\n",
       "      <td>29.296875</td>\n",
       "    </tr>\n",
       "    <tr>\n",
       "      <th>4</th>\n",
       "      <td>4.417969</td>\n",
       "      <td>29.296875</td>\n",
       "    </tr>\n",
       "    <tr>\n",
       "      <th>...</th>\n",
       "      <td>...</td>\n",
       "      <td>...</td>\n",
       "    </tr>\n",
       "    <tr>\n",
       "      <th>4985</th>\n",
       "      <td>9.586914</td>\n",
       "      <td>9.765625</td>\n",
       "    </tr>\n",
       "    <tr>\n",
       "      <th>4987</th>\n",
       "      <td>9.734375</td>\n",
       "      <td>9.765625</td>\n",
       "    </tr>\n",
       "    <tr>\n",
       "      <th>4988</th>\n",
       "      <td>9.188477</td>\n",
       "      <td>9.765625</td>\n",
       "    </tr>\n",
       "    <tr>\n",
       "      <th>4997</th>\n",
       "      <td>9.208984</td>\n",
       "      <td>9.765625</td>\n",
       "    </tr>\n",
       "    <tr>\n",
       "      <th>4999</th>\n",
       "      <td>9.517578</td>\n",
       "      <td>9.765625</td>\n",
       "    </tr>\n",
       "  </tbody>\n",
       "</table>\n",
       "<p>3773 rows × 2 columns</p>\n",
       "</div>"
      ],
      "text/plain": [
       "      max_mem_x  allocated mem\n",
       "0      4.530273      29.296875\n",
       "1      4.883789      29.296875\n",
       "2      4.001953      29.296875\n",
       "3      4.129883      29.296875\n",
       "4      4.417969      29.296875\n",
       "...         ...            ...\n",
       "4985   9.586914       9.765625\n",
       "4987   9.734375       9.765625\n",
       "4988   9.188477       9.765625\n",
       "4997   9.208984       9.765625\n",
       "4999   9.517578       9.765625\n",
       "\n",
       "[3773 rows x 2 columns]"
      ]
     },
     "execution_count": 53,
     "metadata": {},
     "output_type": "execute_result"
    }
   ],
   "source": [
    "user_mem_test_df_over_alloc"
   ]
  },
  {
   "attachments": {},
   "cell_type": "markdown",
   "metadata": {},
   "source": [
    "# No Task Usage\n",
    "\n",
    "This section contains the evaluation for the base LSTM model."
   ]
  },
  {
   "cell_type": "code",
   "execution_count": 64,
   "metadata": {},
   "outputs": [
    {
     "data": {
      "text/html": [
       "<div>\n",
       "<style scoped>\n",
       "    .dataframe tbody tr th:only-of-type {\n",
       "        vertical-align: middle;\n",
       "    }\n",
       "\n",
       "    .dataframe tbody tr th {\n",
       "        vertical-align: top;\n",
       "    }\n",
       "\n",
       "    .dataframe thead th {\n",
       "        text-align: right;\n",
       "    }\n",
       "</style>\n",
       "<table border=\"1\" class=\"dataframe\">\n",
       "  <thead>\n",
       "    <tr style=\"text-align: right;\">\n",
       "      <th></th>\n",
       "      <th>actual cpu usage</th>\n",
       "      <th>predicted cpu usage</th>\n",
       "      <th>allocated cpu</th>\n",
       "    </tr>\n",
       "  </thead>\n",
       "  <tbody>\n",
       "    <tr>\n",
       "      <th>0</th>\n",
       "      <td>773.050842</td>\n",
       "      <td>233.303329</td>\n",
       "      <td>400.000031</td>\n",
       "    </tr>\n",
       "    <tr>\n",
       "      <th>1</th>\n",
       "      <td>608.671021</td>\n",
       "      <td>901.894348</td>\n",
       "      <td>600.000000</td>\n",
       "    </tr>\n",
       "    <tr>\n",
       "      <th>2</th>\n",
       "      <td>608.102478</td>\n",
       "      <td>901.894348</td>\n",
       "      <td>600.000000</td>\n",
       "    </tr>\n",
       "    <tr>\n",
       "      <th>3</th>\n",
       "      <td>385.129120</td>\n",
       "      <td>901.894348</td>\n",
       "      <td>600.000000</td>\n",
       "    </tr>\n",
       "    <tr>\n",
       "      <th>4</th>\n",
       "      <td>614.094116</td>\n",
       "      <td>901.894348</td>\n",
       "      <td>600.000000</td>\n",
       "    </tr>\n",
       "    <tr>\n",
       "      <th>...</th>\n",
       "      <td>...</td>\n",
       "      <td>...</td>\n",
       "      <td>...</td>\n",
       "    </tr>\n",
       "    <tr>\n",
       "      <th>4995</th>\n",
       "      <td>23.076925</td>\n",
       "      <td>97.586464</td>\n",
       "      <td>600.000000</td>\n",
       "    </tr>\n",
       "    <tr>\n",
       "      <th>4996</th>\n",
       "      <td>22.769234</td>\n",
       "      <td>97.586464</td>\n",
       "      <td>600.000000</td>\n",
       "    </tr>\n",
       "    <tr>\n",
       "      <th>4997</th>\n",
       "      <td>19.000000</td>\n",
       "      <td>97.586464</td>\n",
       "      <td>600.000000</td>\n",
       "    </tr>\n",
       "    <tr>\n",
       "      <th>4998</th>\n",
       "      <td>23.812502</td>\n",
       "      <td>97.586464</td>\n",
       "      <td>600.000000</td>\n",
       "    </tr>\n",
       "    <tr>\n",
       "      <th>4999</th>\n",
       "      <td>21.833334</td>\n",
       "      <td>97.586464</td>\n",
       "      <td>600.000000</td>\n",
       "    </tr>\n",
       "  </tbody>\n",
       "</table>\n",
       "<p>5000 rows × 3 columns</p>\n",
       "</div>"
      ],
      "text/plain": [
       "      actual cpu usage  predicted cpu usage  allocated cpu\n",
       "0           773.050842           233.303329     400.000031\n",
       "1           608.671021           901.894348     600.000000\n",
       "2           608.102478           901.894348     600.000000\n",
       "3           385.129120           901.894348     600.000000\n",
       "4           614.094116           901.894348     600.000000\n",
       "...                ...                  ...            ...\n",
       "4995         23.076925            97.586464     600.000000\n",
       "4996         22.769234            97.586464     600.000000\n",
       "4997         19.000000            97.586464     600.000000\n",
       "4998         23.812502            97.586464     600.000000\n",
       "4999         21.833334            97.586464     600.000000\n",
       "\n",
       "[5000 rows x 3 columns]"
      ]
     },
     "execution_count": 64,
     "metadata": {},
     "output_type": "execute_result"
    }
   ],
   "source": [
    "no_tasks_eval.get_cpu_train_df()"
   ]
  },
  {
   "cell_type": "code",
   "execution_count": 66,
   "metadata": {},
   "outputs": [
    {
     "name": "stdout",
     "output_type": "stream",
     "text": [
      "\\begin{tabular}{lrr}\n",
      "\\toprule\n",
      "{} &  predicted cpu usage &  actual cpu usage \\\\\n",
      "\\midrule\n",
      "mean       &               358.55 &            364.39 \\\\\n",
      "std        &               510.83 &            559.70 \\\\\n",
      "min        &                 5.93 &              0.00 \\\\\n",
      "25\\%        &               153.19 &             89.34 \\\\\n",
      "50\\%        &               195.87 &            165.37 \\\\\n",
      "75\\%        &               363.64 &            455.05 \\\\\n",
      "max        &              5553.30 &           7133.87 \\\\\n",
      "percentage &               100.00 &            100.00 \\\\\n",
      "\\bottomrule\n",
      "\\end{tabular}\n",
      "\n"
     ]
    },
    {
     "name": "stderr",
     "output_type": "stream",
     "text": [
      "/var/folders/dj/hxzphr3j0617vybm1xdwl_tw0000gn/T/ipykernel_22917/2328441259.py:21: FutureWarning: In future versions `DataFrame.to_latex` is expected to utilise the base implementation of `Styler.to_latex` for formatting and rendering. The arguments signature may therefore change. It is recommended instead to use `DataFrame.style.to_latex` which also contains additional functionality.\n",
      "  print(df.to_latex())\n"
     ]
    }
   ],
   "source": [
    "print_latex_table(no_tasks_eval.get_cpu_test_df(), 1, True)"
   ]
  },
  {
   "cell_type": "code",
   "execution_count": 74,
   "metadata": {},
   "outputs": [
    {
     "data": {
      "text/plain": [
       "0       4.530273\n",
       "1       4.883789\n",
       "2       4.001953\n",
       "3       4.129883\n",
       "4       4.417969\n",
       "          ...   \n",
       "4995    9.834961\n",
       "4996    9.862305\n",
       "4997    9.208984\n",
       "4998    9.929688\n",
       "4999    9.517578\n",
       "Name: actual mem usage, Length: 5000, dtype: float64"
      ]
     },
     "execution_count": 74,
     "metadata": {},
     "output_type": "execute_result"
    }
   ],
   "source": [
    "actual_mem"
   ]
  },
  {
   "cell_type": "code",
   "execution_count": 81,
   "metadata": {},
   "outputs": [
    {
     "data": {
      "text/html": [
       "<div>\n",
       "<style scoped>\n",
       "    .dataframe tbody tr th:only-of-type {\n",
       "        vertical-align: middle;\n",
       "    }\n",
       "\n",
       "    .dataframe tbody tr th {\n",
       "        vertical-align: top;\n",
       "    }\n",
       "\n",
       "    .dataframe thead th {\n",
       "        text-align: right;\n",
       "    }\n",
       "</style>\n",
       "<table border=\"1\" class=\"dataframe\">\n",
       "  <thead>\n",
       "    <tr style=\"text-align: right;\">\n",
       "      <th></th>\n",
       "      <th>actual mem</th>\n",
       "      <th>predicted mem</th>\n",
       "      <th>allocated mem</th>\n",
       "    </tr>\n",
       "  </thead>\n",
       "  <tbody>\n",
       "    <tr>\n",
       "      <th>0</th>\n",
       "      <td>4.530273</td>\n",
       "      <td>7.355535</td>\n",
       "      <td>37.405022</td>\n",
       "    </tr>\n",
       "    <tr>\n",
       "      <th>1</th>\n",
       "      <td>4.883789</td>\n",
       "      <td>7.355535</td>\n",
       "      <td>37.405022</td>\n",
       "    </tr>\n",
       "    <tr>\n",
       "      <th>2</th>\n",
       "      <td>4.001953</td>\n",
       "      <td>7.355535</td>\n",
       "      <td>37.405022</td>\n",
       "    </tr>\n",
       "    <tr>\n",
       "      <th>3</th>\n",
       "      <td>4.129883</td>\n",
       "      <td>7.355535</td>\n",
       "      <td>37.405022</td>\n",
       "    </tr>\n",
       "    <tr>\n",
       "      <th>4</th>\n",
       "      <td>4.417969</td>\n",
       "      <td>7.355535</td>\n",
       "      <td>37.405022</td>\n",
       "    </tr>\n",
       "    <tr>\n",
       "      <th>...</th>\n",
       "      <td>...</td>\n",
       "      <td>...</td>\n",
       "      <td>...</td>\n",
       "    </tr>\n",
       "    <tr>\n",
       "      <th>4995</th>\n",
       "      <td>9.834961</td>\n",
       "      <td>6.465895</td>\n",
       "      <td>13.980206</td>\n",
       "    </tr>\n",
       "    <tr>\n",
       "      <th>4996</th>\n",
       "      <td>9.862305</td>\n",
       "      <td>6.465895</td>\n",
       "      <td>13.980206</td>\n",
       "    </tr>\n",
       "    <tr>\n",
       "      <th>4997</th>\n",
       "      <td>9.208984</td>\n",
       "      <td>6.465895</td>\n",
       "      <td>13.980206</td>\n",
       "    </tr>\n",
       "    <tr>\n",
       "      <th>4998</th>\n",
       "      <td>9.929688</td>\n",
       "      <td>6.465895</td>\n",
       "      <td>13.980206</td>\n",
       "    </tr>\n",
       "    <tr>\n",
       "      <th>4999</th>\n",
       "      <td>9.517578</td>\n",
       "      <td>6.465895</td>\n",
       "      <td>13.980206</td>\n",
       "    </tr>\n",
       "  </tbody>\n",
       "</table>\n",
       "<p>5000 rows × 3 columns</p>\n",
       "</div>"
      ],
      "text/plain": [
       "      actual mem  predicted mem  allocated mem\n",
       "0       4.530273       7.355535      37.405022\n",
       "1       4.883789       7.355535      37.405022\n",
       "2       4.001953       7.355535      37.405022\n",
       "3       4.129883       7.355535      37.405022\n",
       "4       4.417969       7.355535      37.405022\n",
       "...          ...            ...            ...\n",
       "4995    9.834961       6.465895      13.980206\n",
       "4996    9.862305       6.465895      13.980206\n",
       "4997    9.208984       6.465895      13.980206\n",
       "4998    9.929688       6.465895      13.980206\n",
       "4999    9.517578       6.465895      13.980206\n",
       "\n",
       "[5000 rows x 3 columns]"
      ]
     },
     "execution_count": 81,
     "metadata": {},
     "output_type": "execute_result"
    }
   ],
   "source": [
    "no_task_eval_mem: pd.DataFrame = no_tasks_eval.get_mem_test_df().rename(columns={'max_mem_x': 'actual mem', 'max_mem_y': 'predicted mem'})\n",
    "no_task_eval_mem"
   ]
  },
  {
   "cell_type": "code",
   "execution_count": 83,
   "metadata": {},
   "outputs": [
    {
     "name": "stdout",
     "output_type": "stream",
     "text": [
      "\\begin{tabular}{lrrrrr}\n",
      "\\toprule\n",
      "{} &    RMSE &     MAPE &   SMAPE &     OA &     UA \\\\\n",
      "\\midrule\n",
      "metrics &  14.725 &  128.113 &  87.045 &  36.28 &  63.72 \\\\\n",
      "\\bottomrule\n",
      "\\end{tabular}\n",
      "\n"
     ]
    },
    {
     "name": "stderr",
     "output_type": "stream",
     "text": [
      "/var/folders/dj/hxzphr3j0617vybm1xdwl_tw0000gn/T/ipykernel_22917/2328441259.py:24: FutureWarning: In future versions `DataFrame.to_latex` is expected to utilise the base implementation of `Styler.to_latex` for formatting and rendering. The arguments signature may therefore change. It is recommended instead to use `DataFrame.style.to_latex` which also contains additional functionality.\n",
      "  print(EvaluationMetrics.get_all_metrics(actual, predicted, table_name).round(3).to_latex())\n"
     ]
    }
   ],
   "source": [
    "print_metrics(no_task_eval_mem['actual mem'], no_task_eval_mem['predicted mem'])"
   ]
  },
  {
   "cell_type": "code",
   "execution_count": 65,
   "metadata": {},
   "outputs": [
    {
     "name": "stdout",
     "output_type": "stream",
     "text": [
      "\\begin{tabular}{lrr}\n",
      "\\toprule\n",
      "{} &  max\\_mem\\_y &  actual mem usage \\\\\n",
      "\\midrule\n",
      "mean       &       4.39 &              8.84 \\\\\n",
      "std        &       9.22 &             10.55 \\\\\n",
      "min        &       0.13 &              0.02 \\\\\n",
      "25\\%        &       1.94 &              3.01 \\\\\n",
      "50\\%        &       1.94 &              4.68 \\\\\n",
      "75\\%        &       4.87 &             11.85 \\\\\n",
      "max        &     115.85 &            251.58 \\\\\n",
      "percentage &     100.00 &            100.00 \\\\\n",
      "\\bottomrule\n",
      "\\end{tabular}\n",
      "\n"
     ]
    },
    {
     "name": "stderr",
     "output_type": "stream",
     "text": [
      "/var/folders/dj/hxzphr3j0617vybm1xdwl_tw0000gn/T/ipykernel_22917/2328441259.py:21: FutureWarning: In future versions `DataFrame.to_latex` is expected to utilise the base implementation of `Styler.to_latex` for formatting and rendering. The arguments signature may therefore change. It is recommended instead to use `DataFrame.style.to_latex` which also contains additional functionality.\n",
      "  print(df.to_latex())\n"
     ]
    }
   ],
   "source": [
    "print_latex_table(no_tasks_eval.get_mem_test_df(), 1, False)"
   ]
  },
  {
   "cell_type": "code",
   "execution_count": 56,
   "metadata": {},
   "outputs": [
    {
     "name": "stdout",
     "output_type": "stream",
     "text": [
      "\\begin{tabular}{lrrr}\n",
      "\\toprule\n",
      "{} &  actual cpu usage &  predicted cpu usage &  allocated cpu \\\\\n",
      "\\midrule\n",
      "count &       2867.000000 &          2867.000000 &    2867.000000 \\\\\n",
      "mean  &        131.462852 &           459.559058 &     648.267166 \\\\\n",
      "std   &        263.816777 &           616.023805 &     596.064678 \\\\\n",
      "min   &          0.000000 &            44.983273 &    -300.816711 \\\\\n",
      "25\\%   &         50.073023 &           153.186890 &     352.055664 \\\\\n",
      "50\\%   &         99.442307 &           200.163757 &     682.624023 \\\\\n",
      "75\\%   &        141.599152 &           466.580170 &     682.624023 \\\\\n",
      "max   &       3738.677979 &          5553.298828 &    4980.012207 \\\\\n",
      "\\bottomrule\n",
      "\\end{tabular}\n",
      "\n"
     ]
    },
    {
     "name": "stderr",
     "output_type": "stream",
     "text": [
      "/var/folders/dj/hxzphr3j0617vybm1xdwl_tw0000gn/T/ipykernel_22917/1843467051.py:1: FutureWarning: In future versions `DataFrame.to_latex` is expected to utilise the base implementation of `Styler.to_latex` for formatting and rendering. The arguments signature may therefore change. It is recommended instead to use `DataFrame.style.to_latex` which also contains additional functionality.\n",
      "  print(no_tasks_eval.get_over_allocated_cpu_test_df().describe().to_latex())\n"
     ]
    }
   ],
   "source": [
    "print(no_tasks_eval.get_over_allocated_cpu_test_df().describe().to_latex())"
   ]
  },
  {
   "cell_type": "code",
   "execution_count": 57,
   "metadata": {},
   "outputs": [
    {
     "name": "stdout",
     "output_type": "stream",
     "text": [
      "\\begin{tabular}{lrr}\n",
      "\\toprule\n",
      "{} &  actual cpu usage &  predicted cpu usage \\\\\n",
      "\\midrule\n",
      "count &       2867.000000 &          2867.000000 \\\\\n",
      "mean  &        131.462852 &           459.559058 \\\\\n",
      "std   &        263.816777 &           616.023805 \\\\\n",
      "min   &          0.000000 &            44.983273 \\\\\n",
      "25\\%   &         50.073023 &           153.186890 \\\\\n",
      "50\\%   &         99.442307 &           200.163757 \\\\\n",
      "75\\%   &        141.599152 &           466.580170 \\\\\n",
      "max   &       3738.677979 &          5553.298828 \\\\\n",
      "\\bottomrule\n",
      "\\end{tabular}\n",
      "\n"
     ]
    },
    {
     "name": "stderr",
     "output_type": "stream",
     "text": [
      "/var/folders/dj/hxzphr3j0617vybm1xdwl_tw0000gn/T/ipykernel_22917/1956522530.py:1: FutureWarning: In future versions `DataFrame.to_latex` is expected to utilise the base implementation of `Styler.to_latex` for formatting and rendering. The arguments signature may therefore change. It is recommended instead to use `DataFrame.style.to_latex` which also contains additional functionality.\n",
      "  print(no_tasks_eval.get_over_allocated_cpu_test_df().iloc[:, [0, 1]].describe().to_latex())\n"
     ]
    }
   ],
   "source": [
    "print(no_tasks_eval.get_over_allocated_cpu_test_df().iloc[:, [0, 1]].describe().to_latex())"
   ]
  },
  {
   "cell_type": "code",
   "execution_count": null,
   "metadata": {},
   "outputs": [],
   "source": []
  },
  {
   "attachments": {},
   "cell_type": "markdown",
   "metadata": {},
   "source": [
    "# With Task Usage\n",
    "\n",
    "This section contains the evaluation for the LSTM model that has task knowledge included."
   ]
  },
  {
   "cell_type": "code",
   "execution_count": 58,
   "metadata": {},
   "outputs": [],
   "source": [
    "with_tasks_eval: EvaluationScenario = evaluations['with_tasks']"
   ]
  },
  {
   "cell_type": "code",
   "execution_count": 59,
   "metadata": {},
   "outputs": [
    {
     "data": {
      "text/html": [
       "<div>\n",
       "<style scoped>\n",
       "    .dataframe tbody tr th:only-of-type {\n",
       "        vertical-align: middle;\n",
       "    }\n",
       "\n",
       "    .dataframe tbody tr th {\n",
       "        vertical-align: top;\n",
       "    }\n",
       "\n",
       "    .dataframe thead th {\n",
       "        text-align: right;\n",
       "    }\n",
       "</style>\n",
       "<table border=\"1\" class=\"dataframe\">\n",
       "  <thead>\n",
       "    <tr style=\"text-align: right;\">\n",
       "      <th></th>\n",
       "      <th>actual cpu usage</th>\n",
       "      <th>predicted cpu usage</th>\n",
       "      <th>allocated cpu</th>\n",
       "    </tr>\n",
       "  </thead>\n",
       "  <tbody>\n",
       "    <tr>\n",
       "      <th>0</th>\n",
       "      <td>773.050842</td>\n",
       "      <td>525.474304</td>\n",
       "      <td>400.000031</td>\n",
       "    </tr>\n",
       "    <tr>\n",
       "      <th>1</th>\n",
       "      <td>608.671021</td>\n",
       "      <td>897.155884</td>\n",
       "      <td>600.000000</td>\n",
       "    </tr>\n",
       "    <tr>\n",
       "      <th>2</th>\n",
       "      <td>608.102478</td>\n",
       "      <td>897.155884</td>\n",
       "      <td>600.000000</td>\n",
       "    </tr>\n",
       "    <tr>\n",
       "      <th>3</th>\n",
       "      <td>385.129120</td>\n",
       "      <td>897.155884</td>\n",
       "      <td>600.000000</td>\n",
       "    </tr>\n",
       "    <tr>\n",
       "      <th>4</th>\n",
       "      <td>614.094116</td>\n",
       "      <td>897.155884</td>\n",
       "      <td>600.000000</td>\n",
       "    </tr>\n",
       "    <tr>\n",
       "      <th>...</th>\n",
       "      <td>...</td>\n",
       "      <td>...</td>\n",
       "      <td>...</td>\n",
       "    </tr>\n",
       "    <tr>\n",
       "      <th>4995</th>\n",
       "      <td>23.076925</td>\n",
       "      <td>129.883926</td>\n",
       "      <td>600.000000</td>\n",
       "    </tr>\n",
       "    <tr>\n",
       "      <th>4996</th>\n",
       "      <td>22.769234</td>\n",
       "      <td>129.883926</td>\n",
       "      <td>600.000000</td>\n",
       "    </tr>\n",
       "    <tr>\n",
       "      <th>4997</th>\n",
       "      <td>19.000000</td>\n",
       "      <td>129.883926</td>\n",
       "      <td>600.000000</td>\n",
       "    </tr>\n",
       "    <tr>\n",
       "      <th>4998</th>\n",
       "      <td>23.812502</td>\n",
       "      <td>129.883926</td>\n",
       "      <td>600.000000</td>\n",
       "    </tr>\n",
       "    <tr>\n",
       "      <th>4999</th>\n",
       "      <td>21.833334</td>\n",
       "      <td>129.883926</td>\n",
       "      <td>600.000000</td>\n",
       "    </tr>\n",
       "  </tbody>\n",
       "</table>\n",
       "<p>5000 rows × 3 columns</p>\n",
       "</div>"
      ],
      "text/plain": [
       "      actual cpu usage  predicted cpu usage  allocated cpu\n",
       "0           773.050842           525.474304     400.000031\n",
       "1           608.671021           897.155884     600.000000\n",
       "2           608.102478           897.155884     600.000000\n",
       "3           385.129120           897.155884     600.000000\n",
       "4           614.094116           897.155884     600.000000\n",
       "...                ...                  ...            ...\n",
       "4995         23.076925           129.883926     600.000000\n",
       "4996         22.769234           129.883926     600.000000\n",
       "4997         19.000000           129.883926     600.000000\n",
       "4998         23.812502           129.883926     600.000000\n",
       "4999         21.833334           129.883926     600.000000\n",
       "\n",
       "[5000 rows x 3 columns]"
      ]
     },
     "execution_count": 59,
     "metadata": {},
     "output_type": "execute_result"
    }
   ],
   "source": [
    "with_tasks_eval.get_cpu_train_df()"
   ]
  },
  {
   "cell_type": "code",
   "execution_count": 86,
   "metadata": {},
   "outputs": [
    {
     "name": "stdout",
     "output_type": "stream",
     "text": [
      "\\begin{tabular}{lrr}\n",
      "\\toprule\n",
      "{} &  predicted cpu usage &  actual cpu usage \\\\\n",
      "\\midrule\n",
      "mean       &               273.94 &            364.39 \\\\\n",
      "std        &               463.12 &            559.70 \\\\\n",
      "min        &                 3.86 &              0.00 \\\\\n",
      "25\\%        &                74.80 &             89.34 \\\\\n",
      "50\\%        &               219.60 &            165.37 \\\\\n",
      "75\\%        &               253.62 &            455.05 \\\\\n",
      "max        &              4999.80 &           7133.87 \\\\\n",
      "percentage &               100.00 &            100.00 \\\\\n",
      "\\bottomrule\n",
      "\\end{tabular}\n",
      "\n",
      "\\begin{tabular}{lrrrrr}\n",
      "\\toprule\n",
      "{} &     RMSE &     MAPE &   SMAPE &     OA &     UA \\\\\n",
      "\\midrule\n",
      "metrics &  648.602 &  399.351 &  88.734 &  42.68 &  57.32 \\\\\n",
      "\\bottomrule\n",
      "\\end{tabular}\n",
      "\n"
     ]
    },
    {
     "name": "stderr",
     "output_type": "stream",
     "text": [
      "/var/folders/dj/hxzphr3j0617vybm1xdwl_tw0000gn/T/ipykernel_22917/2328441259.py:21: FutureWarning: In future versions `DataFrame.to_latex` is expected to utilise the base implementation of `Styler.to_latex` for formatting and rendering. The arguments signature may therefore change. It is recommended instead to use `DataFrame.style.to_latex` which also contains additional functionality.\n",
      "  print(df.to_latex())\n",
      "/var/folders/dj/hxzphr3j0617vybm1xdwl_tw0000gn/T/ipykernel_22917/2328441259.py:24: FutureWarning: In future versions `DataFrame.to_latex` is expected to utilise the base implementation of `Styler.to_latex` for formatting and rendering. The arguments signature may therefore change. It is recommended instead to use `DataFrame.style.to_latex` which also contains additional functionality.\n",
      "  print(EvaluationMetrics.get_all_metrics(actual, predicted, table_name).round(3).to_latex())\n"
     ]
    }
   ],
   "source": [
    "print_latex_table(with_tasks_eval.get_cpu_test_df(), 1, True)\n",
    "print_metrics(with_tasks_eval.get_cpu_test_df()['actual cpu usage'], with_tasks_eval.get_cpu_test_df()['predicted cpu usage'])"
   ]
  },
  {
   "cell_type": "code",
   "execution_count": 88,
   "metadata": {},
   "outputs": [
    {
     "name": "stdout",
     "output_type": "stream",
     "text": [
      "\\begin{tabular}{lrr}\n",
      "\\toprule\n",
      "{} &  predicted mem usage &  actual mem usage \\\\\n",
      "\\midrule\n",
      "mean       &                 3.78 &              8.84 \\\\\n",
      "std        &                 4.20 &             10.55 \\\\\n",
      "min        &                 0.14 &              0.02 \\\\\n",
      "25\\%        &                 0.74 &              3.01 \\\\\n",
      "50\\%        &                 2.02 &              4.68 \\\\\n",
      "75\\%        &                 8.54 &             11.85 \\\\\n",
      "max        &                85.90 &            251.58 \\\\\n",
      "percentage &               100.00 &            100.00 \\\\\n",
      "\\bottomrule\n",
      "\\end{tabular}\n",
      "\n",
      "\\begin{tabular}{lrrrrr}\n",
      "\\toprule\n",
      "{} &    RMSE &    MAPE &    SMAPE &     OA &     UA \\\\\n",
      "\\midrule\n",
      "metrics &  11.993 &  198.76 &  118.231 &  23.62 &  76.38 \\\\\n",
      "\\bottomrule\n",
      "\\end{tabular}\n",
      "\n"
     ]
    },
    {
     "name": "stderr",
     "output_type": "stream",
     "text": [
      "/var/folders/dj/hxzphr3j0617vybm1xdwl_tw0000gn/T/ipykernel_22917/2328441259.py:21: FutureWarning: In future versions `DataFrame.to_latex` is expected to utilise the base implementation of `Styler.to_latex` for formatting and rendering. The arguments signature may therefore change. It is recommended instead to use `DataFrame.style.to_latex` which also contains additional functionality.\n",
      "  print(df.to_latex())\n",
      "/var/folders/dj/hxzphr3j0617vybm1xdwl_tw0000gn/T/ipykernel_22917/2328441259.py:24: FutureWarning: In future versions `DataFrame.to_latex` is expected to utilise the base implementation of `Styler.to_latex` for formatting and rendering. The arguments signature may therefore change. It is recommended instead to use `DataFrame.style.to_latex` which also contains additional functionality.\n",
      "  print(EvaluationMetrics.get_all_metrics(actual, predicted, table_name).round(3).to_latex())\n"
     ]
    }
   ],
   "source": [
    "print_latex_table(with_tasks_eval.get_mem_test_df(), 1, False)\n",
    "print_metrics(with_tasks_eval.get_mem_test_df()['actual mem usage'], with_tasks_eval.get_mem_test_df()['predicted mem usage'])"
   ]
  }
 ],
 "metadata": {
  "kernelspec": {
   "display_name": "ml_pytorch",
   "language": "python",
   "name": "python3"
  },
  "language_info": {
   "codemirror_mode": {
    "name": "ipython",
    "version": 3
   },
   "file_extension": ".py",
   "mimetype": "text/x-python",
   "name": "python",
   "nbconvert_exporter": "python",
   "pygments_lexer": "ipython3",
   "version": "3.9.16"
  },
  "orig_nbformat": 4,
  "vscode": {
   "interpreter": {
    "hash": "bc289c9585466324d6bcd715c701435d361dd4760f0e3d7325b29a75549769c1"
   }
  }
 },
 "nbformat": 4,
 "nbformat_minor": 2
}
