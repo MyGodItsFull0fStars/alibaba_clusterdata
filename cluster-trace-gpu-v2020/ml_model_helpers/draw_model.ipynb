{
 "cells": [
  {
   "cell_type": "code",
   "execution_count": 3,
   "metadata": {},
   "outputs": [],
   "source": [
    "import onnx\n",
    "from onnx.tools.net_drawer import GetPydotGraph, GetOpNodeProducer\n",
    "from onnx import ModelProto\n",
    "\n",
    "import torch\n",
    "import matplotlib.pyplot as plt\n",
    "import os"
   ]
  },
  {
   "cell_type": "code",
   "execution_count": 2,
   "metadata": {},
   "outputs": [],
   "source": [
    "model = ModelProto()\n",
    "\n",
    "with open('./models/lstm.onnx', 'rb') as f:\n",
    "    content = f.read()\n",
    "    model.ParseFromString(content)"
   ]
  },
  {
   "cell_type": "code",
   "execution_count": 4,
   "metadata": {},
   "outputs": [],
   "source": [
    "pydot_graph = GetPydotGraph(model.graph, name=model.graph.name, rankdir=\"TB\",\n",
    "                            node_producer=GetOpNodeProducer(\"docstring\"))\n",
    "pydot_graph.write_dot(\"graph.dot\")"
   ]
  },
  {
   "cell_type": "code",
   "execution_count": 6,
   "metadata": {},
   "outputs": [
    {
     "data": {
      "text/plain": [
       "0"
      ]
     },
     "execution_count": 6,
     "metadata": {},
     "output_type": "execute_result"
    }
   ],
   "source": [
    "os.system('dot -O -Tpng graph.dot')"
   ]
  },
  {
   "cell_type": "code",
   "execution_count": 7,
   "metadata": {},
   "outputs": [
    {
     "ename": "NameError",
     "evalue": "name 'plt' is not defined",
     "output_type": "error",
     "traceback": [
      "\u001b[0;31m---------------------------------------------------------------------------\u001b[0m",
      "\u001b[0;31mNameError\u001b[0m                                 Traceback (most recent call last)",
      "\u001b[1;32m/Users/macbook/Development/alibaba_clusterdata/cluster-trace-gpu-v2020/prediction/draw_model.ipynb Cell 5\u001b[0m in \u001b[0;36m<cell line: 1>\u001b[0;34m()\u001b[0m\n\u001b[0;32m----> <a href='vscode-notebook-cell:/Users/macbook/Development/alibaba_clusterdata/cluster-trace-gpu-v2020/prediction/draw_model.ipynb#W4sZmlsZQ%3D%3D?line=0'>1</a>\u001b[0m image \u001b[39m=\u001b[39m plt\u001b[39m.\u001b[39mimread(\u001b[39m\"\u001b[39m\u001b[39mgraph.dot.png\u001b[39m\u001b[39m\"\u001b[39m)\n\u001b[1;32m      <a href='vscode-notebook-cell:/Users/macbook/Development/alibaba_clusterdata/cluster-trace-gpu-v2020/prediction/draw_model.ipynb#W4sZmlsZQ%3D%3D?line=1'>2</a>\u001b[0m plt\u001b[39m.\u001b[39mimshow(image)\n\u001b[1;32m      <a href='vscode-notebook-cell:/Users/macbook/Development/alibaba_clusterdata/cluster-trace-gpu-v2020/prediction/draw_model.ipynb#W4sZmlsZQ%3D%3D?line=2'>3</a>\u001b[0m plt\u001b[39m.\u001b[39maxis(\u001b[39m'\u001b[39m\u001b[39moff\u001b[39m\u001b[39m'\u001b[39m)\n",
      "\u001b[0;31mNameError\u001b[0m: name 'plt' is not defined"
     ]
    }
   ],
   "source": [
    "image = plt.imread(\"graph.dot.png\")\n",
    "plt.imshow(image)\n",
    "plt.axis('off')"
   ]
  }
 ],
 "metadata": {
  "kernelspec": {
   "display_name": "Python 3.9.12 ('ml_pytorch')",
   "language": "python",
   "name": "python3"
  },
  "language_info": {
   "codemirror_mode": {
    "name": "ipython",
    "version": 3
   },
   "file_extension": ".py",
   "mimetype": "text/x-python",
   "name": "python",
   "nbconvert_exporter": "python",
   "pygments_lexer": "ipython3",
   "version": "3.9.12"
  },
  "orig_nbformat": 4,
  "vscode": {
   "interpreter": {
    "hash": "bc289c9585466324d6bcd715c701435d361dd4760f0e3d7325b29a75549769c1"
   }
  }
 },
 "nbformat": 4,
 "nbformat_minor": 2
}
