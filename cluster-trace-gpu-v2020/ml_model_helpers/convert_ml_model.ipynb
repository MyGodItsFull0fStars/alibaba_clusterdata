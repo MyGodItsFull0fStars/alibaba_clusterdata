{
 "cells": [
  {
   "cell_type": "markdown",
   "metadata": {},
   "source": [
    "## Importing Required Libraries"
   ]
  },
  {
   "cell_type": "code",
   "execution_count": 1,
   "metadata": {},
   "outputs": [
    {
     "name": "stderr",
     "output_type": "stream",
     "text": [
      "/Users/macbook/opt/miniconda3/envs/ml_pytorch/lib/python3.9/site-packages/tqdm/auto.py:22: TqdmWarning: IProgress not found. Please update jupyter and ipywidgets. See https://ipywidgets.readthedocs.io/en/stable/user_install.html\n",
      "  from .autonotebook import tqdm as notebook_tqdm\n"
     ]
    }
   ],
   "source": [
    "import torch\n",
    "\n",
    "from lstm_models import LSTM\n",
    "from gpu_dataloader import GPUDataset\n",
    "\n",
    "from torch.utils import tensorboard\n",
    "\n",
    "import torch.onnx\n"
   ]
  },
  {
   "cell_type": "markdown",
   "metadata": {},
   "source": [
    "## Loading the ML Model to Convert"
   ]
  },
  {
   "cell_type": "code",
   "execution_count": 2,
   "metadata": {},
   "outputs": [],
   "source": [
    "\n",
    "EPOCH = 'epoch'\n",
    "LEARNING_RATE = 'learning_rate'\n",
    "INPUT_SIZE = 'input_size'\n",
    "HIDDEN_SIZE = 'hidden_size'\n",
    "NUM_LAYERS = 'num_layers'\n",
    "NUM_CLASSES = 'num_classes'\n",
    "MODEL_STATE_DICT = 'model_state_dict'\n",
    "OPTIMIZER_STATE_DICT = 'optimizer_state_dict'\n"
   ]
  },
  {
   "cell_type": "code",
   "execution_count": 3,
   "metadata": {},
   "outputs": [],
   "source": [
    "model_file_path: str = './models/epochs-1-Thu Sep 15 17:34:21 2022'\n",
    "\n",
    "# model = LSTM()\n",
    "checkpoint = torch.load('models/epochs-1-Thu Sep 15 17:34:21 2022')\n",
    "# state_dict = torch.load(model_file_path)\n",
    "# state_dict\n",
    "\n",
    "# model.load_state_dict(state_dict)"
   ]
  },
  {
   "cell_type": "code",
   "execution_count": 4,
   "metadata": {},
   "outputs": [],
   "source": [
    "# checkpoint"
   ]
  },
  {
   "cell_type": "code",
   "execution_count": 5,
   "metadata": {},
   "outputs": [],
   "source": [
    "writer = tensorboard.SummaryWriter('./models/')"
   ]
  },
  {
   "cell_type": "code",
   "execution_count": 6,
   "metadata": {},
   "outputs": [],
   "source": [
    "input_size = checkpoint[INPUT_SIZE]\n",
    "hidden_size = checkpoint[HIDDEN_SIZE]\n",
    "num_layers = checkpoint[NUM_LAYERS]\n",
    "num_classes = checkpoint[NUM_CLASSES]\n",
    "model_dict = checkpoint[MODEL_STATE_DICT]\n",
    "optimizer_dict = checkpoint[OPTIMIZER_STATE_DICT]"
   ]
  },
  {
   "cell_type": "code",
   "execution_count": 7,
   "metadata": {},
   "outputs": [
    {
     "data": {
      "text/plain": [
       "LSTM(\n",
       "  (lstm): LSTM(19, 2432, batch_first=True)\n",
       "  (dropout): Dropout(p=0.4, inplace=False)\n",
       "  (fc_1): Linear(in_features=2432, out_features=512, bias=True)\n",
       "  (fc_2): Linear(in_features=512, out_features=256, bias=True)\n",
       "  (fc_3): Linear(in_features=256, out_features=1, bias=True)\n",
       "  (relu): LeakyReLU(negative_slope=0.01)\n",
       ")"
      ]
     },
     "execution_count": 7,
     "metadata": {},
     "output_type": "execute_result"
    }
   ],
   "source": [
    "model = LSTM(num_classes, input_size, hidden_size, num_layers, 1)\n",
    "model.load_state_dict(model_dict)\n",
    "model"
   ]
  },
  {
   "cell_type": "code",
   "execution_count": 8,
   "metadata": {},
   "outputs": [
    {
     "data": {
      "text/plain": [
       "tensor([[[ 7.7506e-01, -8.8638e-02,  9.8958e-01,  ..., -4.4614e-01,\n",
       "          -1.7427e+00, -2.0004e-02]],\n",
       "\n",
       "        [[ 4.9022e-01,  6.0645e+00,  5.8686e-01,  ..., -4.4614e-01,\n",
       "           5.7381e-01, -2.0004e-02]],\n",
       "\n",
       "        [[ 4.8924e-01,  6.0637e+00,  5.9324e-01,  ..., -4.4614e-01,\n",
       "           5.7381e-01, -2.0004e-02]],\n",
       "\n",
       "        ...,\n",
       "\n",
       "        [[ 2.1003e-01,  1.8931e+00, -4.9957e-03,  ..., -4.4614e-01,\n",
       "           5.7381e-01, -2.0004e-02]],\n",
       "\n",
       "        [[ 2.3145e-01,  1.9408e+00, -2.1926e-02,  ..., -4.4614e-01,\n",
       "           5.7381e-01, -2.0004e-02]],\n",
       "\n",
       "        [[ 2.4433e-01,  1.9058e+00, -7.2713e-03,  ..., -4.4614e-01,\n",
       "           5.7381e-01, -2.0004e-02]]])"
      ]
     },
     "execution_count": 8,
     "metadata": {},
     "output_type": "execute_result"
    }
   ],
   "source": [
    "dataset = GPUDataset(small_df=True)\n",
    "sample_input = dataset.X\n",
    "sample_input"
   ]
  },
  {
   "cell_type": "code",
   "execution_count": 9,
   "metadata": {},
   "outputs": [
    {
     "data": {
      "text/plain": [
       "tensor([ 0.7751, -0.0886,  0.9896,  ..., -0.4461,  0.5738, -0.0200])"
      ]
     },
     "execution_count": 9,
     "metadata": {},
     "output_type": "execute_result"
    }
   ],
   "source": [
    "sample_input.flatten()"
   ]
  },
  {
   "cell_type": "code",
   "execution_count": 10,
   "metadata": {},
   "outputs": [],
   "source": [
    "writer.add_graph(model, sample_input)"
   ]
  },
  {
   "cell_type": "code",
   "execution_count": 12,
   "metadata": {},
   "outputs": [
    {
     "name": "stderr",
     "output_type": "stream",
     "text": [
      "/Users/macbook/opt/miniconda3/envs/ml_pytorch/lib/python3.9/site-packages/torch/onnx/symbolic_opset9.py:3587: UserWarning: Exporting a model to ONNX with a batch_size other than 1, with a variable length with LSTM can cause an error when running the ONNX model with a different batch size. Make sure to save the model with a batch size of 1, or define the initial states (h0/c0) as inputs of the model. \n",
      "  warnings.warn(\n",
      "/Users/macbook/opt/miniconda3/envs/ml_pytorch/lib/python3.9/site-packages/torch/onnx/_patch_torch.py:67: UserWarning: The shape inference of prim::Constant type is missing, so it may result in wrong shape inference for the exported graph. Please consider adding it in symbolic function. (Triggered internally at /Users/runner/work/_temp/anaconda/conda-bld/pytorch_1659424435793/work/torch/csrc/jit/passes/onnx/shape_type_inference.cpp:1884.)\n",
      "  torch._C._jit_pass_onnx_node_shape_type_inference(\n",
      "/Users/macbook/opt/miniconda3/envs/ml_pytorch/lib/python3.9/site-packages/torch/onnx/utils.py:648: UserWarning: The shape inference of prim::Constant type is missing, so it may result in wrong shape inference for the exported graph. Please consider adding it in symbolic function. (Triggered internally at /Users/runner/work/_temp/anaconda/conda-bld/pytorch_1659424435793/work/torch/csrc/jit/passes/onnx/shape_type_inference.cpp:1884.)\n",
      "  _C._jit_pass_onnx_graph_shape_type_inference(\n",
      "/Users/macbook/opt/miniconda3/envs/ml_pytorch/lib/python3.9/site-packages/torch/onnx/utils.py:1116: UserWarning: The shape inference of prim::Constant type is missing, so it may result in wrong shape inference for the exported graph. Please consider adding it in symbolic function. (Triggered internally at /Users/runner/work/_temp/anaconda/conda-bld/pytorch_1659424435793/work/torch/csrc/jit/passes/onnx/shape_type_inference.cpp:1884.)\n",
      "  _C._jit_pass_onnx_graph_shape_type_inference(\n"
     ]
    }
   ],
   "source": [
    "torch.onnx.export(\n",
    "    model, \n",
    "    sample_input,\n",
    "    './models/lstm.onnx',\n",
    "    export_params=True,\n",
    "    input_names=['input'],\n",
    "    output_names=['output']\n",
    ")"
   ]
  }
 ],
 "metadata": {
  "kernelspec": {
   "display_name": "Python 3.9.12 ('ml_pytorch')",
   "language": "python",
   "name": "python3"
  },
  "language_info": {
   "codemirror_mode": {
    "name": "ipython",
    "version": 3
   },
   "file_extension": ".py",
   "mimetype": "text/x-python",
   "name": "python",
   "nbconvert_exporter": "python",
   "pygments_lexer": "ipython3",
   "version": "3.9.12"
  },
  "orig_nbformat": 4,
  "vscode": {
   "interpreter": {
    "hash": "bc289c9585466324d6bcd715c701435d361dd4760f0e3d7325b29a75549769c1"
   }
  }
 },
 "nbformat": 4,
 "nbformat_minor": 2
}
